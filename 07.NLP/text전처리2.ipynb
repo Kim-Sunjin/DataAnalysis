{
  "nbformat": 4,
  "nbformat_minor": 0,
  "metadata": {
    "colab": {
      "name": "text전처리2.ipynb",
      "provenance": []
    },
    "kernelspec": {
      "name": "python3",
      "display_name": "Python 3"
    },
    "language_info": {
      "name": "python"
    }
  },
  "cells": [
    {
      "cell_type": "markdown",
      "metadata": {
        "id": "i8zb9_b3cSEB"
      },
      "source": [
        "# 정규표현식(Regular Expression)"
      ]
    },
    {
      "cell_type": "code",
      "metadata": {
        "id": "2_UycNH_aJeY"
      },
      "source": [
        "import re"
      ],
      "execution_count": 1,
      "outputs": []
    },
    {
      "cell_type": "code",
      "metadata": {
        "id": "jArK21gTxpVi"
      },
      "source": [
        "r = re.compile(\"abc\")"
      ],
      "execution_count": 3,
      "outputs": []
    },
    {
      "cell_type": "code",
      "metadata": {
        "id": "AaVD_wA9xtuO"
      },
      "source": [
        "r.search('ab')"
      ],
      "execution_count": 4,
      "outputs": []
    },
    {
      "cell_type": "code",
      "metadata": {
        "id": "dxRO2RBDx0sM"
      },
      "source": [
        "r.search('abbbbbc')"
      ],
      "execution_count": 5,
      "outputs": []
    },
    {
      "cell_type": "code",
      "metadata": {
        "id": "qH-Xeepkx7NJ"
      },
      "source": [
        "r = re.compile(\"abc\""
      ],
      "execution_count": null,
      "outputs": []
    },
    {
      "cell_type": "markdown",
      "metadata": {
        "id": "4xlUSa0MyGmk"
      },
      "source": [
        "- ^기호: 시작되는 글자를 지정"
      ]
    },
    {
      "cell_type": "code",
      "metadata": {
        "id": "GKVnv-YcyKAI"
      },
      "source": [
        "re.search('^a','bbc')"
      ],
      "execution_count": 6,
      "outputs": []
    },
    {
      "cell_type": "code",
      "metadata": {
        "colab": {
          "base_uri": "https://localhost:8080/"
        },
        "id": "YpxgW-jdyNjC",
        "outputId": "9be7f9bd-03b4-45cc-9d4e-0e40c7258857"
      },
      "source": [
        "re.search('^a','ab')"
      ],
      "execution_count": 7,
      "outputs": [
        {
          "output_type": "execute_result",
          "data": {
            "text/plain": [
              "<re.Match object; span=(0, 1), match='a'>"
            ]
          },
          "metadata": {},
          "execution_count": 7
        }
      ]
    },
    {
      "cell_type": "markdown",
      "metadata": {
        "id": "Gn2LEHyeyewZ"
      },
      "source": [
        "- [숫자1,숫자2] 기호: 해당 문자를 숫자1 이상 숫자2이하만큼 반복"
      ]
    },
    {
      "cell_type": "code",
      "metadata": {
        "id": "vk6M0-DDyQe9"
      },
      "source": [
        "r = re.compile(\"ab{2,8}c\")\n",
        "r.search(\"ac\")\n",
        "r.search(\"abc\")"
      ],
      "execution_count": 8,
      "outputs": []
    },
    {
      "cell_type": "code",
      "metadata": {
        "colab": {
          "base_uri": "https://localhost:8080/"
        },
        "id": "GhhRAC2lzLsL",
        "outputId": "c1a4c0eb-5ff7-493f-8de6-cdd039ce3959"
      },
      "source": [
        "r.search(\"abbc\")"
      ],
      "execution_count": 9,
      "outputs": [
        {
          "output_type": "execute_result",
          "data": {
            "text/plain": [
              "<re.Match object; span=(0, 4), match='abbc'>"
            ]
          },
          "metadata": {},
          "execution_count": 9
        }
      ]
    },
    {
      "cell_type": "markdown",
      "metadata": {
        "id": "W4LAv5q0zQWO"
      },
      "source": [
        "- [] 기호: 문자들 중 한 개의 문자와 매치라는 의미"
      ]
    },
    {
      "cell_type": "code",
      "metadata": {
        "id": "qsWvryjszPTW"
      },
      "source": [
        "r = re.compile(\"[abc]\")\n",
        "r.search(\"zzz\")"
      ],
      "execution_count": 10,
      "outputs": []
    },
    {
      "cell_type": "code",
      "metadata": {
        "colab": {
          "base_uri": "https://localhost:8080/"
        },
        "id": "HOVBEZUIzbuw",
        "outputId": "379e4b23-e98b-4bc8-f3c8-722916fc9dff"
      },
      "source": [
        "r.search(\"baac\")"
      ],
      "execution_count": 11,
      "outputs": [
        {
          "output_type": "execute_result",
          "data": {
            "text/plain": [
              "<re.Match object; span=(0, 1), match='b'>"
            ]
          },
          "metadata": {},
          "execution_count": 11
        }
      ]
    },
    {
      "cell_type": "code",
      "metadata": {
        "id": "8ZVpCj5szeZb"
      },
      "source": [
        "re.search('[a-z]','ABC')"
      ],
      "execution_count": 12,
      "outputs": []
    },
    {
      "cell_type": "code",
      "metadata": {
        "colab": {
          "base_uri": "https://localhost:8080/"
        },
        "id": "lrmrlkVNzp2_",
        "outputId": "bd426019-ef52-41a2-b5ff-149a4c23e7b6"
      },
      "source": [
        "re.search('[a-z]','aBC')"
      ],
      "execution_count": 13,
      "outputs": [
        {
          "output_type": "execute_result",
          "data": {
            "text/plain": [
              "<re.Match object; span=(0, 1), match='a'>"
            ]
          },
          "metadata": {},
          "execution_count": 13
        }
      ]
    },
    {
      "cell_type": "markdown",
      "metadata": {
        "id": "1hI3sJjHzza1"
      },
      "source": [
        "- [^문자] 기호 : ^기호 뒤에 붙은 문자들을 제외한 모든 문자를 매치"
      ]
    },
    {
      "cell_type": "code",
      "metadata": {
        "id": "VVSVYxcTzr32"
      },
      "source": [
        "r=re.compile(\"[^abc]\")\n",
        "r.search('a')"
      ],
      "execution_count": 14,
      "outputs": []
    },
    {
      "cell_type": "code",
      "metadata": {
        "colab": {
          "base_uri": "https://localhost:8080/"
        },
        "id": "Btm7hqpI0FS5",
        "outputId": "08588a0f-553c-4db7-c16b-743de6688c04"
      },
      "source": [
        "r.search('d')"
      ],
      "execution_count": 15,
      "outputs": [
        {
          "output_type": "execute_result",
          "data": {
            "text/plain": [
              "<re.Match object; span=(0, 1), match='d'>"
            ]
          },
          "metadata": {},
          "execution_count": 15
        }
      ]
    },
    {
      "cell_type": "code",
      "metadata": {
        "id": "MgYRi9_w0HKb"
      },
      "source": [
        "# 한글과 공백을 제외한 모든 문자를 제거\n",
        "r = re.compile('[^ㄱ-ㅎ ㅏ-ㅣ 가-힣]','','^기호 뒤에 붙은 문자')"
      ],
      "execution_count": null,
      "outputs": []
    },
    {
      "cell_type": "code",
      "metadata": {
        "id": "tfDI1fOm2O_n"
      },
      "source": [
        "# match는 첫문자열부터 일치하지않으면 매치못함\n",
        "re.match('ab','kkkabc')"
      ],
      "execution_count": 16,
      "outputs": []
    },
    {
      "cell_type": "code",
      "metadata": {
        "colab": {
          "base_uri": "https://localhost:8080/"
        },
        "id": "Xjaon-9B2T1m",
        "outputId": "30219067-04e9-4990-c453-70382952cfeb"
      },
      "source": [
        "import re\n",
        "text=\"\"\"사과\n",
        "딸기\n",
        "수박\n",
        "메론\n",
        "바나나\"\"\"\n",
        "re.split(\"\\n\",text)"
      ],
      "execution_count": 17,
      "outputs": [
        {
          "output_type": "execute_result",
          "data": {
            "text/plain": [
              "['사과', '딸기', '수박', '메론', '바나나']"
            ]
          },
          "metadata": {},
          "execution_count": 17
        }
      ]
    },
    {
      "cell_type": "code",
      "metadata": {
        "colab": {
          "base_uri": "https://localhost:8080/"
        },
        "id": "8wLwwG8c2i_R",
        "outputId": "d7aa217e-9ab2-4b2c-b682-67d314e250d6"
      },
      "source": [
        "re.split('\\s',text)"
      ],
      "execution_count": 18,
      "outputs": [
        {
          "output_type": "execute_result",
          "data": {
            "text/plain": [
              "['사과', '딸기', '수박', '메론', '바나나']"
            ]
          },
          "metadata": {},
          "execution_count": 18
        }
      ]
    },
    {
      "cell_type": "markdown",
      "metadata": {
        "id": "nryzJ_H_4p0_"
      },
      "source": [
        "## 정규 표현식 텍스트 전처리 예제"
      ]
    },
    {
      "cell_type": "code",
      "metadata": {
        "colab": {
          "base_uri": "https://localhost:8080/"
        },
        "id": "GzTc00W-2oQP",
        "outputId": "9cd29a39-22d0-407f-caae-982c3c792404"
      },
      "source": [
        "text = \"\"\"100 John    PROF\n",
        "101 James   STUD\n",
        "102 Mac   STUD\"\"\"  \n",
        "\n",
        "re.split('\\s+', text) "
      ],
      "execution_count": 19,
      "outputs": [
        {
          "output_type": "execute_result",
          "data": {
            "text/plain": [
              "['100', 'John', 'PROF', '101', 'James', 'STUD', '102', 'Mac', 'STUD']"
            ]
          },
          "metadata": {},
          "execution_count": 19
        }
      ]
    },
    {
      "cell_type": "code",
      "metadata": {
        "colab": {
          "base_uri": "https://localhost:8080/"
        },
        "id": "g1VMFvXv4ymP",
        "outputId": "1e5ce941-4494-4076-d7fd-863a7cc58965"
      },
      "source": [
        "re.findall('\\d+',text)  "
      ],
      "execution_count": 20,
      "outputs": [
        {
          "output_type": "execute_result",
          "data": {
            "text/plain": [
              "['100', '101', '102']"
            ]
          },
          "metadata": {},
          "execution_count": 20
        }
      ]
    },
    {
      "cell_type": "code",
      "metadata": {
        "colab": {
          "base_uri": "https://localhost:8080/"
        },
        "id": "q7py0Wa_439t",
        "outputId": "4ef6ee90-b0b2-41c4-f62d-5f68cc39ed5e"
      },
      "source": [
        "re.findall('[A-Z]+',text)"
      ],
      "execution_count": 23,
      "outputs": [
        {
          "output_type": "execute_result",
          "data": {
            "text/plain": [
              "['J', 'PROF', 'J', 'STUD', 'M', 'STUD']"
            ]
          },
          "metadata": {},
          "execution_count": 23
        }
      ]
    },
    {
      "cell_type": "code",
      "metadata": {
        "colab": {
          "base_uri": "https://localhost:8080/"
        },
        "id": "NM_OqNg747Kf",
        "outputId": "2d342151-a4d8-43a9-b792-6459bbff14a3"
      },
      "source": [
        "re.findall('[A-Z]{4}',text)  "
      ],
      "execution_count": 22,
      "outputs": [
        {
          "output_type": "execute_result",
          "data": {
            "text/plain": [
              "['PROF', 'STUD', 'STUD']"
            ]
          },
          "metadata": {},
          "execution_count": 22
        }
      ]
    },
    {
      "cell_type": "code",
      "metadata": {
        "id": "weXg8zx_4_MZ"
      },
      "source": [
        ""
      ],
      "execution_count": null,
      "outputs": []
    }
  ]
}