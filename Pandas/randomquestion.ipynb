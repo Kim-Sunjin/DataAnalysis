{
 "cells": [
  {
   "cell_type": "code",
   "execution_count": 3,
   "source": [
    "import pandas as pd\r\n",
    "import numpy as np\r\n",
    "import matplotlib as mpl\r\n",
    "import matplotlib.pyplot as plt\r\n",
    "import random"
   ],
   "outputs": [],
   "metadata": {}
  },
  {
   "cell_type": "code",
   "execution_count": 26,
   "source": [
    "data = {\r\n",
    "    \"2015\": [[9,9,0,4,3,1,2], [3,4,4,8,7,3,7], [2,8,9,0,4,5,1], [2,4,6,6,0,5,2]],\r\n",
    "    \"2010\": [[9,6,3,1,4,8,2], [3,3,9,3,1,9,1], [2,6,3,2,0,3,5], [2,4,3,1,7,7,4]],\r\n",
    "    \"2005\": [[9,7,6,2,5,4,6], [3,5,1,2,5,4,7], [2,5,1,7,6,8,0], [2,4,5,6,0,1,6]],\r\n",
    "    \"2000\": [[9,8,5,3,9,7,2], [3,6,5,5,4,3,7], [2,4,6,6,3,3,8], [2,4,7,3,9,9,0]]\r\n",
    "}\r\n",
    "columns = [\"2015\", \"2010\", \"2005\", \"2000\"]\r\n",
    "index = [\"서울\", \"부산\", \"인천\", \"대구\"]\r\n",
    "df = pd.DataFrame(data, index=index, columns=columns)\r\n",
    "df"
   ],
   "outputs": [
    {
     "output_type": "execute_result",
     "data": {
      "text/plain": [
       "                     2015                   2010                   2005  \\\n",
       "서울  [9, 9, 0, 4, 3, 1, 2]  [9, 6, 3, 1, 4, 8, 2]  [9, 7, 6, 2, 5, 4, 6]   \n",
       "부산  [3, 4, 4, 8, 7, 3, 7]  [3, 3, 9, 3, 1, 9, 1]  [3, 5, 1, 2, 5, 4, 7]   \n",
       "인천  [2, 8, 9, 0, 4, 5, 1]  [2, 6, 3, 2, 0, 3, 5]  [2, 5, 1, 7, 6, 8, 0]   \n",
       "대구  [2, 4, 6, 6, 0, 5, 2]  [2, 4, 3, 1, 7, 7, 4]  [2, 4, 5, 6, 0, 1, 6]   \n",
       "\n",
       "                     2000  \n",
       "서울  [9, 8, 5, 3, 9, 7, 2]  \n",
       "부산  [3, 6, 5, 5, 4, 3, 7]  \n",
       "인천  [2, 4, 6, 6, 3, 3, 8]  \n",
       "대구  [2, 4, 7, 3, 9, 9, 0]  "
      ],
      "text/html": [
       "<div>\n",
       "<style scoped>\n",
       "    .dataframe tbody tr th:only-of-type {\n",
       "        vertical-align: middle;\n",
       "    }\n",
       "\n",
       "    .dataframe tbody tr th {\n",
       "        vertical-align: top;\n",
       "    }\n",
       "\n",
       "    .dataframe thead th {\n",
       "        text-align: right;\n",
       "    }\n",
       "</style>\n",
       "<table border=\"1\" class=\"dataframe\">\n",
       "  <thead>\n",
       "    <tr style=\"text-align: right;\">\n",
       "      <th></th>\n",
       "      <th>2015</th>\n",
       "      <th>2010</th>\n",
       "      <th>2005</th>\n",
       "      <th>2000</th>\n",
       "    </tr>\n",
       "  </thead>\n",
       "  <tbody>\n",
       "    <tr>\n",
       "      <th>서울</th>\n",
       "      <td>[9, 9, 0, 4, 3, 1, 2]</td>\n",
       "      <td>[9, 6, 3, 1, 4, 8, 2]</td>\n",
       "      <td>[9, 7, 6, 2, 5, 4, 6]</td>\n",
       "      <td>[9, 8, 5, 3, 9, 7, 2]</td>\n",
       "    </tr>\n",
       "    <tr>\n",
       "      <th>부산</th>\n",
       "      <td>[3, 4, 4, 8, 7, 3, 7]</td>\n",
       "      <td>[3, 3, 9, 3, 1, 9, 1]</td>\n",
       "      <td>[3, 5, 1, 2, 5, 4, 7]</td>\n",
       "      <td>[3, 6, 5, 5, 4, 3, 7]</td>\n",
       "    </tr>\n",
       "    <tr>\n",
       "      <th>인천</th>\n",
       "      <td>[2, 8, 9, 0, 4, 5, 1]</td>\n",
       "      <td>[2, 6, 3, 2, 0, 3, 5]</td>\n",
       "      <td>[2, 5, 1, 7, 6, 8, 0]</td>\n",
       "      <td>[2, 4, 6, 6, 3, 3, 8]</td>\n",
       "    </tr>\n",
       "    <tr>\n",
       "      <th>대구</th>\n",
       "      <td>[2, 4, 6, 6, 0, 5, 2]</td>\n",
       "      <td>[2, 4, 3, 1, 7, 7, 4]</td>\n",
       "      <td>[2, 4, 5, 6, 0, 1, 6]</td>\n",
       "      <td>[2, 4, 7, 3, 9, 9, 0]</td>\n",
       "    </tr>\n",
       "  </tbody>\n",
       "</table>\n",
       "</div>"
      ]
     },
     "metadata": {},
     "execution_count": 26
    }
   ],
   "metadata": {}
  },
  {
   "cell_type": "code",
   "execution_count": 27,
   "source": [
    "choice_list = df.iloc[3,0]\r\n",
    "choice_list"
   ],
   "outputs": [
    {
     "output_type": "execute_result",
     "data": {
      "text/plain": [
       "[2, 4, 6, 6, 0, 5, 2]"
      ]
     },
     "metadata": {},
     "execution_count": 27
    }
   ],
   "metadata": {}
  },
  {
   "cell_type": "code",
   "execution_count": 30,
   "source": [
    "for index in range(len(df.index)):\r\n",
    "    choice_list = df.iloc[index,random.randint(0,len(df.columns)-1)]\r\n",
    "    print(choice_list[random.randint(0,len(choice_list)-1)])"
   ],
   "outputs": [
    {
     "output_type": "stream",
     "name": "stdout",
     "text": [
      "8\n",
      "3\n",
      "6\n",
      "1\n"
     ]
    }
   ],
   "metadata": {}
  },
  {
   "cell_type": "code",
   "execution_count": null,
   "source": [],
   "outputs": [],
   "metadata": {}
  }
 ],
 "metadata": {
  "orig_nbformat": 4,
  "language_info": {
   "name": "python",
   "version": "3.8.10",
   "mimetype": "text/x-python",
   "codemirror_mode": {
    "name": "ipython",
    "version": 3
   },
   "pygments_lexer": "ipython3",
   "nbconvert_exporter": "python",
   "file_extension": ".py"
  },
  "kernelspec": {
   "name": "python3",
   "display_name": "Python 3.8.10 64-bit ('base': conda)"
  },
  "interpreter": {
   "hash": "acbbfebbbdf654efa85aa18169a14b54796a806b8c18a3c243660030e08aa454"
  }
 },
 "nbformat": 4,
 "nbformat_minor": 2
}