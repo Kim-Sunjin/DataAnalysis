{
  "nbformat": 4,
  "nbformat_minor": 0,
  "metadata": {
    "colab": {
      "name": "5회차_김선진.ipynb",
      "provenance": []
    },
    "kernelspec": {
      "name": "python3",
      "display_name": "Python 3"
    },
    "language_info": {
      "name": "python"
    }
  },
  "cells": [
    {
      "cell_type": "markdown",
      "metadata": {
        "id": "_99Ix8oTzYHN"
      },
      "source": [
        "## Unit 8. 심사문제"
      ]
    },
    {
      "cell_type": "code",
      "metadata": {
        "id": "KyCKao3HwyCE",
        "colab": {
          "base_uri": "https://localhost:8080/"
        },
        "outputId": "18e12639-2f43-43c2-b271-a647189b6e79"
      },
      "source": [
        "a, b, c, d = input(\"국어, 영어, 수학, 과학 점수를 순서대로 입력하세요>\").split()\n",
        "a = int(a)\n",
        "b = int(b)\n",
        "c = int(c)\n",
        "if a >= 90 and b > 80 and c > 85 and d >=80:\n",
        "  print('True')\n",
        "else:\n",
        "  print('False')\n"
      ],
      "execution_count": 3,
      "outputs": [
        {
          "output_type": "stream",
          "text": [
            "국어, 영어, 수학, 과학 점수를 순서대로 입력하세요>90 85 80 90\n",
            "False\n"
          ],
          "name": "stdout"
        }
      ]
    },
    {
      "cell_type": "markdown",
      "metadata": {
        "id": "YDR6I1gNzdDL"
      },
      "source": [
        "## Unit 9. 심사문제"
      ]
    },
    {
      "cell_type": "code",
      "metadata": {
        "colab": {
          "base_uri": "https://localhost:8080/"
        },
        "id": "QTd7pZpDyFUV",
        "outputId": "e8bd3674-828e-477e-879e-50c908917c7f"
      },
      "source": [
        "s = ''''Python is a \"programming language\"\n",
        "that lets you work quickly\n",
        "and\n",
        "integrate systems more effectiverly'''\n",
        "print(s)"
      ],
      "execution_count": 6,
      "outputs": [
        {
          "output_type": "stream",
          "text": [
            "'Python is a \"programming language\"\n",
            "that lets you work quickly\n",
            "and\n",
            "integrate systems more effectiverly\n"
          ],
          "name": "stdout"
        }
      ]
    },
    {
      "cell_type": "markdown",
      "metadata": {
        "id": "Ar1Q4ntd10D1"
      },
      "source": [
        "## Unit 10. 심사문제"
      ]
    },
    {
      "cell_type": "code",
      "metadata": {
        "colab": {
          "base_uri": "https://localhost:8080/"
        },
        "id": "AB08odP203Vs",
        "outputId": "59c001a5-bf42-45f4-9e45-d646155a88f3"
      },
      "source": [
        "a = tuple(range(-10,10,int(input())))\n",
        "print(a)"
      ],
      "execution_count": 9,
      "outputs": [
        {
          "output_type": "stream",
          "text": [
            "2\n",
            "(-10, -8, -6, -4, -2, 0, 2, 4, 6, 8)\n"
          ],
          "name": "stdout"
        }
      ]
    },
    {
      "cell_type": "markdown",
      "metadata": {
        "id": "OKiU20e43Bci"
      },
      "source": [
        "## Unit 11. 심사문제"
      ]
    },
    {
      "cell_type": "markdown",
      "metadata": {
        "id": "byxMnVrY3FCl"
      },
      "source": [
        "### 문제 1. 리스트의 마지막 부분 삭제하기"
      ]
    },
    {
      "cell_type": "code",
      "metadata": {
        "colab": {
          "base_uri": "https://localhost:8080/"
        },
        "id": "Dp1j14UX2PTK",
        "outputId": "775f34de-627b-469d-c027-1e580f216d01"
      },
      "source": [
        "# 리스트 x의 마지막 요소 5개를 삭제한 뒤 튜플로 출격되게 만드세요.\n",
        "x =input().split()\n",
        "if len(x) > 5: \n",
        "  del x[len(x)-5:]\n",
        "  print(tuple(x))\n",
        "else:\n",
        "  print(tuple(x))"
      ],
      "execution_count": 14,
      "outputs": [
        {
          "output_type": "stream",
          "text": [
            "1 2 3 4 5 6 7 8 9 10\n",
            "('1', '2', '3', '4', '5')\n"
          ],
          "name": "stdout"
        }
      ]
    },
    {
      "cell_type": "markdown",
      "metadata": {
        "id": "scMCl7ZS4pWC"
      },
      "source": [
        "### 문제 2. 문자열에서 인덱스가 홀수인 문자와 짝수인 문자 연결하기"
      ]
    },
    {
      "cell_type": "code",
      "metadata": {
        "colab": {
          "base_uri": "https://localhost:8080/",
          "height": 53
        },
        "id": "FMyUU_bZ3kaO",
        "outputId": "979dff07-732e-44d8-d800-f445a48d7cf2"
      },
      "source": [
        "var1, var2 = input().split()\n",
        "var1[1:len(var1):2] + var2[0:len(var2):2]"
      ],
      "execution_count": 19,
      "outputs": [
        {
          "output_type": "stream",
          "text": [
            "apple strawberry\n"
          ],
          "name": "stdout"
        },
        {
          "output_type": "execute_result",
          "data": {
            "application/vnd.google.colaboratory.intrinsic+json": {
              "type": "string"
            },
            "text/plain": [
              "'plsrwer'"
            ]
          },
          "metadata": {
            "tags": []
          },
          "execution_count": 19
        }
      ]
    },
    {
      "cell_type": "markdown",
      "metadata": {
        "id": "8XlB_g-T7Jlt"
      },
      "source": [
        "## Unit 12. 심사문제"
      ]
    },
    {
      "cell_type": "code",
      "metadata": {
        "colab": {
          "base_uri": "https://localhost:8080/"
        },
        "id": "bA_x6LSd5xUa",
        "outputId": "db89fc9c-d39c-4d7c-a3fb-fe2374f87cc8"
      },
      "source": [
        "a = input().split()\n",
        "b= map(float,input().split())\n",
        "c = dict(zip(a,b))\n",
        "print(c)"
      ],
      "execution_count": 25,
      "outputs": [
        {
          "output_type": "stream",
          "text": [
            "a b c d\n",
            "1 2 3 4\n",
            "{'a': 1.0, 'b': 2.0, 'c': 3.0, 'd': 4.0}\n"
          ],
          "name": "stdout"
        }
      ]
    },
    {
      "cell_type": "markdown",
      "metadata": {
        "id": "SbG_rQeW_1ZW"
      },
      "source": [
        "## Unit 13. 심사문제"
      ]
    },
    {
      "cell_type": "code",
      "metadata": {
        "colab": {
          "base_uri": "https://localhost:8080/"
        },
        "id": "CQcUOFv09HeY",
        "outputId": "ea30cde9-4005-41ab-9d79-975eb30a884a"
      },
      "source": [
        "price = int(input())\n",
        "cou = input()\n",
        "if cou == 'Cash3000':\n",
        "  price -=3000\n",
        "  print(price)\n",
        "if cou == 'Cash5000':\n",
        "  price-= 5000\n",
        "  print(price)"
      ],
      "execution_count": 26,
      "outputs": [
        {
          "output_type": "stream",
          "text": [
            "27000\n",
            "Cash3000\n",
            "24000\n"
          ],
          "name": "stdout"
        }
      ]
    },
    {
      "cell_type": "markdown",
      "metadata": {
        "id": "lRS5f5w6BPsi"
      },
      "source": [
        "## Unit 14. 심사문제"
      ]
    },
    {
      "cell_type": "code",
      "metadata": {
        "colab": {
          "base_uri": "https://localhost:8080/"
        },
        "id": "Oj__yGefAjLS",
        "outputId": "c627ff79-ce6f-4ae1-d573-ec3eb019d7b6"
      },
      "source": [
        "a, b, c, d = map(int,input().split())\n",
        "if 100>= a >= 0 and 100>= b >= 0 and 100>= c >= 0 and 100>= d >= 0:\n",
        "  if (a+b+c+d)/4 >=80:\n",
        "    print('합격')\n",
        "  else:\n",
        "    print('불합격')\n",
        "else:\n",
        "  print('잘못된 점수')\n"
      ],
      "execution_count": 31,
      "outputs": [
        {
          "output_type": "stream",
          "text": [
            "89 72 93 82\n",
            "합격\n"
          ],
          "name": "stdout"
        }
      ]
    }
  ]
}