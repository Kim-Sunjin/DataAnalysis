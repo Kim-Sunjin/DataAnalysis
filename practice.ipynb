{
 "cells": [
  {
   "cell_type": "code",
   "execution_count": null,
   "source": [
    "int solution(int a[], size_t a_len, int b[], size_t b_len) {\r\n",
    "    int answer = 1234567890;\r\n",
    "    retrun answer;\r\n",
    "}"
   ],
   "outputs": [],
   "metadata": {}
  },
  {
   "cell_type": "code",
   "execution_count": 1,
   "source": [
    "a = list(map(int, input().split()))\r\n",
    "b = list(map(int, input().split()))\r\n",
    "result = 0\r\n",
    "if len(a)==len(b):\r\n",
    "    for i in range(len(a)):\r\n",
    "        result += a[i]*b[i]\r\n",
    "elif len(a) != len(b):\r\n",
    "    print('두 배열의 개수가 다릅니다.')\r\n",
    "    a = list(map(int, input().split()))\r\n",
    "    b = list(map(int, input().split()))\r\n",
    "print(f'a와 b의 내적은 {result} 입니다.')\r\n"
   ],
   "outputs": [
    {
     "output_type": "stream",
     "name": "stdout",
     "text": [
      "a와 b의 내적은 3 입니다\n"
     ]
    }
   ],
   "metadata": {}
  }
 ],
 "metadata": {
  "orig_nbformat": 4,
  "language_info": {
   "name": "python",
   "version": "3.8.10",
   "mimetype": "text/x-python",
   "codemirror_mode": {
    "name": "ipython",
    "version": 3
   },
   "pygments_lexer": "ipython3",
   "nbconvert_exporter": "python",
   "file_extension": ".py"
  },
  "kernelspec": {
   "name": "python3",
   "display_name": "Python 3.8.10 64-bit ('base': conda)"
  },
  "interpreter": {
   "hash": "acbbfebbbdf654efa85aa18169a14b54796a806b8c18a3c243660030e08aa454"
  }
 },
 "nbformat": 4,
 "nbformat_minor": 2
}