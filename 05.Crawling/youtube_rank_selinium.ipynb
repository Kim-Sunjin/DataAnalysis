{
 "cells": [
  {
   "cell_type": "code",
   "execution_count": 1,
   "source": [
    "from selenium import webdriver\r\n",
    "from bs4 import BeautifulSoup\r\n",
    "import time\r\n",
    "import pandas as pd"
   ],
   "outputs": [],
   "metadata": {}
  },
  {
   "cell_type": "code",
   "execution_count": 2,
   "source": [
    "options = webdriver.ChromeOptions()\r\n",
    "options.add_argument('--headless')\r\n",
    "options.add_argument('--no-sandbox')\r\n",
    "options.add_argument(\"--single-process\")\r\n",
    "options.add_argument(\"--disable-dev-shm-usage\")\r\n",
    "driver = webdriver.Chrome('chromedriver', options=options)"
   ],
   "outputs": [],
   "metadata": {}
  },
  {
   "cell_type": "code",
   "execution_count": 5,
   "source": [
    "from tqdm import tqdm"
   ],
   "outputs": [],
   "metadata": {}
  },
  {
   "cell_type": "code",
   "execution_count": 3,
   "source": [
    "url = 'https://youtube-rank.com/board/bbs/board.php?bo_table=youtube'\r\n",
    "driver.get(url)\r\n",
    "time.sleep(2)"
   ],
   "outputs": [],
   "metadata": {}
  },
  {
   "cell_type": "code",
   "execution_count": 4,
   "source": [
    "def convert_unit(s):\r\n",
    "    s = s.replace('억','').replace('개',''). replace(',','')\r\n",
    "    s = s.replace('만','0000')\r\n",
    "    return f'{int(s):,d}'"
   ],
   "outputs": [],
   "metadata": {}
  },
  {
   "cell_type": "code",
   "execution_count": null,
   "source": [
    "window_len = len(driver.window_handles)\r\n",
    "if window_len ==2:\r\n",
    "    driver.switch_to_window(driver.window_handles[1])\r\n",
    "    driver.close()\r\n",
    "\r\n",
    "driver.switch_to_window(driver.window_handles[0])\r\n"
   ],
   "outputs": [],
   "metadata": {}
  },
  {
   "cell_type": "code",
   "execution_count": 8,
   "source": [
    "from selenium.webdriver.common.keys import Keys"
   ],
   "outputs": [],
   "metadata": {}
  },
  {
   "cell_type": "code",
   "execution_count": 10,
   "source": [
    "results = []\r\n",
    "for page in tqdm(range(1,11)):\r\n",
    "    url = 'https://youtube-rank.com/board/bbs/board.php?bo_table=youtube&page='+str(page)\r\n",
    "    driver.get(url)\r\n",
    "    time.sleep(3)\r\n",
    "\r\n",
    "    window_len = len(driver.window_handles)\r\n",
    "    if window_len ==2:\r\n",
    "        driver.switch_to_window(driver.window_handles[1])\r\n",
    "        driver.close()\r\n",
    "    driver.switch_to_window(driver.window_handles[0])\r\n",
    "    body = driver.find_element_by_css_selector('body')\r\n",
    "    for i in range(30):\r\n",
    "        body.send_keys(Keys.PAGE_DOWN)\r\n",
    "        time.sleep(1)\r\n",
    "\r\n",
    "    trs = driver.find_elements_by_css_selector('.aos-init')\r\n",
    "\r\n",
    "    for tr in trs:\r\n",
    "        category = tr.find_element_by_css_selector('p.category').text.strip(' \\n[]')\r\n",
    "        name = tr.find_element_by_css_selector('.subject a').text.strip()\r\n",
    "        subscriber = tr.find_element_by_css_selector('.subscriber_cnt').text\r\n",
    "        view = convert_unit(tr.find_element_by_css_selector('.view_cnt').text)\r\n",
    "        video = convert_unit(tr.find_element_by_css_selector('.video_cnt').text)\r\n",
    "        results.append([category,name,subscriber,view,video])"
   ],
   "outputs": [
    {
     "output_type": "stream",
     "name": "stderr",
     "text": [
      "  0%|          | 0/10 [00:00<?, ?it/s]<ipython-input-10-26f33e656d67>:11: DeprecationWarning: use driver.switch_to.window instead\n",
      "  driver.switch_to_window(driver.window_handles[0])\n",
      "100%|██████████| 10/10 [07:24<00:00, 44.49s/it]\n"
     ]
    }
   ],
   "metadata": {}
  },
  {
   "cell_type": "code",
   "execution_count": 12,
   "source": [
    "df = pd.DataFrame(results,columns=['카테고리','채널명','구독자수','조회수','동영상수'])\r\n",
    "df"
   ],
   "outputs": [
    {
     "output_type": "execute_result",
     "data": {
      "text/plain": [
       "          카테고리                          채널명   구독자수             조회수   동영상수\n",
       "0     음악/댄스/가수                    BLACKPINK  6400만  19,003,810,000    371\n",
       "1     음악/댄스/가수                  HYBE LABELS  6030만  18,713,050,000    654\n",
       "2     음악/댄스/가수                    BANGTANTV  5640만  12,194,960,000  1,579\n",
       "3     음악/댄스/가수                       SMTOWN  2850만  21,870,920,000  3,729\n",
       "4       키즈/어린이  Boram Tube Vlog [보람튜브 브이로그]  2650만  11,052,880,000    223\n",
       "..         ...                          ...    ...             ...    ...\n",
       "995         게임                           미소    51만     210,770,000  3,084\n",
       "996        미분류                    밉지않은 관종언니    51만      67,740,000    170\n",
       "997        미분류      복지마블TV [Welfare Marble]    51만      49,960,000    240\n",
       "998  음식/요리/레시피                        Muggo    51만     183,720,000  1,388\n",
       "999         게임                          임선비    51만     234,290,000  1,134\n",
       "\n",
       "[1000 rows x 5 columns]"
      ],
      "text/html": [
       "<div>\n",
       "<style scoped>\n",
       "    .dataframe tbody tr th:only-of-type {\n",
       "        vertical-align: middle;\n",
       "    }\n",
       "\n",
       "    .dataframe tbody tr th {\n",
       "        vertical-align: top;\n",
       "    }\n",
       "\n",
       "    .dataframe thead th {\n",
       "        text-align: right;\n",
       "    }\n",
       "</style>\n",
       "<table border=\"1\" class=\"dataframe\">\n",
       "  <thead>\n",
       "    <tr style=\"text-align: right;\">\n",
       "      <th></th>\n",
       "      <th>카테고리</th>\n",
       "      <th>채널명</th>\n",
       "      <th>구독자수</th>\n",
       "      <th>조회수</th>\n",
       "      <th>동영상수</th>\n",
       "    </tr>\n",
       "  </thead>\n",
       "  <tbody>\n",
       "    <tr>\n",
       "      <th>0</th>\n",
       "      <td>음악/댄스/가수</td>\n",
       "      <td>BLACKPINK</td>\n",
       "      <td>6400만</td>\n",
       "      <td>19,003,810,000</td>\n",
       "      <td>371</td>\n",
       "    </tr>\n",
       "    <tr>\n",
       "      <th>1</th>\n",
       "      <td>음악/댄스/가수</td>\n",
       "      <td>HYBE LABELS</td>\n",
       "      <td>6030만</td>\n",
       "      <td>18,713,050,000</td>\n",
       "      <td>654</td>\n",
       "    </tr>\n",
       "    <tr>\n",
       "      <th>2</th>\n",
       "      <td>음악/댄스/가수</td>\n",
       "      <td>BANGTANTV</td>\n",
       "      <td>5640만</td>\n",
       "      <td>12,194,960,000</td>\n",
       "      <td>1,579</td>\n",
       "    </tr>\n",
       "    <tr>\n",
       "      <th>3</th>\n",
       "      <td>음악/댄스/가수</td>\n",
       "      <td>SMTOWN</td>\n",
       "      <td>2850만</td>\n",
       "      <td>21,870,920,000</td>\n",
       "      <td>3,729</td>\n",
       "    </tr>\n",
       "    <tr>\n",
       "      <th>4</th>\n",
       "      <td>키즈/어린이</td>\n",
       "      <td>Boram Tube Vlog [보람튜브 브이로그]</td>\n",
       "      <td>2650만</td>\n",
       "      <td>11,052,880,000</td>\n",
       "      <td>223</td>\n",
       "    </tr>\n",
       "    <tr>\n",
       "      <th>...</th>\n",
       "      <td>...</td>\n",
       "      <td>...</td>\n",
       "      <td>...</td>\n",
       "      <td>...</td>\n",
       "      <td>...</td>\n",
       "    </tr>\n",
       "    <tr>\n",
       "      <th>995</th>\n",
       "      <td>게임</td>\n",
       "      <td>미소</td>\n",
       "      <td>51만</td>\n",
       "      <td>210,770,000</td>\n",
       "      <td>3,084</td>\n",
       "    </tr>\n",
       "    <tr>\n",
       "      <th>996</th>\n",
       "      <td>미분류</td>\n",
       "      <td>밉지않은 관종언니</td>\n",
       "      <td>51만</td>\n",
       "      <td>67,740,000</td>\n",
       "      <td>170</td>\n",
       "    </tr>\n",
       "    <tr>\n",
       "      <th>997</th>\n",
       "      <td>미분류</td>\n",
       "      <td>복지마블TV [Welfare Marble]</td>\n",
       "      <td>51만</td>\n",
       "      <td>49,960,000</td>\n",
       "      <td>240</td>\n",
       "    </tr>\n",
       "    <tr>\n",
       "      <th>998</th>\n",
       "      <td>음식/요리/레시피</td>\n",
       "      <td>Muggo</td>\n",
       "      <td>51만</td>\n",
       "      <td>183,720,000</td>\n",
       "      <td>1,388</td>\n",
       "    </tr>\n",
       "    <tr>\n",
       "      <th>999</th>\n",
       "      <td>게임</td>\n",
       "      <td>임선비</td>\n",
       "      <td>51만</td>\n",
       "      <td>234,290,000</td>\n",
       "      <td>1,134</td>\n",
       "    </tr>\n",
       "  </tbody>\n",
       "</table>\n",
       "<p>1000 rows × 5 columns</p>\n",
       "</div>"
      ]
     },
     "metadata": {},
     "execution_count": 12
    }
   ],
   "metadata": {}
  }
 ],
 "metadata": {
  "orig_nbformat": 4,
  "language_info": {
   "name": "python",
   "version": "3.8.10",
   "mimetype": "text/x-python",
   "codemirror_mode": {
    "name": "ipython",
    "version": 3
   },
   "pygments_lexer": "ipython3",
   "nbconvert_exporter": "python",
   "file_extension": ".py"
  },
  "kernelspec": {
   "name": "python3",
   "display_name": "Python 3.8.10 64-bit ('base': conda)"
  },
  "interpreter": {
   "hash": "acbbfebbbdf654efa85aa18169a14b54796a806b8c18a3c243660030e08aa454"
  }
 },
 "nbformat": 4,
 "nbformat_minor": 2
}