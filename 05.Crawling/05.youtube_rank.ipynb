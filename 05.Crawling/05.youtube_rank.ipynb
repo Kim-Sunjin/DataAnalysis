{
 "cells": [
  {
   "cell_type": "code",
   "execution_count": 1,
   "source": [
    "from selenium import webdriver\r\n",
    "from bs4 import BeautifulSoup\r\n",
    "import time\r\n",
    "import pandas as pd"
   ],
   "outputs": [],
   "metadata": {}
  },
  {
   "cell_type": "code",
   "execution_count": 2,
   "source": [
    "options = webdriver.ChromeOptions()\r\n",
    "options.add_argument('--headless')\r\n",
    "options.add_argument('--no-sandbox')\r\n",
    "options.add_argument(\"--single-process\")\r\n",
    "options.add_argument(\"--disable-dev-shm-usage\")\r\n",
    "driver = webdriver.Chrome('chromedriver', options=options)"
   ],
   "outputs": [],
   "metadata": {}
  },
  {
   "cell_type": "code",
   "execution_count": 4,
   "source": [
    "url = 'https://youtube-rank.com/board/bbs/board.php?bo_table=youtube'\r\n",
    "driver.get(url)\r\n",
    "time.sleep(2)"
   ],
   "outputs": [],
   "metadata": {}
  },
  {
   "cell_type": "code",
   "execution_count": 7,
   "source": [
    "html = driver.page_source\r\n",
    "soup = BeautifulSoup(html, 'html.parser')"
   ],
   "outputs": [],
   "metadata": {}
  },
  {
   "cell_type": "code",
   "execution_count": 8,
   "source": [
    "channer_list = soup.select('.aos-init')\r\n",
    "len(channer_list)"
   ],
   "outputs": [
    {
     "output_type": "execute_result",
     "data": {
      "text/plain": [
       "100"
      ]
     },
     "metadata": {},
     "execution_count": 8
    }
   ],
   "metadata": {}
  },
  {
   "cell_type": "code",
   "execution_count": 10,
   "source": [
    "channel = channer_list[0]\r\n",
    "category = channel.select_one('p.category').get_text().strip()\r\n",
    "category"
   ],
   "outputs": [
    {
     "output_type": "execute_result",
     "data": {
      "text/plain": [
       "'[음악/댄스/가수]'"
      ]
     },
     "metadata": {},
     "execution_count": 10
    }
   ],
   "metadata": {}
  },
  {
   "cell_type": "code",
   "execution_count": 11,
   "source": [
    "name = channel.select_one('.subject a').text.strip()"
   ],
   "outputs": [],
   "metadata": {}
  },
  {
   "cell_type": "code",
   "execution_count": 12,
   "source": [
    "name"
   ],
   "outputs": [
    {
     "output_type": "execute_result",
     "data": {
      "text/plain": [
       "'BLACKPINK'"
      ]
     },
     "metadata": {},
     "execution_count": 12
    }
   ],
   "metadata": {}
  },
  {
   "cell_type": "code",
   "execution_count": 14,
   "source": [
    "subscriber = channel.select_one('.subscriber_cnt').text\r\n",
    "view = channel.select_one('.view_cnt').text\r\n",
    "video = channel.select_one('.video_cnt').text[:-1]\r\n",
    "subscriber, view, video"
   ],
   "outputs": [
    {
     "output_type": "execute_result",
     "data": {
      "text/plain": [
       "('6400만', '190억0381만', '371')"
      ]
     },
     "metadata": {},
     "execution_count": 14
    }
   ],
   "metadata": {}
  },
  {
   "cell_type": "code",
   "execution_count": 15,
   "source": [
    "channels = []\r\n",
    "\r\n",
    "for channel in channer_list:\r\n",
    "    category = channel.select_one('p.category').get_text().strip(' \\n[]')\r\n",
    "    name = channel.select_one('.subject a').text.strip()\r\n",
    "    subscriber = channel.select_one('.subscriber_cnt').text\r\n",
    "    view = channel.select_one('.view_cnt').text\r\n",
    "    video = channel.select_one('.video_cnt').text[:-1]\r\n",
    "    channels.append([category,name,subscriber,view,video])"
   ],
   "outputs": [],
   "metadata": {}
  },
  {
   "cell_type": "code",
   "execution_count": 16,
   "source": [
    "df = pd.DataFrame(channels,columns=['카테고리','채널명','구독자수','조회수','동영상수'])\r\n",
    "df"
   ],
   "outputs": [
    {
     "output_type": "execute_result",
     "data": {
      "text/plain": [
       "         카테고리                          채널명   구독자수        조회수   동영상수\n",
       "0    음악/댄스/가수                    BLACKPINK  6400만  190억0381만    371\n",
       "1    음악/댄스/가수                  HYBE LABELS  6030만  187억1305만    654\n",
       "2    음악/댄스/가수                    BANGTANTV  5640만  121억9496만  1,579\n",
       "3    음악/댄스/가수                       SMTOWN  2850만  218억7092만  3,729\n",
       "4      키즈/어린이  Boram Tube Vlog [보람튜브 브이로그]  2650만  110억5288만    223\n",
       "..        ...                          ...    ...        ...    ...\n",
       "95  음식/요리/레시피                 까니짱 [ G-NI ]   408만   10억3471만    482\n",
       "96     키즈/어린이        로미유 스토리[Romiyu Story]   408만   10억6557만    433\n",
       "97   음악/댄스/가수                    NCT DREAM   386만    3억7422만    228\n",
       "98  BJ/인물/연예인                     허팝Heopop   381만   31억3892만  1,847\n",
       "99    애완/반려동물                       크림히어로즈   381만   13억7401만    939\n",
       "\n",
       "[100 rows x 5 columns]"
      ],
      "text/html": [
       "<div>\n",
       "<style scoped>\n",
       "    .dataframe tbody tr th:only-of-type {\n",
       "        vertical-align: middle;\n",
       "    }\n",
       "\n",
       "    .dataframe tbody tr th {\n",
       "        vertical-align: top;\n",
       "    }\n",
       "\n",
       "    .dataframe thead th {\n",
       "        text-align: right;\n",
       "    }\n",
       "</style>\n",
       "<table border=\"1\" class=\"dataframe\">\n",
       "  <thead>\n",
       "    <tr style=\"text-align: right;\">\n",
       "      <th></th>\n",
       "      <th>카테고리</th>\n",
       "      <th>채널명</th>\n",
       "      <th>구독자수</th>\n",
       "      <th>조회수</th>\n",
       "      <th>동영상수</th>\n",
       "    </tr>\n",
       "  </thead>\n",
       "  <tbody>\n",
       "    <tr>\n",
       "      <th>0</th>\n",
       "      <td>음악/댄스/가수</td>\n",
       "      <td>BLACKPINK</td>\n",
       "      <td>6400만</td>\n",
       "      <td>190억0381만</td>\n",
       "      <td>371</td>\n",
       "    </tr>\n",
       "    <tr>\n",
       "      <th>1</th>\n",
       "      <td>음악/댄스/가수</td>\n",
       "      <td>HYBE LABELS</td>\n",
       "      <td>6030만</td>\n",
       "      <td>187억1305만</td>\n",
       "      <td>654</td>\n",
       "    </tr>\n",
       "    <tr>\n",
       "      <th>2</th>\n",
       "      <td>음악/댄스/가수</td>\n",
       "      <td>BANGTANTV</td>\n",
       "      <td>5640만</td>\n",
       "      <td>121억9496만</td>\n",
       "      <td>1,579</td>\n",
       "    </tr>\n",
       "    <tr>\n",
       "      <th>3</th>\n",
       "      <td>음악/댄스/가수</td>\n",
       "      <td>SMTOWN</td>\n",
       "      <td>2850만</td>\n",
       "      <td>218억7092만</td>\n",
       "      <td>3,729</td>\n",
       "    </tr>\n",
       "    <tr>\n",
       "      <th>4</th>\n",
       "      <td>키즈/어린이</td>\n",
       "      <td>Boram Tube Vlog [보람튜브 브이로그]</td>\n",
       "      <td>2650만</td>\n",
       "      <td>110억5288만</td>\n",
       "      <td>223</td>\n",
       "    </tr>\n",
       "    <tr>\n",
       "      <th>...</th>\n",
       "      <td>...</td>\n",
       "      <td>...</td>\n",
       "      <td>...</td>\n",
       "      <td>...</td>\n",
       "      <td>...</td>\n",
       "    </tr>\n",
       "    <tr>\n",
       "      <th>95</th>\n",
       "      <td>음식/요리/레시피</td>\n",
       "      <td>까니짱 [ G-NI ]</td>\n",
       "      <td>408만</td>\n",
       "      <td>10억3471만</td>\n",
       "      <td>482</td>\n",
       "    </tr>\n",
       "    <tr>\n",
       "      <th>96</th>\n",
       "      <td>키즈/어린이</td>\n",
       "      <td>로미유 스토리[Romiyu Story]</td>\n",
       "      <td>408만</td>\n",
       "      <td>10억6557만</td>\n",
       "      <td>433</td>\n",
       "    </tr>\n",
       "    <tr>\n",
       "      <th>97</th>\n",
       "      <td>음악/댄스/가수</td>\n",
       "      <td>NCT DREAM</td>\n",
       "      <td>386만</td>\n",
       "      <td>3억7422만</td>\n",
       "      <td>228</td>\n",
       "    </tr>\n",
       "    <tr>\n",
       "      <th>98</th>\n",
       "      <td>BJ/인물/연예인</td>\n",
       "      <td>허팝Heopop</td>\n",
       "      <td>381만</td>\n",
       "      <td>31억3892만</td>\n",
       "      <td>1,847</td>\n",
       "    </tr>\n",
       "    <tr>\n",
       "      <th>99</th>\n",
       "      <td>애완/반려동물</td>\n",
       "      <td>크림히어로즈</td>\n",
       "      <td>381만</td>\n",
       "      <td>13억7401만</td>\n",
       "      <td>939</td>\n",
       "    </tr>\n",
       "  </tbody>\n",
       "</table>\n",
       "<p>100 rows × 5 columns</p>\n",
       "</div>"
      ]
     },
     "metadata": {},
     "execution_count": 16
    }
   ],
   "metadata": {}
  },
  {
   "cell_type": "markdown",
   "source": [
    "- 만과 억을 숫자로 바꿔주는 함수"
   ],
   "metadata": {}
  },
  {
   "cell_type": "code",
   "execution_count": 18,
   "source": [
    "def convert_unit(s):\r\n",
    "    s = s.replace('억','').replace('개',''). replace(',','')\r\n",
    "    s = s.replace('만','0000')\r\n",
    "    return f'{int(s):,d}'"
   ],
   "outputs": [],
   "metadata": {}
  },
  {
   "cell_type": "code",
   "execution_count": 19,
   "source": [
    "# //*[@id=\"list-skin\"]/nav/span/a[2] xpath로 이동하는 것도 있다.\r\n",
    "driver.find_element_by_xpath('//*[@id=\"list-skin\"]/nav/span/a[1]').click()"
   ],
   "outputs": [],
   "metadata": {}
  },
  {
   "cell_type": "markdown",
   "source": [
    "### 1-10 페이지까지 유튜브랭크 크롤링"
   ],
   "metadata": {}
  },
  {
   "cell_type": "code",
   "execution_count": 32,
   "source": [
    "results = []\r\n",
    "for page in range(1,11):\r\n",
    "    url = 'https://youtube-rank.com/board/bbs/board.php?bo_table=youtube&page='+str(page)\r\n",
    "    driver.get(url)\r\n",
    "    time.sleep(3)\r\n",
    "    html = driver.page_source\r\n",
    "    soup = BeautifulSoup(html, 'html.parser')\r\n",
    "    channel_list = soup.select('.aos-init')\r\n",
    "\r\n",
    "    for channel in channer_list:\r\n",
    "        category = channel.select_one('p.category').get_text().strip(' \\n[]')\r\n",
    "        name = channel.select_one('.subject a').text.strip()\r\n",
    "        subscriber = convert_unit(channel.select_one('.subscriber_cnt').text)\r\n",
    "        view = convert_unit(channel.select_one('.view_cnt').text)\r\n",
    "        video = convert_unit(channel.select_one('.video_cnt').text[:-1])\r\n",
    "        results.append([category,name,subscriber,view,video])"
   ],
   "outputs": [],
   "metadata": {}
  },
  {
   "cell_type": "code",
   "execution_count": null,
   "source": [
    "df = pd.DataFrame(results,columns=['카테고리','채널명','구독자수','조회수','동영상수'])\r\n",
    "df"
   ],
   "outputs": [],
   "metadata": {}
  },
  {
   "cell_type": "code",
   "execution_count": 27,
   "source": [
    "results = []\r\n",
    "for page in range(1,11):\r\n",
    "    url = 'https://youtube-rank.com/board/bbs/board.php?bo_table=youtube&page='+str(page)\r\n",
    "    driver.get(url)\r\n",
    "    time.sleep(3)\r\n",
    "    html = driver.page_source\r\n",
    "    soup = BeautifulSoup(html, 'html.parser')\r\n",
    "    channel_list = soup.select('.aos-init')\r\n",
    "\r\n",
    "    for channel in channel_list:\r\n",
    "        category = channel.select_one('p.category').get_text().strip(' \\n[]')\r\n",
    "        name = channel.select_one('.subject a').text.strip()\r\n",
    "        subscriber = convert_unit(channel.select_one('.subscriber_cnt').text)\r\n",
    "        view = convert_unit(channel.select_one('.view_cnt').text)\r\n",
    "        video = convert_unit(channel.select_one('.video_cnt').text)\r\n",
    "        results.append([category,name,subscriber,view,video])"
   ],
   "outputs": [],
   "metadata": {}
  },
  {
   "cell_type": "code",
   "execution_count": 28,
   "source": [
    "df = pd.DataFrame(results,columns=['카테고리','채널명','구독자수','조회수','동영상수'])\r\n",
    "df"
   ],
   "outputs": [
    {
     "output_type": "execute_result",
     "data": {
      "text/plain": [
       "          카테고리                          채널명        구독자수             조회수   동영상수\n",
       "0     음악/댄스/가수                    BLACKPINK  64,000,000  19,003,810,000    371\n",
       "1     음악/댄스/가수                  HYBE LABELS  60,300,000  18,713,050,000    654\n",
       "2     음악/댄스/가수                    BANGTANTV  56,400,000  12,194,960,000  1,579\n",
       "3     음악/댄스/가수                       SMTOWN  28,500,000  21,870,920,000  3,729\n",
       "4       키즈/어린이  Boram Tube Vlog [보람튜브 브이로그]  26,500,000  11,052,880,000    223\n",
       "..         ...                          ...         ...             ...    ...\n",
       "995         게임                           미소     510,000     210,770,000  3,084\n",
       "996        미분류                    밉지않은 관종언니     510,000      67,740,000    170\n",
       "997        미분류      복지마블TV [Welfare Marble]     510,000      49,960,000    240\n",
       "998  음식/요리/레시피                        Muggo     510,000     183,720,000  1,388\n",
       "999         게임                          임선비     510,000     234,290,000  1,134\n",
       "\n",
       "[1000 rows x 5 columns]"
      ],
      "text/html": [
       "<div>\n",
       "<style scoped>\n",
       "    .dataframe tbody tr th:only-of-type {\n",
       "        vertical-align: middle;\n",
       "    }\n",
       "\n",
       "    .dataframe tbody tr th {\n",
       "        vertical-align: top;\n",
       "    }\n",
       "\n",
       "    .dataframe thead th {\n",
       "        text-align: right;\n",
       "    }\n",
       "</style>\n",
       "<table border=\"1\" class=\"dataframe\">\n",
       "  <thead>\n",
       "    <tr style=\"text-align: right;\">\n",
       "      <th></th>\n",
       "      <th>카테고리</th>\n",
       "      <th>채널명</th>\n",
       "      <th>구독자수</th>\n",
       "      <th>조회수</th>\n",
       "      <th>동영상수</th>\n",
       "    </tr>\n",
       "  </thead>\n",
       "  <tbody>\n",
       "    <tr>\n",
       "      <th>0</th>\n",
       "      <td>음악/댄스/가수</td>\n",
       "      <td>BLACKPINK</td>\n",
       "      <td>64,000,000</td>\n",
       "      <td>19,003,810,000</td>\n",
       "      <td>371</td>\n",
       "    </tr>\n",
       "    <tr>\n",
       "      <th>1</th>\n",
       "      <td>음악/댄스/가수</td>\n",
       "      <td>HYBE LABELS</td>\n",
       "      <td>60,300,000</td>\n",
       "      <td>18,713,050,000</td>\n",
       "      <td>654</td>\n",
       "    </tr>\n",
       "    <tr>\n",
       "      <th>2</th>\n",
       "      <td>음악/댄스/가수</td>\n",
       "      <td>BANGTANTV</td>\n",
       "      <td>56,400,000</td>\n",
       "      <td>12,194,960,000</td>\n",
       "      <td>1,579</td>\n",
       "    </tr>\n",
       "    <tr>\n",
       "      <th>3</th>\n",
       "      <td>음악/댄스/가수</td>\n",
       "      <td>SMTOWN</td>\n",
       "      <td>28,500,000</td>\n",
       "      <td>21,870,920,000</td>\n",
       "      <td>3,729</td>\n",
       "    </tr>\n",
       "    <tr>\n",
       "      <th>4</th>\n",
       "      <td>키즈/어린이</td>\n",
       "      <td>Boram Tube Vlog [보람튜브 브이로그]</td>\n",
       "      <td>26,500,000</td>\n",
       "      <td>11,052,880,000</td>\n",
       "      <td>223</td>\n",
       "    </tr>\n",
       "    <tr>\n",
       "      <th>...</th>\n",
       "      <td>...</td>\n",
       "      <td>...</td>\n",
       "      <td>...</td>\n",
       "      <td>...</td>\n",
       "      <td>...</td>\n",
       "    </tr>\n",
       "    <tr>\n",
       "      <th>995</th>\n",
       "      <td>게임</td>\n",
       "      <td>미소</td>\n",
       "      <td>510,000</td>\n",
       "      <td>210,770,000</td>\n",
       "      <td>3,084</td>\n",
       "    </tr>\n",
       "    <tr>\n",
       "      <th>996</th>\n",
       "      <td>미분류</td>\n",
       "      <td>밉지않은 관종언니</td>\n",
       "      <td>510,000</td>\n",
       "      <td>67,740,000</td>\n",
       "      <td>170</td>\n",
       "    </tr>\n",
       "    <tr>\n",
       "      <th>997</th>\n",
       "      <td>미분류</td>\n",
       "      <td>복지마블TV [Welfare Marble]</td>\n",
       "      <td>510,000</td>\n",
       "      <td>49,960,000</td>\n",
       "      <td>240</td>\n",
       "    </tr>\n",
       "    <tr>\n",
       "      <th>998</th>\n",
       "      <td>음식/요리/레시피</td>\n",
       "      <td>Muggo</td>\n",
       "      <td>510,000</td>\n",
       "      <td>183,720,000</td>\n",
       "      <td>1,388</td>\n",
       "    </tr>\n",
       "    <tr>\n",
       "      <th>999</th>\n",
       "      <td>게임</td>\n",
       "      <td>임선비</td>\n",
       "      <td>510,000</td>\n",
       "      <td>234,290,000</td>\n",
       "      <td>1,134</td>\n",
       "    </tr>\n",
       "  </tbody>\n",
       "</table>\n",
       "<p>1000 rows × 5 columns</p>\n",
       "</div>"
      ]
     },
     "metadata": {},
     "execution_count": 28
    }
   ],
   "metadata": {}
  },
  {
   "cell_type": "code",
   "execution_count": 31,
   "source": [
    "df.to_csv('유튜브_순위.csv',index=None)"
   ],
   "outputs": [],
   "metadata": {}
  },
  {
   "cell_type": "code",
   "execution_count": 47,
   "source": [
    "driver.close()"
   ],
   "outputs": [],
   "metadata": {}
  },
  {
   "cell_type": "code",
   "execution_count": null,
   "source": [],
   "outputs": [],
   "metadata": {}
  }
 ],
 "metadata": {
  "orig_nbformat": 4,
  "language_info": {
   "name": "python",
   "version": "3.8.10",
   "mimetype": "text/x-python",
   "codemirror_mode": {
    "name": "ipython",
    "version": 3
   },
   "pygments_lexer": "ipython3",
   "nbconvert_exporter": "python",
   "file_extension": ".py"
  },
  "kernelspec": {
   "name": "python3",
   "display_name": "Python 3.8.10 64-bit ('base': conda)"
  },
  "interpreter": {
   "hash": "acbbfebbbdf654efa85aa18169a14b54796a806b8c18a3c243660030e08aa454"
  }
 },
 "nbformat": 4,
 "nbformat_minor": 2
}