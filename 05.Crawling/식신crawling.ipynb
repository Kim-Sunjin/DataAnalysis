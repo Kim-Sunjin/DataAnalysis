{
 "cells": [
  {
   "cell_type": "markdown",
   "source": [
    "# 식시 - 양재역으로 검색\r\n",
    "- 명칭, 주요 메뉴, 평점, 전화번호, 주소"
   ],
   "metadata": {}
  },
  {
   "cell_type": "code",
   "execution_count": 1,
   "source": [
    "import requests\r\n",
    "import pandas as pd\r\n",
    "from urllib.parse import quote"
   ],
   "outputs": [],
   "metadata": {}
  },
  {
   "cell_type": "markdown",
   "source": [
    "## 데이터 가져오기"
   ],
   "metadata": {}
  },
  {
   "cell_type": "code",
   "execution_count": 10,
   "source": [
    "base_url = 'https://www.siksinhot.com'\r\n",
    "url = f'{base_url}/search?keywords=%EC%96%91%EC%9E%AC%EC%97%AD{quote(\"양재역\")}'\r\n",
    "req = requests.get(url)\r\n",
    "html = req.text\r\n",
    "#html"
   ],
   "outputs": [],
   "metadata": {}
  },
  {
   "cell_type": "markdown",
   "source": [
    "## 찾으려는 데이터의 태그 찾기"
   ],
   "metadata": {}
  },
  {
   "cell_type": "code",
   "execution_count": 12,
   "source": [
    "from bs4 import BeautifulSoup\r\n",
    "\r\n",
    "soup = BeautifulSoup(html, 'html.parser')"
   ],
   "outputs": [],
   "metadata": {}
  },
  {
   "cell_type": "code",
   "execution_count": 13,
   "source": [
    "lis = soup.select('div.listTy1 > ul > li')\r\n",
    "len(lis)"
   ],
   "outputs": [
    {
     "output_type": "execute_result",
     "data": {
      "text/plain": [
       "12"
      ]
     },
     "metadata": {},
     "execution_count": 13
    }
   ],
   "metadata": {}
  },
  {
   "cell_type": "code",
   "execution_count": 15,
   "source": [
    "li = lis[0]\r\n",
    "href = li.select_one('a')['href']"
   ],
   "outputs": [],
   "metadata": {}
  },
  {
   "cell_type": "code",
   "execution_count": null,
   "source": [],
   "outputs": [],
   "metadata": {}
  },
  {
   "cell_type": "code",
   "execution_count": 18,
   "source": [
    "url = base_url + href\r\n",
    "req = requests.get(url)\r\n",
    "sub_soop = BeautifulSoup(req.text,'html.parser')"
   ],
   "outputs": [],
   "metadata": {}
  },
  {
   "cell_type": "code",
   "execution_count": 25,
   "source": [
    "store = sub_soop.select_one('.title')\r\n",
    "info = store.find('h3').get_text()\r\n",
    "info"
   ],
   "outputs": [
    {
     "output_type": "execute_result",
     "data": {
      "text/plain": [
       "'그릭슈바인 양재역점3.6HOT'"
      ]
     },
     "metadata": {},
     "execution_count": 25
    }
   ],
   "metadata": {}
  },
  {
   "cell_type": "code",
   "execution_count": 20,
   "source": [
    "score = store.select_one('h3 > strong').string\r\n",
    "score"
   ],
   "outputs": [
    {
     "output_type": "execute_result",
     "data": {
      "text/plain": [
       "'3.6'"
      ]
     },
     "metadata": {},
     "execution_count": 20
    }
   ],
   "metadata": {}
  },
  {
   "cell_type": "code",
   "execution_count": 24,
   "source": [
    "name = info[:info.find(score)]\r\n",
    "name"
   ],
   "outputs": [
    {
     "output_type": "execute_result",
     "data": {
      "text/plain": [
       "'그릭슈바인 양재역점'"
      ]
     },
     "metadata": {},
     "execution_count": 24
    }
   ],
   "metadata": {}
  },
  {
   "cell_type": "code",
   "execution_count": 27,
   "source": [
    "menu = sub_soop.select('.store_info p')[1].get_text()"
   ],
   "outputs": [
    {
     "output_type": "execute_result",
     "data": {
      "text/plain": [
       "'나이트라이프 > 맥주/호프'"
      ]
     },
     "metadata": {},
     "execution_count": 27
    }
   ],
   "metadata": {}
  },
  {
   "cell_type": "code",
   "execution_count": 28,
   "source": [
    "tel = sub_soop.select_one('.p_tel p').get_text()\r\n",
    "tel"
   ],
   "outputs": [
    {
     "output_type": "execute_result",
     "data": {
      "text/plain": [
       "'02-572-6100'"
      ]
     },
     "metadata": {},
     "execution_count": 28
    }
   ],
   "metadata": {}
  },
  {
   "cell_type": "code",
   "execution_count": 30,
   "source": [
    "addr = sub_soop.select_one('.txt_adr').get_text()\r\n",
    "addr"
   ],
   "outputs": [
    {
     "output_type": "execute_result",
     "data": {
      "text/plain": [
       "'서울특별시 서초구 강남대로 224'"
      ]
     },
     "metadata": {},
     "execution_count": 30
    }
   ],
   "metadata": {}
  },
  {
   "cell_type": "code",
   "execution_count": 33,
   "source": [
    "name_list, score_list, menu_list,tel_list, addr_list = [],[],[],[],[]\r\n",
    "\r\n",
    "for i, li in enumerate(lis):\r\n",
    "    href = li.select_one('a')['href']\r\n",
    "    url = base_url + href\r\n",
    "    req = requests.get(url)\r\n",
    "    sub_soop = BeautifulSoup(req.text,'html.parser')\r\n",
    "\r\n",
    "    try:\r\n",
    "        store = sub_soop.select_one('.title')\r\n",
    "        info = store.find('h3').get_text()\r\n",
    "        score = store.select_one('h3 > strong').string\r\n",
    "        name = info[:info.find(score)]\r\n",
    "        menu = sub_soop.select('.store_info p')[1].get_text()\r\n",
    "        tel = sub_soop.select_one('.p_tel p').get_text()\r\n",
    "        addr = sub_soop.select_one('.txt_adr').get_text()\r\n",
    "    except:\r\n",
    "        print(i)\r\n",
    "\r\n",
    "    name_list.append(name)\r\n",
    "    score_list.append(score)\r\n",
    "    menu_list.append(menu)\r\n",
    "    tel_list.append(tel)\r\n",
    "    addr_list.append(addr)"
   ],
   "outputs": [
    {
     "output_type": "stream",
     "name": "stdout",
     "text": [
      "3\n",
      "4\n"
     ]
    }
   ],
   "metadata": {}
  },
  {
   "cell_type": "code",
   "execution_count": null,
   "source": [],
   "outputs": [],
   "metadata": {}
  }
 ],
 "metadata": {
  "orig_nbformat": 4,
  "language_info": {
   "name": "python",
   "version": "3.8.10",
   "mimetype": "text/x-python",
   "codemirror_mode": {
    "name": "ipython",
    "version": 3
   },
   "pygments_lexer": "ipython3",
   "nbconvert_exporter": "python",
   "file_extension": ".py"
  },
  "kernelspec": {
   "name": "python3",
   "display_name": "Python 3.8.10 64-bit ('base': conda)"
  },
  "interpreter": {
   "hash": "acbbfebbbdf654efa85aa18169a14b54796a806b8c18a3c243660030e08aa454"
  }
 },
 "nbformat": 4,
 "nbformat_minor": 2
}