{
 "cells": [
  {
   "cell_type": "markdown",
   "source": [
    "# 식시 - 양재역으로 검색\r\n",
    "- 명칭, 주요 메뉴, 평점, 전화번호, 주소"
   ],
   "metadata": {}
  },
  {
   "cell_type": "code",
   "execution_count": 1,
   "source": [
    "import requests\r\n",
    "import pandas as pd\r\n",
    "from urllib.parse import quote"
   ],
   "outputs": [],
   "metadata": {}
  },
  {
   "cell_type": "markdown",
   "source": [
    "## 데이터 가져오기"
   ],
   "metadata": {}
  },
  {
   "cell_type": "code",
   "execution_count": 2,
   "source": [
    "base_url = 'https://www.siksinhot.com'\r\n",
    "url = f'{base_url}/search?keywords={quote(\"양재역\")}'\r\n",
    "req = requests.get(url)\r\n",
    "html = req.text\r\n",
    "#html"
   ],
   "outputs": [],
   "metadata": {}
  },
  {
   "cell_type": "markdown",
   "source": [
    "## 찾으려는 데이터의 태그 찾기"
   ],
   "metadata": {}
  },
  {
   "cell_type": "code",
   "execution_count": 3,
   "source": [
    "from bs4 import BeautifulSoup\r\n",
    "\r\n",
    "soup = BeautifulSoup(html, 'html.parser')"
   ],
   "outputs": [],
   "metadata": {}
  },
  {
   "cell_type": "code",
   "execution_count": 4,
   "source": [
    "lis = soup.select('div.listTy1 > ul > li')\r\n",
    "len(lis)"
   ],
   "outputs": [
    {
     "output_type": "execute_result",
     "data": {
      "text/plain": [
       "12"
      ]
     },
     "metadata": {},
     "execution_count": 4
    }
   ],
   "metadata": {}
  },
  {
   "cell_type": "code",
   "execution_count": 5,
   "source": [
    "li = lis[0]\r\n",
    "href = li.select_one('a')['href']"
   ],
   "outputs": [],
   "metadata": {}
  },
  {
   "cell_type": "code",
   "execution_count": 6,
   "source": [
    "url = base_url + href\r\n",
    "req = requests.get(url)\r\n",
    "sub_soop = BeautifulSoup(req.text,'html.parser')"
   ],
   "outputs": [],
   "metadata": {}
  },
  {
   "cell_type": "code",
   "execution_count": 7,
   "source": [
    "store = sub_soop.select_one('.title')\r\n",
    "info = store.find('h3').get_text()\r\n",
    "info"
   ],
   "outputs": [
    {
     "output_type": "execute_result",
     "data": {
      "text/plain": [
       "'그릭슈바인 양재역점3.6HOT'"
      ]
     },
     "metadata": {},
     "execution_count": 7
    }
   ],
   "metadata": {}
  },
  {
   "cell_type": "code",
   "execution_count": 8,
   "source": [
    "score = store.select_one('h3 > strong').string\r\n",
    "score"
   ],
   "outputs": [
    {
     "output_type": "execute_result",
     "data": {
      "text/plain": [
       "'3.6'"
      ]
     },
     "metadata": {},
     "execution_count": 8
    }
   ],
   "metadata": {}
  },
  {
   "cell_type": "code",
   "execution_count": 9,
   "source": [
    "name = info[:info.find(score)]\r\n",
    "name"
   ],
   "outputs": [
    {
     "output_type": "execute_result",
     "data": {
      "text/plain": [
       "'그릭슈바인 양재역점'"
      ]
     },
     "metadata": {},
     "execution_count": 9
    }
   ],
   "metadata": {}
  },
  {
   "cell_type": "code",
   "execution_count": 16,
   "source": [
    "menu = sub_soop.select('.store_info p')[1].get_text()\r\n",
    "menu"
   ],
   "outputs": [
    {
     "output_type": "execute_result",
     "data": {
      "text/plain": [
       "'나이트라이프 > 맥주/호프'"
      ]
     },
     "metadata": {},
     "execution_count": 16
    }
   ],
   "metadata": {}
  },
  {
   "cell_type": "code",
   "execution_count": 11,
   "source": [
    "tel = sub_soop.select_one('.p_tel p').get_text()\r\n",
    "tel"
   ],
   "outputs": [
    {
     "output_type": "execute_result",
     "data": {
      "text/plain": [
       "'02-572-6100'"
      ]
     },
     "metadata": {},
     "execution_count": 11
    }
   ],
   "metadata": {}
  },
  {
   "cell_type": "code",
   "execution_count": 12,
   "source": [
    "addr = sub_soop.select_one('.txt_adr').get_text()\r\n",
    "addr"
   ],
   "outputs": [
    {
     "output_type": "execute_result",
     "data": {
      "text/plain": [
       "'서울특별시 서초구 강남대로 224'"
      ]
     },
     "metadata": {},
     "execution_count": 12
    }
   ],
   "metadata": {}
  },
  {
   "cell_type": "code",
   "execution_count": 19,
   "source": [
    "name_list, score_list, menu_list,tel_list, addr_list = [],[],[],[],[]\r\n",
    "\r\n",
    "for i, li in enumerate(lis):\r\n",
    "    href = li.select_one('a')['href']\r\n",
    "    url = base_url + href\r\n",
    "    req = requests.get(url)\r\n",
    "    sub_soop = BeautifulSoup(req.text,'html.parser')\r\n",
    "\r\n",
    "    try:\r\n",
    "        store = sub_soop.select_one('.title')\r\n",
    "        info = store.find('h3').get_text()\r\n",
    "        score = store.select_one('h3 > strong').string\r\n",
    "        name = info[:info.find(score)]\r\n",
    "        menu = sub_soop.select('.store_info p')[1].get_text()\r\n",
    "        tel = sub_soop.select_one('.p_tel p').get_text()\r\n",
    "        addr = sub_soop.select_one('.txt_adr').get_text()\r\n",
    "    except:\r\n",
    "        print(i)\r\n",
    "\r\n",
    "    name_list.append(name)\r\n",
    "    score_list.append(score)\r\n",
    "    menu_list.append(menu)\r\n",
    "    tel_list.append(tel)\r\n",
    "    addr_list.append(addr)"
   ],
   "outputs": [
    {
     "output_type": "stream",
     "name": "stdout",
     "text": [
      "3\n",
      "4\n"
     ]
    }
   ],
   "metadata": {}
  },
  {
   "cell_type": "code",
   "execution_count": 26,
   "source": [
    "df = pd.DataFrame({\r\n",
    "    '업소명':name_list,'메뉴':menu_list,'평점':score_list,'번호':tel_list,'주소':addr_list\r\n",
    "})\r\n",
    "df"
   ],
   "outputs": [
    {
     "output_type": "execute_result",
     "data": {
      "text/plain": [
       "             업소명                    메뉴    평점            번호  \\\n",
       "0     그릭슈바인 양재역점        나이트라이프 > 맥주/호프   3.6   02-572-6100   \n",
       "1    미스터브리즈 양재역점         세계음식 > 카페/커피숍   3.4   02-576-4333   \n",
       "2      동신참치 양재역점              한국음식 > 회   3.0   02-529-7130   \n",
       "3      동신참치 양재역점              한국음식 > 회  None   02-529-7130   \n",
       "4      동신참치 양재역점              한국음식 > 회  None   02-529-7130   \n",
       "5       영동족발 3호점          한국음식 > 족발/보쌈   4.1   02-575-0250   \n",
       "6            황재벌       한국음식 > 장어구이/꼼장어   3.9  02-3471-5454   \n",
       "7   김영모과자점 도곡타워점       세계음식 > 베이커리/제과점   4.1  02-3460-2005   \n",
       "8         소호정 본점  한국음식 > 라면/칼국수/국수/수제비   4.0   02-579-7282   \n",
       "9          산동칼국수  한국음식 > 라면/칼국수/국수/수제비   3.9  02-3473-7972   \n",
       "10        양재정육식당      한국음식 > 꽃등심/등심/육회   4.1   02-577-5804   \n",
       "11          스타쉐프         세계음식 > 퓨전레스토랑   3.9   02-529-8248   \n",
       "\n",
       "                               주소  \n",
       "0              서울특별시 서초구 강남대로 224  \n",
       "1                서울 서초구 강남대로34길 6  \n",
       "2                 서울 서초구 강남대로 213  \n",
       "3                 서울 서초구 강남대로 213  \n",
       "4                 서울 서초구 강남대로 213  \n",
       "5         서울특별시 서초구 남부순환로 2628-18  \n",
       "6   서울특별시 서초구 남부순환로347길 42-4 신화빌딩  \n",
       "7      서울특별시 강남구 언주로30길 10 현대비젼21  \n",
       "8                서울특별시 서초구 논현로 27  \n",
       "9            서울특별시 서초구 강남대로37길 63  \n",
       "10               서울 서초구 바우뫼로35길 3  \n",
       "11          서울특별시 강남구 논현로38길 38-6  "
      ],
      "text/html": [
       "<div>\n",
       "<style scoped>\n",
       "    .dataframe tbody tr th:only-of-type {\n",
       "        vertical-align: middle;\n",
       "    }\n",
       "\n",
       "    .dataframe tbody tr th {\n",
       "        vertical-align: top;\n",
       "    }\n",
       "\n",
       "    .dataframe thead th {\n",
       "        text-align: right;\n",
       "    }\n",
       "</style>\n",
       "<table border=\"1\" class=\"dataframe\">\n",
       "  <thead>\n",
       "    <tr style=\"text-align: right;\">\n",
       "      <th></th>\n",
       "      <th>업소명</th>\n",
       "      <th>메뉴</th>\n",
       "      <th>평점</th>\n",
       "      <th>번호</th>\n",
       "      <th>주소</th>\n",
       "    </tr>\n",
       "  </thead>\n",
       "  <tbody>\n",
       "    <tr>\n",
       "      <th>0</th>\n",
       "      <td>그릭슈바인 양재역점</td>\n",
       "      <td>나이트라이프 &gt; 맥주/호프</td>\n",
       "      <td>3.6</td>\n",
       "      <td>02-572-6100</td>\n",
       "      <td>서울특별시 서초구 강남대로 224</td>\n",
       "    </tr>\n",
       "    <tr>\n",
       "      <th>1</th>\n",
       "      <td>미스터브리즈 양재역점</td>\n",
       "      <td>세계음식 &gt; 카페/커피숍</td>\n",
       "      <td>3.4</td>\n",
       "      <td>02-576-4333</td>\n",
       "      <td>서울 서초구 강남대로34길 6</td>\n",
       "    </tr>\n",
       "    <tr>\n",
       "      <th>2</th>\n",
       "      <td>동신참치 양재역점</td>\n",
       "      <td>한국음식 &gt; 회</td>\n",
       "      <td>3.0</td>\n",
       "      <td>02-529-7130</td>\n",
       "      <td>서울 서초구 강남대로 213</td>\n",
       "    </tr>\n",
       "    <tr>\n",
       "      <th>3</th>\n",
       "      <td>동신참치 양재역점</td>\n",
       "      <td>한국음식 &gt; 회</td>\n",
       "      <td>None</td>\n",
       "      <td>02-529-7130</td>\n",
       "      <td>서울 서초구 강남대로 213</td>\n",
       "    </tr>\n",
       "    <tr>\n",
       "      <th>4</th>\n",
       "      <td>동신참치 양재역점</td>\n",
       "      <td>한국음식 &gt; 회</td>\n",
       "      <td>None</td>\n",
       "      <td>02-529-7130</td>\n",
       "      <td>서울 서초구 강남대로 213</td>\n",
       "    </tr>\n",
       "    <tr>\n",
       "      <th>5</th>\n",
       "      <td>영동족발 3호점</td>\n",
       "      <td>한국음식 &gt; 족발/보쌈</td>\n",
       "      <td>4.1</td>\n",
       "      <td>02-575-0250</td>\n",
       "      <td>서울특별시 서초구 남부순환로 2628-18</td>\n",
       "    </tr>\n",
       "    <tr>\n",
       "      <th>6</th>\n",
       "      <td>황재벌</td>\n",
       "      <td>한국음식 &gt; 장어구이/꼼장어</td>\n",
       "      <td>3.9</td>\n",
       "      <td>02-3471-5454</td>\n",
       "      <td>서울특별시 서초구 남부순환로347길 42-4 신화빌딩</td>\n",
       "    </tr>\n",
       "    <tr>\n",
       "      <th>7</th>\n",
       "      <td>김영모과자점 도곡타워점</td>\n",
       "      <td>세계음식 &gt; 베이커리/제과점</td>\n",
       "      <td>4.1</td>\n",
       "      <td>02-3460-2005</td>\n",
       "      <td>서울특별시 강남구 언주로30길 10 현대비젼21</td>\n",
       "    </tr>\n",
       "    <tr>\n",
       "      <th>8</th>\n",
       "      <td>소호정 본점</td>\n",
       "      <td>한국음식 &gt; 라면/칼국수/국수/수제비</td>\n",
       "      <td>4.0</td>\n",
       "      <td>02-579-7282</td>\n",
       "      <td>서울특별시 서초구 논현로 27</td>\n",
       "    </tr>\n",
       "    <tr>\n",
       "      <th>9</th>\n",
       "      <td>산동칼국수</td>\n",
       "      <td>한국음식 &gt; 라면/칼국수/국수/수제비</td>\n",
       "      <td>3.9</td>\n",
       "      <td>02-3473-7972</td>\n",
       "      <td>서울특별시 서초구 강남대로37길 63</td>\n",
       "    </tr>\n",
       "    <tr>\n",
       "      <th>10</th>\n",
       "      <td>양재정육식당</td>\n",
       "      <td>한국음식 &gt; 꽃등심/등심/육회</td>\n",
       "      <td>4.1</td>\n",
       "      <td>02-577-5804</td>\n",
       "      <td>서울 서초구 바우뫼로35길 3</td>\n",
       "    </tr>\n",
       "    <tr>\n",
       "      <th>11</th>\n",
       "      <td>스타쉐프</td>\n",
       "      <td>세계음식 &gt; 퓨전레스토랑</td>\n",
       "      <td>3.9</td>\n",
       "      <td>02-529-8248</td>\n",
       "      <td>서울특별시 강남구 논현로38길 38-6</td>\n",
       "    </tr>\n",
       "  </tbody>\n",
       "</table>\n",
       "</div>"
      ]
     },
     "metadata": {},
     "execution_count": 26
    }
   ],
   "metadata": {}
  },
  {
   "cell_type": "markdown",
   "source": [
    "##  문제 발생한 두번째 업소 살펴보기"
   ],
   "metadata": {}
  },
  {
   "cell_type": "code",
   "execution_count": 27,
   "source": [
    "li = lis[3]\r\n",
    "li.select_one('.cnt p').get_text"
   ],
   "outputs": [
    {
     "output_type": "execute_result",
     "data": {
      "text/plain": [
       "<bound method Tag.get_text of <p data-reactid=\"189\"><!-- react-text: 190 -->딱새우회<!-- /react-text --><!-- react-text: 191 -->, 닭도리탕<!-- /react-text --><!-- react-text: 192 -->, 딱새우튀김<!-- /react-text --><!-- react-text: 193 -->, 술국닭계장<!-- /react-text --><!-- react-text: 194 -->, 마라해물새우<!-- /react-text --></p>>"
      ]
     },
     "metadata": {},
     "execution_count": 27
    }
   ],
   "metadata": {}
  },
  {
   "cell_type": "code",
   "execution_count": null,
   "source": [
    "score = li.select_one('em').string\r\n",
    "if score == '평가중':\r\n",
    "    score = '0'"
   ],
   "outputs": [],
   "metadata": {}
  },
  {
   "cell_type": "markdown",
   "source": [
    "- 변경된 방법으로 재시도"
   ],
   "metadata": {}
  },
  {
   "cell_type": "code",
   "execution_count": 32,
   "source": [
    "name_list, score_list, menu_list,tel_list, addr_list = [],[],[],[],[]\r\n",
    "\r\n",
    "for i, li in enumerate(lis):\r\n",
    "    href = li.select_one('a')['href']\r\n",
    "    url = base_url + href\r\n",
    "    req = requests.get(url)\r\n",
    "    sub_soop = BeautifulSoup(req.text,'html.parser')\r\n",
    "\r\n",
    "    name = li.select_one('.store').string\r\n",
    "    score = li.select_one('em').string\r\n",
    "    if score == '평가중':\r\n",
    "        score = '0'\r\n",
    "    menu = li.select_one('.cnt p').get_text()\r\n",
    "\r\n",
    "    try:\r\n",
    "        tel = sub_soop.select_one('.p_tel p').get_text()\r\n",
    "        addr = sub_soop.select_one('.txt_adr').get_text()\r\n",
    "    \r\n",
    "        name_list.append(name)\r\n",
    "        score_list.append(score)\r\n",
    "        menu_list.append(menu)\r\n",
    "        tel_list.append(tel)\r\n",
    "        addr_list.append(addr)\r\n",
    "    except:\r\n",
    "        print(i)\r\n"
   ],
   "outputs": [],
   "metadata": {}
  },
  {
   "cell_type": "code",
   "execution_count": 33,
   "source": [
    "df = df = pd.DataFrame({\r\n",
    "    '업소명':name_list,\r\n",
    "    '메뉴':menu_list,\r\n",
    "    '평점':score_list,\r\n",
    "    '번호':tel_list,\r\n",
    "    '주소':addr_list\r\n",
    "})\r\n",
    "df"
   ],
   "outputs": [
    {
     "output_type": "execute_result",
     "data": {
      "text/plain": [
       "             업소명                                      메뉴   평점            번호  \\\n",
       "0     그릭슈바인 양재역점    그릭슈바인bbq, 슈바이네 학센, 모듬 소세지 bbq, 콥 샐러드  3.6   02-572-6100   \n",
       "1    미스터브리즈 양재역점                      아메리카노, 허니버터브레드, 와플  3.4   02-576-4333   \n",
       "2      동신참치 양재역점                               참치회, 참치정식  3.0   02-529-7130   \n",
       "3       새우닭 양재역점        딱새우회, 닭도리탕, 딱새우튀김, 술국닭계장, 마라해물새우    0   02-575-6088   \n",
       "4       양재역 옛날짜장           짜장면, 짬뽕, 볶음밥, 고추잡채, 쟁반짜장, 탕수육    0  031-503-2550   \n",
       "5       영동족발 3호점          족발大, 쟁반막국수大, 순두부찌개, 족발 중, 해물파전  4.1   02-575-0250   \n",
       "6            황재벌         꼼장어, 쭈꾸미, 왕 꼼장어, 닭발, 계란찜, 알 주먹밥  3.9  02-3471-5454   \n",
       "7   김영모과자점 도곡타워점    몽블랑, 바게트샌드위치, 레즌 천연발효빵, 생크림앙팡, 마늘바게트  4.1  02-3460-2005   \n",
       "8         소호정 본점             안동국시, 국밥, 수육(대), 전(대), 묵(대)  4.0   02-579-7282   \n",
       "9          산동칼국수                          손칼국수, 만두국, 왕만두  3.9  02-3473-7972   \n",
       "10        양재정육식당                      한우모듬, 업진 치마살, 한우등심  4.1   02-577-5804   \n",
       "11          스타쉐프  지중해식문어요리, 놀라운농어요리, 버섯크림요리와 빵, 키조개관자샐러드  3.9   02-529-8248   \n",
       "\n",
       "                               주소  \n",
       "0              서울특별시 서초구 강남대로 224  \n",
       "1                서울 서초구 강남대로34길 6  \n",
       "2                 서울 서초구 강남대로 213  \n",
       "3      서울특별시 서초구 남부순환로356길 52  1층  \n",
       "4               경기도 시흥시 공단1대로 13   \n",
       "5         서울특별시 서초구 남부순환로 2628-18  \n",
       "6   서울특별시 서초구 남부순환로347길 42-4 신화빌딩  \n",
       "7      서울특별시 강남구 언주로30길 10 현대비젼21  \n",
       "8                서울특별시 서초구 논현로 27  \n",
       "9            서울특별시 서초구 강남대로37길 63  \n",
       "10               서울 서초구 바우뫼로35길 3  \n",
       "11          서울특별시 강남구 논현로38길 38-6  "
      ],
      "text/html": [
       "<div>\n",
       "<style scoped>\n",
       "    .dataframe tbody tr th:only-of-type {\n",
       "        vertical-align: middle;\n",
       "    }\n",
       "\n",
       "    .dataframe tbody tr th {\n",
       "        vertical-align: top;\n",
       "    }\n",
       "\n",
       "    .dataframe thead th {\n",
       "        text-align: right;\n",
       "    }\n",
       "</style>\n",
       "<table border=\"1\" class=\"dataframe\">\n",
       "  <thead>\n",
       "    <tr style=\"text-align: right;\">\n",
       "      <th></th>\n",
       "      <th>업소명</th>\n",
       "      <th>메뉴</th>\n",
       "      <th>평점</th>\n",
       "      <th>번호</th>\n",
       "      <th>주소</th>\n",
       "    </tr>\n",
       "  </thead>\n",
       "  <tbody>\n",
       "    <tr>\n",
       "      <th>0</th>\n",
       "      <td>그릭슈바인 양재역점</td>\n",
       "      <td>그릭슈바인bbq, 슈바이네 학센, 모듬 소세지 bbq, 콥 샐러드</td>\n",
       "      <td>3.6</td>\n",
       "      <td>02-572-6100</td>\n",
       "      <td>서울특별시 서초구 강남대로 224</td>\n",
       "    </tr>\n",
       "    <tr>\n",
       "      <th>1</th>\n",
       "      <td>미스터브리즈 양재역점</td>\n",
       "      <td>아메리카노, 허니버터브레드, 와플</td>\n",
       "      <td>3.4</td>\n",
       "      <td>02-576-4333</td>\n",
       "      <td>서울 서초구 강남대로34길 6</td>\n",
       "    </tr>\n",
       "    <tr>\n",
       "      <th>2</th>\n",
       "      <td>동신참치 양재역점</td>\n",
       "      <td>참치회, 참치정식</td>\n",
       "      <td>3.0</td>\n",
       "      <td>02-529-7130</td>\n",
       "      <td>서울 서초구 강남대로 213</td>\n",
       "    </tr>\n",
       "    <tr>\n",
       "      <th>3</th>\n",
       "      <td>새우닭 양재역점</td>\n",
       "      <td>딱새우회, 닭도리탕, 딱새우튀김, 술국닭계장, 마라해물새우</td>\n",
       "      <td>0</td>\n",
       "      <td>02-575-6088</td>\n",
       "      <td>서울특별시 서초구 남부순환로356길 52  1층</td>\n",
       "    </tr>\n",
       "    <tr>\n",
       "      <th>4</th>\n",
       "      <td>양재역 옛날짜장</td>\n",
       "      <td>짜장면, 짬뽕, 볶음밥, 고추잡채, 쟁반짜장, 탕수육</td>\n",
       "      <td>0</td>\n",
       "      <td>031-503-2550</td>\n",
       "      <td>경기도 시흥시 공단1대로 13</td>\n",
       "    </tr>\n",
       "    <tr>\n",
       "      <th>5</th>\n",
       "      <td>영동족발 3호점</td>\n",
       "      <td>족발大, 쟁반막국수大, 순두부찌개, 족발 중, 해물파전</td>\n",
       "      <td>4.1</td>\n",
       "      <td>02-575-0250</td>\n",
       "      <td>서울특별시 서초구 남부순환로 2628-18</td>\n",
       "    </tr>\n",
       "    <tr>\n",
       "      <th>6</th>\n",
       "      <td>황재벌</td>\n",
       "      <td>꼼장어, 쭈꾸미, 왕 꼼장어, 닭발, 계란찜, 알 주먹밥</td>\n",
       "      <td>3.9</td>\n",
       "      <td>02-3471-5454</td>\n",
       "      <td>서울특별시 서초구 남부순환로347길 42-4 신화빌딩</td>\n",
       "    </tr>\n",
       "    <tr>\n",
       "      <th>7</th>\n",
       "      <td>김영모과자점 도곡타워점</td>\n",
       "      <td>몽블랑, 바게트샌드위치, 레즌 천연발효빵, 생크림앙팡, 마늘바게트</td>\n",
       "      <td>4.1</td>\n",
       "      <td>02-3460-2005</td>\n",
       "      <td>서울특별시 강남구 언주로30길 10 현대비젼21</td>\n",
       "    </tr>\n",
       "    <tr>\n",
       "      <th>8</th>\n",
       "      <td>소호정 본점</td>\n",
       "      <td>안동국시, 국밥, 수육(대), 전(대), 묵(대)</td>\n",
       "      <td>4.0</td>\n",
       "      <td>02-579-7282</td>\n",
       "      <td>서울특별시 서초구 논현로 27</td>\n",
       "    </tr>\n",
       "    <tr>\n",
       "      <th>9</th>\n",
       "      <td>산동칼국수</td>\n",
       "      <td>손칼국수, 만두국, 왕만두</td>\n",
       "      <td>3.9</td>\n",
       "      <td>02-3473-7972</td>\n",
       "      <td>서울특별시 서초구 강남대로37길 63</td>\n",
       "    </tr>\n",
       "    <tr>\n",
       "      <th>10</th>\n",
       "      <td>양재정육식당</td>\n",
       "      <td>한우모듬, 업진 치마살, 한우등심</td>\n",
       "      <td>4.1</td>\n",
       "      <td>02-577-5804</td>\n",
       "      <td>서울 서초구 바우뫼로35길 3</td>\n",
       "    </tr>\n",
       "    <tr>\n",
       "      <th>11</th>\n",
       "      <td>스타쉐프</td>\n",
       "      <td>지중해식문어요리, 놀라운농어요리, 버섯크림요리와 빵, 키조개관자샐러드</td>\n",
       "      <td>3.9</td>\n",
       "      <td>02-529-8248</td>\n",
       "      <td>서울특별시 강남구 논현로38길 38-6</td>\n",
       "    </tr>\n",
       "  </tbody>\n",
       "</table>\n",
       "</div>"
      ]
     },
     "metadata": {},
     "execution_count": 33
    }
   ],
   "metadata": {}
  }
 ],
 "metadata": {
  "orig_nbformat": 4,
  "language_info": {
   "name": "python",
   "version": "3.8.10",
   "mimetype": "text/x-python",
   "codemirror_mode": {
    "name": "ipython",
    "version": 3
   },
   "pygments_lexer": "ipython3",
   "nbconvert_exporter": "python",
   "file_extension": ".py"
  },
  "kernelspec": {
   "name": "python3",
   "display_name": "Python 3.8.10 64-bit ('base': conda)"
  },
  "interpreter": {
   "hash": "acbbfebbbdf654efa85aa18169a14b54796a806b8c18a3c243660030e08aa454"
  }
 },
 "nbformat": 4,
 "nbformat_minor": 2
}