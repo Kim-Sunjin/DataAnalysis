{
 "cells": [
  {
   "cell_type": "markdown",
   "source": [
    "## genie Top 200"
   ],
   "metadata": {}
  },
  {
   "cell_type": "code",
   "execution_count": null,
   "source": [],
   "outputs": [],
   "metadata": {}
  },
  {
   "cell_type": "markdown",
   "source": [
    "### 1. 인터넷 상에서 데이터 가져오기"
   ],
   "metadata": {}
  },
  {
   "cell_type": "code",
   "execution_count": 1,
   "source": [
    "import requests\r\n",
    "import pandas as pd"
   ],
   "outputs": [],
   "metadata": {}
  },
  {
   "cell_type": "code",
   "execution_count": 2,
   "source": [
    "# Genie Top200\r\n",
    "url = 'https://www.genie.co.kr/chart/top200'\r\n",
    "req = requests.get(url)\r\n",
    "html = req.text\r\n",
    "html"
   ],
   "outputs": [
    {
     "output_type": "execute_result",
     "data": {
      "text/plain": [
       "'<br>\\r\\n<br>\\r\\n<center>\\r\\n<img src=\"http://www.geniemusic.co.kr/images/common/logo_r1.png\"><br>\\r\\n<h2> <meta http-equiv=\"Content-Type\" content=\"text/html;charset=UTF-8\"> ì\\xa0\\x91ì\\x86\\x8dì\\x9a\\x94ì²\\xadì\\x9d´ ë³´ì\\x95\\x88ì\\xa0\\x95ì±\\x85ì\\x97\\x90 ì\\x9d\\x98í\\x95´ ì°¨ë\\x8b¨ë\\x90\\x98ì\\x97\\x88ì\\x8aµë\\x8b\\x88ë\\x8b¤. ë\\x8b¹ì\\x82¬ ê³\\xa0ê°\\x9dì\\x84¼í\\x84°ë¡\\x9c ë¬¸ì\\x9d\\x98í\\x95´ì£¼ì\\x8b\\xadì\\x8b\\x9cì\\x98¤.<br><br>\\r\\nThe security policy of the connection request is blocked. Contact your customer service representative.<br><br>\\r\\nì§\\x80ë\\x8b\\x88ë®¤ì§\\x81 ê³\\xa0ê°\\x9dì\\x84¼í\\x84° 1577-5337<br><br>\\r\\n</h2>\\r\\n</center>\\r\\n<br>'"
      ]
     },
     "metadata": {},
     "execution_count": 2
    }
   ],
   "metadata": {}
  },
  {
   "cell_type": "code",
   "execution_count": 4,
   "source": [
    "# Chrome user-agent\r\n",
    "header = {'User-Agent':\r\n",
    "            'Mozilla/5.0 (X11; Linux x86_64) AppleWebKit/537.36 (KHTML, like Gecko) Chrome/51.0.2704.103 Safari/537.36'}\r\n",
    "req = requests.get(url, headers=header)\r\n",
    "html = req.text\r\n",
    "# html"
   ],
   "outputs": [],
   "metadata": {}
  },
  {
   "cell_type": "code",
   "execution_count": 5,
   "source": [
    "from bs4 import BeautifulSoup\r\n",
    "\r\n",
    "soup = BeautifulSoup(html, 'html.parser')"
   ],
   "outputs": [],
   "metadata": {}
  },
  {
   "cell_type": "markdown",
   "source": [
    "### 2. 찾으려고 하는 데이터의 태그 찾기"
   ],
   "metadata": {}
  },
  {
   "cell_type": "code",
   "execution_count": 6,
   "source": [
    "# <table class='list-wrap'>\r\n",
    "table = soup.select_one('table.list-wrap')\r\n",
    "trs = table.select('tr.list')\r\n",
    "len(trs)"
   ],
   "outputs": [
    {
     "output_type": "execute_result",
     "data": {
      "text/plain": [
       "50"
      ]
     },
     "metadata": {},
     "execution_count": 6
    }
   ],
   "metadata": {}
  },
  {
   "cell_type": "markdown",
   "source": [
    "### 3. 여러개의 데이터 중 하나를 선택해서 원하는 정보 추출"
   ],
   "metadata": {}
  },
  {
   "cell_type": "code",
   "execution_count": 7,
   "source": [
    "# rank, title, artist, album\r\n",
    "tr = trs[0]\r\n",
    "tr.select_one('.number').get_text()"
   ],
   "outputs": [
    {
     "output_type": "execute_result",
     "data": {
      "text/plain": [
       "'1\\n                                        \\n                                    \\n유지\\n\\n'"
      ]
     },
     "metadata": {},
     "execution_count": 7
    }
   ],
   "metadata": {}
  },
  {
   "cell_type": "code",
   "execution_count": 8,
   "source": [
    "tr.select_one('.number').get_text().split('\\n')[0]"
   ],
   "outputs": [
    {
     "output_type": "execute_result",
     "data": {
      "text/plain": [
       "'1'"
      ]
     },
     "metadata": {},
     "execution_count": 8
    }
   ],
   "metadata": {}
  },
  {
   "cell_type": "code",
   "execution_count": 9,
   "source": [
    "rank =int(tr.select_one('.number').get_text().split('\\n')[0])\r\n",
    "rank"
   ],
   "outputs": [
    {
     "output_type": "execute_result",
     "data": {
      "text/plain": [
       "1"
      ]
     },
     "metadata": {},
     "execution_count": 9
    }
   ],
   "metadata": {}
  },
  {
   "cell_type": "code",
   "execution_count": 12,
   "source": [
    "# title\r\n",
    "title = tr.select_one('.info').select_one('.title').get_text().strip()\r\n",
    "title"
   ],
   "outputs": [
    {
     "output_type": "execute_result",
     "data": {
      "text/plain": [
       "'Queendom'"
      ]
     },
     "metadata": {},
     "execution_count": 12
    }
   ],
   "metadata": {}
  },
  {
   "cell_type": "code",
   "execution_count": 14,
   "source": [
    "artist = tr.select_one('.info').select_one('.artist').get_text()\r\n",
    "artist"
   ],
   "outputs": [
    {
     "output_type": "execute_result",
     "data": {
      "text/plain": [
       "'Red Velvet (레드벨벳)'"
      ]
     },
     "metadata": {},
     "execution_count": 14
    }
   ],
   "metadata": {}
  },
  {
   "cell_type": "code",
   "execution_count": 16,
   "source": [
    "album = tr.select_one('.info').select_one('.albumtitle').get_text().strip()\r\n",
    "album"
   ],
   "outputs": [
    {
     "output_type": "execute_result",
     "data": {
      "text/plain": [
       "'Queendom - The 6th Mini Album'"
      ]
     },
     "metadata": {},
     "execution_count": 16
    }
   ],
   "metadata": {}
  },
  {
   "cell_type": "markdown",
   "source": [
    "### 4. 한페이지에 있는 모든 데이터를 반복문으로 가져오기"
   ],
   "metadata": {}
  },
  {
   "cell_type": "code",
   "execution_count": 17,
   "source": [
    "rank_list, title_list ,artist_list, album_list = [],[],[],[]\r\n",
    "\r\n",
    "for tr in trs:\r\n",
    "    rank = int(tr.select_one('.number').get_text().split('\\n')[0])\r\n",
    "    title = tr.select_one('.info').select_one('.title').get_text().strip()\r\n",
    "    artist = tr.select_one('.info').select_one('.artist').get_text()\r\n",
    "    album = tr.select_one('.info').select_one('.albumtitle').get_text().strip()\r\n",
    "    rank_list.append(rank)\r\n",
    "    title_list.append(title)\r\n",
    "    artist_list.append(artist)\r\n",
    "    album_list.append(album)\r\n",
    "\r\n",
    "df = pd.DataFrame({\r\n",
    "    '순위':rank_list,\r\n",
    "    '곡명':title_list,\r\n",
    "    '가수명':artist_list,\r\n",
    "    '앨범명':artist_list\r\n",
    "})\r\n",
    "df.tail()"
   ],
   "outputs": [
    {
     "output_type": "execute_result",
     "data": {
      "text/plain": [
       "    순위                                              곡명          가수명  \\\n",
       "45  46                                             미워요          임영웅   \n",
       "46  47                                        Timeless        SG워너비   \n",
       "47  48  사이렌 Remix (Feat. UNEDUCATED KID & Paul Blanco)          호미들   \n",
       "48  49                                     At My Worst  Pink Sweat$   \n",
       "49  50                                         내 손을 잡아     아이유 (IU)   \n",
       "\n",
       "            앨범명  \n",
       "45          임영웅  \n",
       "46        SG워너비  \n",
       "47          호미들  \n",
       "48  Pink Sweat$  \n",
       "49     아이유 (IU)  "
      ],
      "text/html": [
       "<div>\n",
       "<style scoped>\n",
       "    .dataframe tbody tr th:only-of-type {\n",
       "        vertical-align: middle;\n",
       "    }\n",
       "\n",
       "    .dataframe tbody tr th {\n",
       "        vertical-align: top;\n",
       "    }\n",
       "\n",
       "    .dataframe thead th {\n",
       "        text-align: right;\n",
       "    }\n",
       "</style>\n",
       "<table border=\"1\" class=\"dataframe\">\n",
       "  <thead>\n",
       "    <tr style=\"text-align: right;\">\n",
       "      <th></th>\n",
       "      <th>순위</th>\n",
       "      <th>곡명</th>\n",
       "      <th>가수명</th>\n",
       "      <th>앨범명</th>\n",
       "    </tr>\n",
       "  </thead>\n",
       "  <tbody>\n",
       "    <tr>\n",
       "      <th>45</th>\n",
       "      <td>46</td>\n",
       "      <td>미워요</td>\n",
       "      <td>임영웅</td>\n",
       "      <td>임영웅</td>\n",
       "    </tr>\n",
       "    <tr>\n",
       "      <th>46</th>\n",
       "      <td>47</td>\n",
       "      <td>Timeless</td>\n",
       "      <td>SG워너비</td>\n",
       "      <td>SG워너비</td>\n",
       "    </tr>\n",
       "    <tr>\n",
       "      <th>47</th>\n",
       "      <td>48</td>\n",
       "      <td>사이렌 Remix (Feat. UNEDUCATED KID &amp; Paul Blanco)</td>\n",
       "      <td>호미들</td>\n",
       "      <td>호미들</td>\n",
       "    </tr>\n",
       "    <tr>\n",
       "      <th>48</th>\n",
       "      <td>49</td>\n",
       "      <td>At My Worst</td>\n",
       "      <td>Pink Sweat$</td>\n",
       "      <td>Pink Sweat$</td>\n",
       "    </tr>\n",
       "    <tr>\n",
       "      <th>49</th>\n",
       "      <td>50</td>\n",
       "      <td>내 손을 잡아</td>\n",
       "      <td>아이유 (IU)</td>\n",
       "      <td>아이유 (IU)</td>\n",
       "    </tr>\n",
       "  </tbody>\n",
       "</table>\n",
       "</div>"
      ]
     },
     "metadata": {},
     "execution_count": 17
    }
   ],
   "metadata": {}
  },
  {
   "cell_type": "code",
   "execution_count": 18,
   "source": [
    "df.head()"
   ],
   "outputs": [
    {
     "output_type": "execute_result",
     "data": {
      "text/plain": [
       "   순위                   곡명                가수명                앨범명\n",
       "0   1             Queendom  Red Velvet (레드벨벳)  Red Velvet (레드벨벳)\n",
       "1   2                  신호등                이무진                이무진\n",
       "2   3        낙하 (With 아이유)          AKMU (악뮤)          AKMU (악뮤)\n",
       "3   4               바라만 본다     MSG워너비 (M.O.M)     MSG워너비 (M.O.M)\n",
       "4   5  Permission to Dance              방탄소년단              방탄소년단"
      ],
      "text/html": [
       "<div>\n",
       "<style scoped>\n",
       "    .dataframe tbody tr th:only-of-type {\n",
       "        vertical-align: middle;\n",
       "    }\n",
       "\n",
       "    .dataframe tbody tr th {\n",
       "        vertical-align: top;\n",
       "    }\n",
       "\n",
       "    .dataframe thead th {\n",
       "        text-align: right;\n",
       "    }\n",
       "</style>\n",
       "<table border=\"1\" class=\"dataframe\">\n",
       "  <thead>\n",
       "    <tr style=\"text-align: right;\">\n",
       "      <th></th>\n",
       "      <th>순위</th>\n",
       "      <th>곡명</th>\n",
       "      <th>가수명</th>\n",
       "      <th>앨범명</th>\n",
       "    </tr>\n",
       "  </thead>\n",
       "  <tbody>\n",
       "    <tr>\n",
       "      <th>0</th>\n",
       "      <td>1</td>\n",
       "      <td>Queendom</td>\n",
       "      <td>Red Velvet (레드벨벳)</td>\n",
       "      <td>Red Velvet (레드벨벳)</td>\n",
       "    </tr>\n",
       "    <tr>\n",
       "      <th>1</th>\n",
       "      <td>2</td>\n",
       "      <td>신호등</td>\n",
       "      <td>이무진</td>\n",
       "      <td>이무진</td>\n",
       "    </tr>\n",
       "    <tr>\n",
       "      <th>2</th>\n",
       "      <td>3</td>\n",
       "      <td>낙하 (With 아이유)</td>\n",
       "      <td>AKMU (악뮤)</td>\n",
       "      <td>AKMU (악뮤)</td>\n",
       "    </tr>\n",
       "    <tr>\n",
       "      <th>3</th>\n",
       "      <td>4</td>\n",
       "      <td>바라만 본다</td>\n",
       "      <td>MSG워너비 (M.O.M)</td>\n",
       "      <td>MSG워너비 (M.O.M)</td>\n",
       "    </tr>\n",
       "    <tr>\n",
       "      <th>4</th>\n",
       "      <td>5</td>\n",
       "      <td>Permission to Dance</td>\n",
       "      <td>방탄소년단</td>\n",
       "      <td>방탄소년단</td>\n",
       "    </tr>\n",
       "  </tbody>\n",
       "</table>\n",
       "</div>"
      ]
     },
     "metadata": {},
     "execution_count": 18
    }
   ],
   "metadata": {}
  },
  {
   "cell_type": "code",
   "execution_count": 19,
   "source": [
    "lines = []\r\n",
    "for tr in trs:\r\n",
    "    rank = int(tr.select_one('.number').get_text().split('\\n')[0])\r\n",
    "    title = tr.select_one('.info').select_one('.title').get_text().strip()\r\n",
    "    artist = tr.select_one('.info').select_one('.artist').get_text()\r\n",
    "    album = tr.select_one('.info').select_one('.albumtitle').get_text().strip()\r\n",
    "    lines.append([rank,title,artist,album])"
   ],
   "outputs": [],
   "metadata": {}
  },
  {
   "cell_type": "code",
   "execution_count": 20,
   "source": [
    "df = pd.DataFrame(lines,columns=['순위','곡명','가수','앨범'])\r\n",
    "df.head()"
   ],
   "outputs": [
    {
     "output_type": "execute_result",
     "data": {
      "text/plain": [
       "   순위                   곡명                 가수                             앨범\n",
       "0   1             Queendom  Red Velvet (레드벨벳)  Queendom - The 6th Mini Album\n",
       "1   2                  신호등                이무진                            신호등\n",
       "2   3        낙하 (With 아이유)          AKMU (악뮤)                   NEXT EPISODE\n",
       "3   4               바라만 본다     MSG워너비 (M.O.M)                      MSG워너비 1집\n",
       "4   5  Permission to Dance              방탄소년단   Butter / Permission to Dance"
      ],
      "text/html": [
       "<div>\n",
       "<style scoped>\n",
       "    .dataframe tbody tr th:only-of-type {\n",
       "        vertical-align: middle;\n",
       "    }\n",
       "\n",
       "    .dataframe tbody tr th {\n",
       "        vertical-align: top;\n",
       "    }\n",
       "\n",
       "    .dataframe thead th {\n",
       "        text-align: right;\n",
       "    }\n",
       "</style>\n",
       "<table border=\"1\" class=\"dataframe\">\n",
       "  <thead>\n",
       "    <tr style=\"text-align: right;\">\n",
       "      <th></th>\n",
       "      <th>순위</th>\n",
       "      <th>곡명</th>\n",
       "      <th>가수</th>\n",
       "      <th>앨범</th>\n",
       "    </tr>\n",
       "  </thead>\n",
       "  <tbody>\n",
       "    <tr>\n",
       "      <th>0</th>\n",
       "      <td>1</td>\n",
       "      <td>Queendom</td>\n",
       "      <td>Red Velvet (레드벨벳)</td>\n",
       "      <td>Queendom - The 6th Mini Album</td>\n",
       "    </tr>\n",
       "    <tr>\n",
       "      <th>1</th>\n",
       "      <td>2</td>\n",
       "      <td>신호등</td>\n",
       "      <td>이무진</td>\n",
       "      <td>신호등</td>\n",
       "    </tr>\n",
       "    <tr>\n",
       "      <th>2</th>\n",
       "      <td>3</td>\n",
       "      <td>낙하 (With 아이유)</td>\n",
       "      <td>AKMU (악뮤)</td>\n",
       "      <td>NEXT EPISODE</td>\n",
       "    </tr>\n",
       "    <tr>\n",
       "      <th>3</th>\n",
       "      <td>4</td>\n",
       "      <td>바라만 본다</td>\n",
       "      <td>MSG워너비 (M.O.M)</td>\n",
       "      <td>MSG워너비 1집</td>\n",
       "    </tr>\n",
       "    <tr>\n",
       "      <th>4</th>\n",
       "      <td>5</td>\n",
       "      <td>Permission to Dance</td>\n",
       "      <td>방탄소년단</td>\n",
       "      <td>Butter / Permission to Dance</td>\n",
       "    </tr>\n",
       "  </tbody>\n",
       "</table>\n",
       "</div>"
      ]
     },
     "metadata": {},
     "execution_count": 20
    }
   ],
   "metadata": {}
  },
  {
   "cell_type": "markdown",
   "source": [
    "### 5. 모든 페이지에서 데이터 가져오기"
   ],
   "metadata": {}
  },
  {
   "cell_type": "code",
   "execution_count": 42,
   "source": [
    "sub = 'https://www.genie.co.kr/chart/top200?ditc=D&ymd=20210817&hh=14&rtm=Y&pg='\r\n",
    "rank_list, title_list ,artist_list, album_list = [],[],[],[]\r\n",
    "\r\n",
    "for page in range(1,5):\r\n",
    "    url = f'{sub}{page}'\r\n",
    "    req = requests.get(url, headers=header)\r\n",
    "    soup = BeautifulSoup(req.text, 'html.parser')\r\n",
    "    trs = soup.select('tr.list')\r\n",
    "    for tr in trs:\r\n",
    "        rank = int(tr.select_one('.number').get_text().split('\\n')[0])\r\n",
    "        title = tr.select_one('.info').select_one('.title').get_text().strip()\r\n",
    "        artist = tr.select_one('.info').select_one('.artist').get_text().strip()\r\n",
    "        album = tr.select_one('.info').select_one('.albumtitle').get_text().strip()\r\n",
    "        rank_list.append(rank)\r\n",
    "        title_list.append(title)\r\n",
    "        artist_list.append(artist)\r\n",
    "        album_list.append(album)"
   ],
   "outputs": [],
   "metadata": {}
  },
  {
   "cell_type": "code",
   "execution_count": 43,
   "source": [
    "df = pd.DataFrame({\r\n",
    "    '순위':rank_list,\r\n",
    "    '곡명':title_list,\r\n",
    "    '가수명':artist_list,\r\n",
    "    '앨범명':album_list\r\n",
    "})\r\n",
    "df.tail()"
   ],
   "outputs": [
    {
     "output_type": "execute_result",
     "data": {
      "text/plain": [
       "      순위                          곡명           가수명  \\\n",
       "195  196  둘 중에 골라 (Summer or Summer)       효린 & 다솜   \n",
       "196  197      광화문에서 (At Gwanghwamun)  규현 (KYUHYUN)   \n",
       "197  198                       노래방에서           장범준   \n",
       "198  199                        Rose     디오 (D.O.)   \n",
       "199  200                          여행        볼빨간사춘기   \n",
       "\n",
       "                                             앨범명  \n",
       "195                   둘 중에 골라 (Summer or Summer)  \n",
       "196  The 1st Mini Album '광화문에서 (At Gwanghwamun)'  \n",
       "197                                       장범준 3집  \n",
       "198                      공감 - The 1st Mini Album  \n",
       "199                             Red Diary Page.2  "
      ],
      "text/html": [
       "<div>\n",
       "<style scoped>\n",
       "    .dataframe tbody tr th:only-of-type {\n",
       "        vertical-align: middle;\n",
       "    }\n",
       "\n",
       "    .dataframe tbody tr th {\n",
       "        vertical-align: top;\n",
       "    }\n",
       "\n",
       "    .dataframe thead th {\n",
       "        text-align: right;\n",
       "    }\n",
       "</style>\n",
       "<table border=\"1\" class=\"dataframe\">\n",
       "  <thead>\n",
       "    <tr style=\"text-align: right;\">\n",
       "      <th></th>\n",
       "      <th>순위</th>\n",
       "      <th>곡명</th>\n",
       "      <th>가수명</th>\n",
       "      <th>앨범명</th>\n",
       "    </tr>\n",
       "  </thead>\n",
       "  <tbody>\n",
       "    <tr>\n",
       "      <th>195</th>\n",
       "      <td>196</td>\n",
       "      <td>둘 중에 골라 (Summer or Summer)</td>\n",
       "      <td>효린 &amp; 다솜</td>\n",
       "      <td>둘 중에 골라 (Summer or Summer)</td>\n",
       "    </tr>\n",
       "    <tr>\n",
       "      <th>196</th>\n",
       "      <td>197</td>\n",
       "      <td>광화문에서 (At Gwanghwamun)</td>\n",
       "      <td>규현 (KYUHYUN)</td>\n",
       "      <td>The 1st Mini Album '광화문에서 (At Gwanghwamun)'</td>\n",
       "    </tr>\n",
       "    <tr>\n",
       "      <th>197</th>\n",
       "      <td>198</td>\n",
       "      <td>노래방에서</td>\n",
       "      <td>장범준</td>\n",
       "      <td>장범준 3집</td>\n",
       "    </tr>\n",
       "    <tr>\n",
       "      <th>198</th>\n",
       "      <td>199</td>\n",
       "      <td>Rose</td>\n",
       "      <td>디오 (D.O.)</td>\n",
       "      <td>공감 - The 1st Mini Album</td>\n",
       "    </tr>\n",
       "    <tr>\n",
       "      <th>199</th>\n",
       "      <td>200</td>\n",
       "      <td>여행</td>\n",
       "      <td>볼빨간사춘기</td>\n",
       "      <td>Red Diary Page.2</td>\n",
       "    </tr>\n",
       "  </tbody>\n",
       "</table>\n",
       "</div>"
      ]
     },
     "metadata": {},
     "execution_count": 43
    }
   ],
   "metadata": {}
  }
 ],
 "metadata": {
  "orig_nbformat": 4,
  "language_info": {
   "name": "python",
   "version": "3.8.10",
   "mimetype": "text/x-python",
   "codemirror_mode": {
    "name": "ipython",
    "version": 3
   },
   "pygments_lexer": "ipython3",
   "nbconvert_exporter": "python",
   "file_extension": ".py"
  },
  "kernelspec": {
   "name": "python3",
   "display_name": "Python 3.8.10 64-bit ('base': conda)"
  },
  "interpreter": {
   "hash": "acbbfebbbdf654efa85aa18169a14b54796a806b8c18a3c243660030e08aa454"
  }
 },
 "nbformat": 4,
 "nbformat_minor": 2
}