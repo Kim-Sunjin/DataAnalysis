{
 "cells": [
  {
   "cell_type": "markdown",
   "source": [
    "## 제주맛집 인스타그램"
   ],
   "metadata": {}
  },
  {
   "cell_type": "code",
   "execution_count": 1,
   "source": [
    "from selenium import webdriver\r\n",
    "from bs4 import BeautifulSoup\r\n",
    "import time\r\n",
    "import pandas as pd"
   ],
   "outputs": [],
   "metadata": {}
  },
  {
   "cell_type": "code",
   "execution_count": 52,
   "source": [
    "chromedriver = 'chromedriver.exe'\r\n",
    "driver=webdriver.Chrome(chromedriver)"
   ],
   "outputs": [],
   "metadata": {}
  },
  {
   "cell_type": "markdown",
   "source": [
    "### 1. instagram에 접속하여 로그인하기"
   ],
   "metadata": {}
  },
  {
   "cell_type": "code",
   "execution_count": 53,
   "source": [
    "insta_url = 'https://www.instagram.com'\r\n",
    "driver.get(insta_url)\r\n",
    "time.sleep(1)"
   ],
   "outputs": [],
   "metadata": {}
  },
  {
   "cell_type": "code",
   "execution_count": 54,
   "source": [
    "with open('password.txt') as f:\r\n",
    "    password = f.read()"
   ],
   "outputs": [],
   "metadata": {}
  },
  {
   "cell_type": "code",
   "execution_count": 55,
   "source": [
    "len(password)"
   ],
   "outputs": [
    {
     "output_type": "execute_result",
     "data": {
      "text/plain": [
       "11"
      ]
     },
     "metadata": {},
     "execution_count": 55
    }
   ],
   "metadata": {}
  },
  {
   "cell_type": "code",
   "execution_count": 58,
   "source": [
    "email = 'igksjin929@naver.com'\r\n",
    "input_id = driver.find_element_by_css_selector('input._2hvTZ.pexuQ.zyHYP')\r\n",
    "input_id.clear()\r\n",
    "input_id.send_keys(email)"
   ],
   "outputs": [],
   "metadata": {}
  },
  {
   "cell_type": "code",
   "execution_count": 59,
   "source": [
    "input_password = driver.find_element_by_name('password')\r\n",
    "input_password.clear()\r\n",
    "input_password.send_keys(password)\r\n",
    "input_password.submit()\r\n",
    "time.sleep(1)"
   ],
   "outputs": [],
   "metadata": {}
  },
  {
   "cell_type": "code",
   "execution_count": 11,
   "source": [
    "try:\r\n",
    "    driver.find_elements_by_css_selector('.a001W.HoLwm').click()\r\n",
    "    time.sleep(1)\r\n",
    "except:\r\n",
    "    pass"
   ],
   "outputs": [],
   "metadata": {}
  },
  {
   "cell_type": "code",
   "execution_count": 60,
   "source": [
    "from urllib.parse import quote\r\n",
    "keyword = '제주도맛집'\r\n",
    "search_url = 'https://www.instagram.com/explore/tags/'\r\n",
    "url = f'{search_url}{quote(keyword)}'\r\n",
    "url"
   ],
   "outputs": [
    {
     "output_type": "execute_result",
     "data": {
      "text/plain": [
       "'https://www.instagram.com/explore/tags/%EC%A0%9C%EC%A3%BC%EB%8F%84%EB%A7%9B%EC%A7%91'"
      ]
     },
     "metadata": {},
     "execution_count": 60
    }
   ],
   "metadata": {}
  },
  {
   "cell_type": "code",
   "execution_count": 61,
   "source": [
    "driver.get(url)\r\n",
    "time.sleep(3)"
   ],
   "outputs": [],
   "metadata": {}
  },
  {
   "cell_type": "code",
   "execution_count": 62,
   "source": [
    "driver.find_element_by_css_selector('div._9AhH0').click()\r\n",
    "time.sleep(3)"
   ],
   "outputs": [],
   "metadata": {}
  },
  {
   "cell_type": "code",
   "execution_count": 63,
   "source": [
    "import unicodedata\r\n",
    "\r\n",
    "html = driver.page_source\r\n",
    "soup = BeautifulSoup(html, 'html.parser')\r\n",
    "try:\r\n",
    "    content = soup.select_one('div.C4VMK > span').text\r\n",
    "    content = unicodedata.normalize('NFC',content)\r\n",
    "except:\r\n",
    "    content = ' '\r\n",
    "content"
   ],
   "outputs": [
    {
     "output_type": "execute_result",
     "data": {
      "text/plain": [
       "'.#연동 #모니카옛날통닭간판부터 맛집포스 작렬하는 찐맛집이젠 인생치킨이라고 말하기도 입아픔@칭구야 올때 포장해와@주소 : 제주 제주시 신대로10길 33..#제주맛집 #제주도맛집 #제주공항근처맛집 #제주시맛집 #애월맛집 #중문맛집 #제주공항맛집 #서귀포맛집 #산방산맛집 #신제주맛집 #제주시청맛집 #제주애월맛집 #월정리맛집 #제주여행 #제주핫플'"
      ]
     },
     "metadata": {},
     "execution_count": 63
    }
   ],
   "metadata": {}
  },
  {
   "cell_type": "code",
   "execution_count": 64,
   "source": [
    "# 본문 내용에서 해쉬태크 가져오기, '#[^/s#,\\\\]+'\r\n",
    "import re\r\n",
    "tags = re.findall(r'#[^/s#,\\\\]+',content)\r\n",
    "tags"
   ],
   "outputs": [
    {
     "output_type": "execute_result",
     "data": {
      "text/plain": [
       "['#연동 ',\n",
       " '#모니카옛날통닭간판부터 맛집포스 작렬하는 찐맛집이젠 인생치킨이라고 말하기도 입아픔@칭구야 올때 포장해와@주소 : 제주 제주시 신대로10길 33..',\n",
       " '#제주맛집 ',\n",
       " '#제주도맛집 ',\n",
       " '#제주공항근처맛집 ',\n",
       " '#제주시맛집 ',\n",
       " '#애월맛집 ',\n",
       " '#중문맛집 ',\n",
       " '#제주공항맛집 ',\n",
       " '#서귀포맛집 ',\n",
       " '#산방산맛집 ',\n",
       " '#신제주맛집 ',\n",
       " '#제주시청맛집 ',\n",
       " '#제주애월맛집 ',\n",
       " '#월정리맛집 ',\n",
       " '#제주여행 ',\n",
       " '#제주핫플']"
      ]
     },
     "metadata": {},
     "execution_count": 64
    }
   ],
   "metadata": {}
  },
  {
   "cell_type": "code",
   "execution_count": 65,
   "source": [
    "# 작성 날짜\r\n",
    "date = soup.select_one('time._1o9PC.Nzb55')['datetime'][:10]\r\n",
    "date"
   ],
   "outputs": [
    {
     "output_type": "execute_result",
     "data": {
      "text/plain": [
       "'2021-08-19'"
      ]
     },
     "metadata": {},
     "execution_count": 65
    }
   ],
   "metadata": {}
  },
  {
   "cell_type": "code",
   "execution_count": 66,
   "source": [
    "# 좋아요\r\n",
    "try:\r\n",
    "    like = soup.select_one('div.Nm9Fw > span').text[4:-1]\r\n",
    "except:\r\n",
    "    like = 0\r\n",
    "like"
   ],
   "outputs": [
    {
     "output_type": "execute_result",
     "data": {
      "text/plain": [
       "0"
      ]
     },
     "metadata": {},
     "execution_count": 66
    }
   ],
   "metadata": {}
  },
  {
   "cell_type": "code",
   "execution_count": 67,
   "source": [
    "# 위치정보 가져오기\r\n",
    "try:\r\n",
    "    place = soup.select_one('div.M30cS')[0].text\r\n",
    "    place = unicodedata.normalize('NFC',place)\r\n",
    "except:\r\n",
    "    place = ''\r\n",
    "place"
   ],
   "outputs": [
    {
     "output_type": "execute_result",
     "data": {
      "text/plain": [
       "''"
      ]
     },
     "metadata": {},
     "execution_count": 67
    }
   ],
   "metadata": {}
  },
  {
   "cell_type": "code",
   "execution_count": 68,
   "source": [
    "# 수집한 정보 저장하기\r\n",
    "data = [content,date,like,place,tags]\r\n",
    "data"
   ],
   "outputs": [
    {
     "output_type": "execute_result",
     "data": {
      "text/plain": [
       "['.#연동 #모니카옛날통닭간판부터 맛집포스 작렬하는 찐맛집이젠 인생치킨이라고 말하기도 입아픔@칭구야 올때 포장해와@주소 : 제주 제주시 신대로10길 33..#제주맛집 #제주도맛집 #제주공항근처맛집 #제주시맛집 #애월맛집 #중문맛집 #제주공항맛집 #서귀포맛집 #산방산맛집 #신제주맛집 #제주시청맛집 #제주애월맛집 #월정리맛집 #제주여행 #제주핫플',\n",
       " '2021-08-19',\n",
       " 0,\n",
       " '',\n",
       " ['#연동 ',\n",
       "  '#모니카옛날통닭간판부터 맛집포스 작렬하는 찐맛집이젠 인생치킨이라고 말하기도 입아픔@칭구야 올때 포장해와@주소 : 제주 제주시 신대로10길 33..',\n",
       "  '#제주맛집 ',\n",
       "  '#제주도맛집 ',\n",
       "  '#제주공항근처맛집 ',\n",
       "  '#제주시맛집 ',\n",
       "  '#애월맛집 ',\n",
       "  '#중문맛집 ',\n",
       "  '#제주공항맛집 ',\n",
       "  '#서귀포맛집 ',\n",
       "  '#산방산맛집 ',\n",
       "  '#신제주맛집 ',\n",
       "  '#제주시청맛집 ',\n",
       "  '#제주애월맛집 ',\n",
       "  '#월정리맛집 ',\n",
       "  '#제주여행 ',\n",
       "  '#제주핫플']]"
      ]
     },
     "metadata": {},
     "execution_count": 68
    }
   ],
   "metadata": {}
  },
  {
   "cell_type": "code",
   "execution_count": 29,
   "source": [
    "# 다음 게시물로 이동\r\n",
    "driver.find_element_by_css_selector('a._65Bje.coreSpriteRightPaginationArrow').click()\r\n",
    "time.sleep(3)"
   ],
   "outputs": [],
   "metadata": {}
  },
  {
   "cell_type": "code",
   "execution_count": 43,
   "source": [
    "# 6을 하기 위해 화면을 없앰( X 버튼을 클릭) div.Igw0E.IwRSH.eGOV_._4EzTm.BI4qX.qJPeX.fm1AK.TxciK.yiMZG > button\r\n",
    "driver.find_element_by_css_selector('div.Igw0E.IwRSH.eGOV_._4EzTm.BI4qX.qJPeX.fm1AK.TxciK.yiMZG > button.wpO6b').click()"
   ],
   "outputs": [],
   "metadata": {}
  },
  {
   "cell_type": "code",
   "execution_count": null,
   "source": [
    "driver.find_element_by_css_selector()"
   ],
   "outputs": [],
   "metadata": {}
  },
  {
   "cell_type": "code",
   "execution_count": 69,
   "source": [
    "result = []\r\n",
    "\r\n",
    "for i in range(50):\r\n",
    "    print(i, end='')\r\n",
    "    html = driver.page_source\r\n",
    "    soup = BeautifulSoup(html, 'html.parser')\r\n",
    "\r\n",
    "    try:\r\n",
    "        content = soup.select_one('div.C4VMK > span').text\r\n",
    "        content = unicodedata.normalize('NFC',content)\r\n",
    "    except:\r\n",
    "        content = ' '\r\n",
    "    tags = re.findall(r'#[^/s#,\\\\]+',content)\r\n",
    "    date = soup.select_one('time._1o9PC.Nzb55')['datetime'][:10]\r\n",
    "        \r\n",
    "    try:\r\n",
    "        like = soup.select_one('div.Nm9Fw > button').text[4:-1]\r\n",
    "    except:\r\n",
    "        like = 0\r\n",
    "    try:\r\n",
    "        place = soup.select_one('div.M30cS')[0].text\r\n",
    "        place = unicodedata.normalize('NFC',place)\r\n",
    "    except:\r\n",
    "        place = ''\r\n",
    "        row = [content,date,like,place,tags]\r\n",
    "    result.append(row)\r\n",
    "\r\n",
    "    driver.find_element_by_css_selector('a._65Bje.coreSpriteRightPaginationArrow').click()\r\n",
    "    time.sleep(3)"
   ],
   "outputs": [
    {
     "output_type": "stream",
     "name": "stdout",
     "text": [
      "012345678910111213141516171819202122232425262728293031323334353637383940414243444546474849"
     ]
    }
   ],
   "metadata": {}
  },
  {
   "cell_type": "code",
   "execution_count": 70,
   "source": [
    "def get_content(driver):\r\n",
    "    html = driver.page_source\r\n",
    "    soup = BeautifulSoup(html, 'html.parser')\r\n",
    "    try:\r\n",
    "        content = soup.select_one('div.C4VMK > span').text\r\n",
    "        content = unicodedata.normalize('NFC',content)\r\n",
    "    except:\r\n",
    "        content = ' '\r\n",
    "    tags = re.findall(r'#[^/s#,\\\\]+',content)\r\n",
    "    date = soup.select_one('time._1o9PC.Nzb55')['datetime'][:10]\r\n",
    "        \r\n",
    "    try:\r\n",
    "        like = soup.select_one('div.Nm9Fw > button').text[4:-1]\r\n",
    "    except:\r\n",
    "        like = 0\r\n",
    "    try:\r\n",
    "        place = soup.select_one('div.M30cS')[0].text\r\n",
    "        place = unicodedata.normalize('NFC',place)\r\n",
    "    except:\r\n",
    "        place = ''\r\n",
    "        row = [content,date,like,place,tags]\r\n",
    "    return row"
   ],
   "outputs": [],
   "metadata": {}
  },
  {
   "cell_type": "code",
   "execution_count": 78,
   "source": [
    "def move_next(driver):\r\n",
    "    driver.find_element_by_css_selector('a._65Bje.coreSpriteRightPaginationArrow').click()\r\n",
    "    time.sleep(3)"
   ],
   "outputs": [],
   "metadata": {}
  },
  {
   "cell_type": "code",
   "execution_count": 72,
   "source": [
    "result = []\r\n",
    "\r\n",
    "target = int(input())\r\n",
    "for i in range(target):\r\n",
    "    try:\r\n",
    "        data = get_content(driver)\r\n",
    "        result.append(data)\r\n",
    "        move_next(driver)\r\n",
    "    except:\r\n",
    "        time.sleep(2)\r\n",
    "        move_next(driver)\r\n"
   ],
   "outputs": [],
   "metadata": {}
  },
  {
   "cell_type": "code",
   "execution_count": 73,
   "source": [
    "import tqdm"
   ],
   "outputs": [],
   "metadata": {}
  },
  {
   "cell_type": "code",
   "execution_count": null,
   "source": [
    "# 제주도맛집, 제주맛집은 성공. 제주도관광에서 오류발생\r\n",
    "for keyword in ['제주도관광', '제주여행']:\r\n",
    "    url = f'{search_url}{quote(keyword)}'\r\n",
    "    driver.get(url)\r\n",
    "    time.sleep(5)\r\n",
    "    driver.find_element_by_css_selector('div._9AhH0').click()\r\n",
    "    time.sleep(3)\r\n",
    "\r\n",
    "    results = []\r\n",
    "    for _ in range(200):\r\n",
    "        try:\r\n",
    "            row = get_content(driver)\r\n",
    "            results.append(row)\r\n",
    "            move_next(driver)\r\n",
    "            time.sleep(2)\r\n",
    "        except:\r\n",
    "            time.sleep(3)\r\n",
    "            move_next(driver)\r\n",
    "            time.sleep(2)\r\n",
    "\r\n",
    "    df = pd.DataFrame(results, columns=['content','date','like','place','tags'])\r\n",
    "    df.to_csv(f'data/{keyword}.csv', index=False)\r\n",
    "\r\n",
    "    driver.find_element_by_xpath('/html/body/div[6]/div[3]/button').click()\r\n",
    "    time.sleep(2)"
   ],
   "outputs": [],
   "metadata": {}
  }
 ],
 "metadata": {
  "orig_nbformat": 4,
  "language_info": {
   "name": "python",
   "version": "3.8.10",
   "mimetype": "text/x-python",
   "codemirror_mode": {
    "name": "ipython",
    "version": 3
   },
   "pygments_lexer": "ipython3",
   "nbconvert_exporter": "python",
   "file_extension": ".py"
  },
  "kernelspec": {
   "name": "python3",
   "display_name": "Python 3.8.10 64-bit ('base': conda)"
  },
  "interpreter": {
   "hash": "acbbfebbbdf654efa85aa18169a14b54796a806b8c18a3c243660030e08aa454"
  }
 },
 "nbformat": 4,
 "nbformat_minor": 2
}