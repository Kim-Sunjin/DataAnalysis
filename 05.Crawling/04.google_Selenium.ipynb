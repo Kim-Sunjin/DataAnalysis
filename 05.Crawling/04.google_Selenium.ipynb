{
 "cells": [
  {
   "cell_type": "code",
   "execution_count": 1,
   "source": [
    "import requests\r\n",
    "import pandas as pd"
   ],
   "outputs": [],
   "metadata": {}
  },
  {
   "cell_type": "code",
   "execution_count": 20,
   "source": [
    "\r\n",
    "url = 'https://www.google.com'\r\n",
    "req = requests.get(url)\r\n",
    "\r\n"
   ],
   "outputs": [],
   "metadata": {}
  },
  {
   "cell_type": "code",
   "execution_count": 3,
   "source": [
    "import time\r\n",
    "from selenium import webdriver\r\n",
    "from selenium.webdriver.common.keys import Keys"
   ],
   "outputs": [],
   "metadata": {}
  },
  {
   "cell_type": "code",
   "execution_count": 27,
   "source": [
    "driver = webdriver.Chrome('C:/Workspace/02.DataAnalysis/05.Crawling/chromedriver')\r\n",
    "driver.get(url)"
   ],
   "outputs": [],
   "metadata": {}
  },
  {
   "cell_type": "code",
   "execution_count": 28,
   "source": [
    "search_box = driver.find_element_by_name('q')\r\n",
    "search_box.send_keys('ChromeDriver')\r\n",
    "search_box.send_keys(Keys.ENTER)\r\n",
    "time.sleep(2)"
   ],
   "outputs": [],
   "metadata": {}
  },
  {
   "cell_type": "code",
   "execution_count": null,
   "source": [
    "divs = driver.find_elements_by_css_selector ('.g')\r\n",
    "title_list, content_list = [], []\r\n",
    "for div in divs\r\n",
    "title = div.find_element_by_css_selector ('.LC20lb.DKV0Md').text\r\n",
    "content = div.find_element_by_css_selector ('.VwiC3b.yXK7lf.MUxGbd.yDYNvb.lyLwlc').text"
   ],
   "outputs": [],
   "metadata": {}
  },
  {
   "cell_type": "code",
   "execution_count": 29,
   "source": [
    "driver.close()"
   ],
   "outputs": [],
   "metadata": {}
  }
 ],
 "metadata": {
  "orig_nbformat": 4,
  "language_info": {
   "name": "python",
   "version": "3.8.10",
   "mimetype": "text/x-python",
   "codemirror_mode": {
    "name": "ipython",
    "version": 3
   },
   "pygments_lexer": "ipython3",
   "nbconvert_exporter": "python",
   "file_extension": ".py"
  },
  "kernelspec": {
   "name": "python3",
   "display_name": "Python 3.8.10 64-bit ('base': conda)"
  },
  "interpreter": {
   "hash": "acbbfebbbdf654efa85aa18169a14b54796a806b8c18a3c243660030e08aa454"
  }
 },
 "nbformat": 4,
 "nbformat_minor": 2
}