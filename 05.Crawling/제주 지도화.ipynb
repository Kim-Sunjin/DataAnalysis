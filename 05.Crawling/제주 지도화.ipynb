{
 "cells": [
  {
   "cell_type": "code",
   "execution_count": 1,
   "source": [
    "import pandas as pd\r\n",
    "import numpy as np\r\n",
    "import matplotlib.pyplot as plt\r\n",
    "import matplotlib as mpl"
   ],
   "outputs": [],
   "metadata": {}
  },
  {
   "cell_type": "code",
   "execution_count": 22,
   "source": [
    "raw_df = pd.read_csv('C://Workspace/02.DataAnalysis/05.Crawling/data/제주데이터.csv')\r\n",
    "raw_df.head()"
   ],
   "outputs": [
    {
     "output_type": "execute_result",
     "data": {
      "text/plain": [
       "   Unnamed: 0                                            content        date  \\\n",
       "0           0  더 늦기전에 제주도로 떠나쟈😍.#제주핫플레이스 간단히 1탄 모아봄!#제주여행 요 필...  2018-12-07   \n",
       "1           1  12월에 제주도를 가야하는이유🍊.#제주핫플 모음 끝판왕😍이거 하나면 겨울 #제주여행...  2018-12-03   \n",
       "2           2  11월 놓치지 말아야 할 제주 관광.가을바람이 최고조에 이르는 11월추운 겨울을 앞...  2018-11-02   \n",
       "3           3  국민학교세대#제주관광#제주살이#제주이주민#아라동주민#삼남매집 #새해첫날#드라이브#명...  2019-01-01   \n",
       "4           4  #제주관광 #제주 #돔나이트 #스트레스 #풀자 #춤추며 #땀날려 #가끔은괜찮아 #인...  2019-01-01   \n",
       "\n",
       "    like   place                                               tags  \n",
       "0  1,402     NaN  ['#제주핫플레이스', '#제주여행', '#제주여행', '#제주도여행', '#제주가...  \n",
       "1    368     NaN  ['#제주핫플', '#제주여행', '#제주', '#제주도', '#제주도맛집', '#...  \n",
       "2    166     NaN  ['#honestin', '#어니스틴', '#제주여행', '#제주', '#제주도',...  \n",
       "3     28  명월국민학교  ['#제주관광', '#제주살이', '#제주이주민', '#아라동주민', '#삼남매집'...  \n",
       "4     12     NaN  ['#제주관광', '#제주', '#돔나이트', '#스트레스', '#풀자', '#춤추...  "
      ],
      "text/html": [
       "<div>\n",
       "<style scoped>\n",
       "    .dataframe tbody tr th:only-of-type {\n",
       "        vertical-align: middle;\n",
       "    }\n",
       "\n",
       "    .dataframe tbody tr th {\n",
       "        vertical-align: top;\n",
       "    }\n",
       "\n",
       "    .dataframe thead th {\n",
       "        text-align: right;\n",
       "    }\n",
       "</style>\n",
       "<table border=\"1\" class=\"dataframe\">\n",
       "  <thead>\n",
       "    <tr style=\"text-align: right;\">\n",
       "      <th></th>\n",
       "      <th>Unnamed: 0</th>\n",
       "      <th>content</th>\n",
       "      <th>date</th>\n",
       "      <th>like</th>\n",
       "      <th>place</th>\n",
       "      <th>tags</th>\n",
       "    </tr>\n",
       "  </thead>\n",
       "  <tbody>\n",
       "    <tr>\n",
       "      <th>0</th>\n",
       "      <td>0</td>\n",
       "      <td>더 늦기전에 제주도로 떠나쟈😍.#제주핫플레이스 간단히 1탄 모아봄!#제주여행 요 필...</td>\n",
       "      <td>2018-12-07</td>\n",
       "      <td>1,402</td>\n",
       "      <td>NaN</td>\n",
       "      <td>['#제주핫플레이스', '#제주여행', '#제주여행', '#제주도여행', '#제주가...</td>\n",
       "    </tr>\n",
       "    <tr>\n",
       "      <th>1</th>\n",
       "      <td>1</td>\n",
       "      <td>12월에 제주도를 가야하는이유🍊.#제주핫플 모음 끝판왕😍이거 하나면 겨울 #제주여행...</td>\n",
       "      <td>2018-12-03</td>\n",
       "      <td>368</td>\n",
       "      <td>NaN</td>\n",
       "      <td>['#제주핫플', '#제주여행', '#제주', '#제주도', '#제주도맛집', '#...</td>\n",
       "    </tr>\n",
       "    <tr>\n",
       "      <th>2</th>\n",
       "      <td>2</td>\n",
       "      <td>11월 놓치지 말아야 할 제주 관광.가을바람이 최고조에 이르는 11월추운 겨울을 앞...</td>\n",
       "      <td>2018-11-02</td>\n",
       "      <td>166</td>\n",
       "      <td>NaN</td>\n",
       "      <td>['#honestin', '#어니스틴', '#제주여행', '#제주', '#제주도',...</td>\n",
       "    </tr>\n",
       "    <tr>\n",
       "      <th>3</th>\n",
       "      <td>3</td>\n",
       "      <td>국민학교세대#제주관광#제주살이#제주이주민#아라동주민#삼남매집 #새해첫날#드라이브#명...</td>\n",
       "      <td>2019-01-01</td>\n",
       "      <td>28</td>\n",
       "      <td>명월국민학교</td>\n",
       "      <td>['#제주관광', '#제주살이', '#제주이주민', '#아라동주민', '#삼남매집'...</td>\n",
       "    </tr>\n",
       "    <tr>\n",
       "      <th>4</th>\n",
       "      <td>4</td>\n",
       "      <td>#제주관광 #제주 #돔나이트 #스트레스 #풀자 #춤추며 #땀날려 #가끔은괜찮아 #인...</td>\n",
       "      <td>2019-01-01</td>\n",
       "      <td>12</td>\n",
       "      <td>NaN</td>\n",
       "      <td>['#제주관광', '#제주', '#돔나이트', '#스트레스', '#풀자', '#춤추...</td>\n",
       "    </tr>\n",
       "  </tbody>\n",
       "</table>\n",
       "</div>"
      ]
     },
     "metadata": {},
     "execution_count": 22
    }
   ],
   "metadata": {}
  },
  {
   "cell_type": "code",
   "execution_count": 23,
   "source": [
    "location_counts = raw_df.place.value_counts().to_frame()\r\n",
    "print(location_counts.shape)\r\n",
    "location_counts.head()"
   ],
   "outputs": [
    {
     "output_type": "stream",
     "name": "stdout",
     "text": [
      "(1027, 1)\n"
     ]
    },
    {
     "output_type": "execute_result",
     "data": {
      "text/plain": [
       "                      place\n",
       "Jeju                    241\n",
       "Jeju-do                 172\n",
       "Jungle Book by Alice    101\n",
       "Seogwipo                 65\n",
       "제주도 크리스마스 박물관            59"
      ],
      "text/html": [
       "<div>\n",
       "<style scoped>\n",
       "    .dataframe tbody tr th:only-of-type {\n",
       "        vertical-align: middle;\n",
       "    }\n",
       "\n",
       "    .dataframe tbody tr th {\n",
       "        vertical-align: top;\n",
       "    }\n",
       "\n",
       "    .dataframe thead th {\n",
       "        text-align: right;\n",
       "    }\n",
       "</style>\n",
       "<table border=\"1\" class=\"dataframe\">\n",
       "  <thead>\n",
       "    <tr style=\"text-align: right;\">\n",
       "      <th></th>\n",
       "      <th>place</th>\n",
       "    </tr>\n",
       "  </thead>\n",
       "  <tbody>\n",
       "    <tr>\n",
       "      <th>Jeju</th>\n",
       "      <td>241</td>\n",
       "    </tr>\n",
       "    <tr>\n",
       "      <th>Jeju-do</th>\n",
       "      <td>172</td>\n",
       "    </tr>\n",
       "    <tr>\n",
       "      <th>Jungle Book by Alice</th>\n",
       "      <td>101</td>\n",
       "    </tr>\n",
       "    <tr>\n",
       "      <th>Seogwipo</th>\n",
       "      <td>65</td>\n",
       "    </tr>\n",
       "    <tr>\n",
       "      <th>제주도 크리스마스 박물관</th>\n",
       "      <td>59</td>\n",
       "    </tr>\n",
       "  </tbody>\n",
       "</table>\n",
       "</div>"
      ]
     },
     "metadata": {},
     "execution_count": 23
    }
   ],
   "metadata": {}
  },
  {
   "cell_type": "code",
   "execution_count": 24,
   "source": [
    "location_counts.tail()"
   ],
   "outputs": [
    {
     "output_type": "execute_result",
     "data": {
      "text/plain": [
       "               place\n",
       "흑돼지가있는풍경           1\n",
       "물꼬기                1\n",
       "블랙하우스 떡볶이레스토랑      1\n",
       "김녕 성세기 해변          1\n",
       "디스이즈핫              1"
      ],
      "text/html": [
       "<div>\n",
       "<style scoped>\n",
       "    .dataframe tbody tr th:only-of-type {\n",
       "        vertical-align: middle;\n",
       "    }\n",
       "\n",
       "    .dataframe tbody tr th {\n",
       "        vertical-align: top;\n",
       "    }\n",
       "\n",
       "    .dataframe thead th {\n",
       "        text-align: right;\n",
       "    }\n",
       "</style>\n",
       "<table border=\"1\" class=\"dataframe\">\n",
       "  <thead>\n",
       "    <tr style=\"text-align: right;\">\n",
       "      <th></th>\n",
       "      <th>place</th>\n",
       "    </tr>\n",
       "  </thead>\n",
       "  <tbody>\n",
       "    <tr>\n",
       "      <th>흑돼지가있는풍경</th>\n",
       "      <td>1</td>\n",
       "    </tr>\n",
       "    <tr>\n",
       "      <th>물꼬기</th>\n",
       "      <td>1</td>\n",
       "    </tr>\n",
       "    <tr>\n",
       "      <th>블랙하우스 떡볶이레스토랑</th>\n",
       "      <td>1</td>\n",
       "    </tr>\n",
       "    <tr>\n",
       "      <th>김녕 성세기 해변</th>\n",
       "      <td>1</td>\n",
       "    </tr>\n",
       "    <tr>\n",
       "      <th>디스이즈핫</th>\n",
       "      <td>1</td>\n",
       "    </tr>\n",
       "  </tbody>\n",
       "</table>\n",
       "</div>"
      ]
     },
     "metadata": {},
     "execution_count": 24
    }
   ],
   "metadata": {}
  },
  {
   "cell_type": "code",
   "execution_count": 25,
   "source": [
    "location_counts.to_csv('location_counts.csv')"
   ],
   "outputs": [],
   "metadata": {}
  },
  {
   "cell_type": "code",
   "execution_count": 26,
   "source": [
    "loc_df = pd.read_csv('location_counts.csv')\r\n",
    "loc_df.columns = ['지명','빈도']\r\n",
    "loc_df.head()"
   ],
   "outputs": [
    {
     "output_type": "execute_result",
     "data": {
      "text/plain": [
       "                     지명   빈도\n",
       "0                  Jeju  241\n",
       "1               Jeju-do  172\n",
       "2  Jungle Book by Alice  101\n",
       "3              Seogwipo   65\n",
       "4         제주도 크리스마스 박물관   59"
      ],
      "text/html": [
       "<div>\n",
       "<style scoped>\n",
       "    .dataframe tbody tr th:only-of-type {\n",
       "        vertical-align: middle;\n",
       "    }\n",
       "\n",
       "    .dataframe tbody tr th {\n",
       "        vertical-align: top;\n",
       "    }\n",
       "\n",
       "    .dataframe thead th {\n",
       "        text-align: right;\n",
       "    }\n",
       "</style>\n",
       "<table border=\"1\" class=\"dataframe\">\n",
       "  <thead>\n",
       "    <tr style=\"text-align: right;\">\n",
       "      <th></th>\n",
       "      <th>지명</th>\n",
       "      <th>빈도</th>\n",
       "    </tr>\n",
       "  </thead>\n",
       "  <tbody>\n",
       "    <tr>\n",
       "      <th>0</th>\n",
       "      <td>Jeju</td>\n",
       "      <td>241</td>\n",
       "    </tr>\n",
       "    <tr>\n",
       "      <th>1</th>\n",
       "      <td>Jeju-do</td>\n",
       "      <td>172</td>\n",
       "    </tr>\n",
       "    <tr>\n",
       "      <th>2</th>\n",
       "      <td>Jungle Book by Alice</td>\n",
       "      <td>101</td>\n",
       "    </tr>\n",
       "    <tr>\n",
       "      <th>3</th>\n",
       "      <td>Seogwipo</td>\n",
       "      <td>65</td>\n",
       "    </tr>\n",
       "    <tr>\n",
       "      <th>4</th>\n",
       "      <td>제주도 크리스마스 박물관</td>\n",
       "      <td>59</td>\n",
       "    </tr>\n",
       "  </tbody>\n",
       "</table>\n",
       "</div>"
      ]
     },
     "metadata": {},
     "execution_count": 26
    }
   ],
   "metadata": {}
  },
  {
   "cell_type": "markdown",
   "source": [
    "### 카카오검색 API를 이용한 키워드 장소 검색"
   ],
   "metadata": {}
  },
  {
   "cell_type": "code",
   "execution_count": 11,
   "source": [
    "with open('kakaoapikey.txt') as f:\r\n",
    "    api_key = f.read()"
   ],
   "outputs": [],
   "metadata": {}
  },
  {
   "cell_type": "code",
   "execution_count": 12,
   "source": [
    "import requests\r\n",
    "from urllib.parse import quote"
   ],
   "outputs": [],
   "metadata": {}
  },
  {
   "cell_type": "code",
   "execution_count": 13,
   "source": [
    "keyword = '합정 스타벅스'\r\n",
    "search_url = 'https://dapi.kakao.com/v2/local/search/keyword.json'\r\n",
    "url = f'{search_url}?query={quote(keyword)}'\r\n",
    "result = requests.get(url, headers={\"Authorization\": f'KakaoAK {api_key}'}).json()\r\n",
    "result['documents'][0]"
   ],
   "outputs": [
    {
     "output_type": "execute_result",
     "data": {
      "text/plain": [
       "{'address_name': '서울 마포구 서교동 395-166',\n",
       " 'category_group_code': 'CE7',\n",
       " 'category_group_name': '카페',\n",
       " 'category_name': '음식점 > 카페 > 커피전문점 > 스타벅스',\n",
       " 'distance': '',\n",
       " 'id': '26572121',\n",
       " 'phone': '1522-3232',\n",
       " 'place_name': '스타벅스 서교점',\n",
       " 'place_url': 'http://place.map.kakao.com/26572121',\n",
       " 'road_address_name': '서울 마포구 양화로 78',\n",
       " 'x': '126.916980454434',\n",
       " 'y': '37.5514601750423'}"
      ]
     },
     "metadata": {},
     "execution_count": 13
    }
   ],
   "metadata": {}
  },
  {
   "cell_type": "code",
   "execution_count": 29,
   "source": [
    "import re"
   ],
   "outputs": [],
   "metadata": {}
  },
  {
   "cell_type": "code",
   "execution_count": null,
   "source": [
    "re.sub('[^ㄱ-ㅎㅏ-ㅣ가-힣0-9 ]','','')"
   ],
   "outputs": [],
   "metadata": {}
  },
  {
   "cell_type": "code",
   "execution_count": 27,
   "source": [
    "def find_place(keyword):\r\n",
    "    url = f'{search_url}?query={quote(keyword)}'\r\n",
    "    result = requests.get(url, headers={\"Authorization\": f'KakaoAK {api_key}'}).json()\r\n",
    "    try:\r\n",
    "        name = result['documents'][0]['place_name']\r\n",
    "        if '제주특별자치도' not in result['documents'][0]['address_name']:\r\n",
    "            lng = np.nan\r\n",
    "            lat = np.nan\r\n",
    "        else:\r\n",
    "            lng = float(result['documents'][0]['x'])\r\n",
    "            lat = float(result['documents'][0]['y'])\r\n",
    "    except:\r\n",
    "        name = ''\r\n",
    "        lng = np.nan\r\n",
    "        lat = np.nan\r\n",
    "    \r\n",
    "    return name, lng, lat, keyword\r\n"
   ],
   "outputs": [],
   "metadata": {}
  },
  {
   "cell_type": "code",
   "execution_count": 17,
   "source": [
    "find_place('제주공항')"
   ],
   "outputs": [
    {
     "output_type": "execute_result",
     "data": {
      "text/plain": [
       "('제주국제공항', 126.492769004244, 33.5070789578184, '제주공항')"
      ]
     },
     "metadata": {},
     "execution_count": 17
    }
   ],
   "metadata": {}
  },
  {
   "cell_type": "code",
   "execution_count": 30,
   "source": [
    "# loc_df에 공식명칭, 위도, 경도 정보 추가\r\n",
    "name_list, lng_list, lat_list = [], [], []\r\n",
    "for place in loc_df.지명:\r\n",
    "    place = re.sub('[^가-힣0-9]','',place).strip()\r\n",
    "    if place:\r\n",
    "        name, lng, lat, _ = find_place(place)\r\n",
    "    else:\r\n",
    "        name, lng, lat = '', np.nan, np.nan\r\n",
    "    name_list.append(name)\r\n",
    "    lng_list.append(lng)\r\n",
    "    lat_list.append(lat)"
   ],
   "outputs": [],
   "metadata": {}
  },
  {
   "cell_type": "code",
   "execution_count": 31,
   "source": [
    "loc_df['공식명칭'] = name_list\r\n",
    "loc_df['위도'] = lat_list\r\n",
    "loc_df['경도'] = lng_list\r\n",
    "loc_df.head()"
   ],
   "outputs": [
    {
     "output_type": "execute_result",
     "data": {
      "text/plain": [
       "                     지명   빈도            공식명칭         위도          경도\n",
       "0                  Jeju  241                        NaN         NaN\n",
       "1               Jeju-do  172                        NaN         NaN\n",
       "2  Jungle Book by Alice  101                        NaN         NaN\n",
       "3              Seogwipo   65                        NaN         NaN\n",
       "4         제주도 크리스마스 박물관   59  바이나흐튼 크리스마스박물관  33.291572  126.327858"
      ],
      "text/html": [
       "<div>\n",
       "<style scoped>\n",
       "    .dataframe tbody tr th:only-of-type {\n",
       "        vertical-align: middle;\n",
       "    }\n",
       "\n",
       "    .dataframe tbody tr th {\n",
       "        vertical-align: top;\n",
       "    }\n",
       "\n",
       "    .dataframe thead th {\n",
       "        text-align: right;\n",
       "    }\n",
       "</style>\n",
       "<table border=\"1\" class=\"dataframe\">\n",
       "  <thead>\n",
       "    <tr style=\"text-align: right;\">\n",
       "      <th></th>\n",
       "      <th>지명</th>\n",
       "      <th>빈도</th>\n",
       "      <th>공식명칭</th>\n",
       "      <th>위도</th>\n",
       "      <th>경도</th>\n",
       "    </tr>\n",
       "  </thead>\n",
       "  <tbody>\n",
       "    <tr>\n",
       "      <th>0</th>\n",
       "      <td>Jeju</td>\n",
       "      <td>241</td>\n",
       "      <td></td>\n",
       "      <td>NaN</td>\n",
       "      <td>NaN</td>\n",
       "    </tr>\n",
       "    <tr>\n",
       "      <th>1</th>\n",
       "      <td>Jeju-do</td>\n",
       "      <td>172</td>\n",
       "      <td></td>\n",
       "      <td>NaN</td>\n",
       "      <td>NaN</td>\n",
       "    </tr>\n",
       "    <tr>\n",
       "      <th>2</th>\n",
       "      <td>Jungle Book by Alice</td>\n",
       "      <td>101</td>\n",
       "      <td></td>\n",
       "      <td>NaN</td>\n",
       "      <td>NaN</td>\n",
       "    </tr>\n",
       "    <tr>\n",
       "      <th>3</th>\n",
       "      <td>Seogwipo</td>\n",
       "      <td>65</td>\n",
       "      <td></td>\n",
       "      <td>NaN</td>\n",
       "      <td>NaN</td>\n",
       "    </tr>\n",
       "    <tr>\n",
       "      <th>4</th>\n",
       "      <td>제주도 크리스마스 박물관</td>\n",
       "      <td>59</td>\n",
       "      <td>바이나흐튼 크리스마스박물관</td>\n",
       "      <td>33.291572</td>\n",
       "      <td>126.327858</td>\n",
       "    </tr>\n",
       "  </tbody>\n",
       "</table>\n",
       "</div>"
      ]
     },
     "metadata": {},
     "execution_count": 31
    }
   ],
   "metadata": {}
  },
  {
   "cell_type": "code",
   "execution_count": 32,
   "source": [
    "# Null 데이터 삭제\r\n",
    "loc_df.isnull().sum()"
   ],
   "outputs": [
    {
     "output_type": "execute_result",
     "data": {
      "text/plain": [
       "지명        0\n",
       "빈도        0\n",
       "공식명칭      0\n",
       "위도      197\n",
       "경도      197\n",
       "dtype: int64"
      ]
     },
     "metadata": {},
     "execution_count": 32
    }
   ],
   "metadata": {}
  },
  {
   "cell_type": "code",
   "execution_count": 40,
   "source": [
    "total_df = loc_df.dropna()\r\n",
    "total_df.isnull().sum().sum()"
   ],
   "outputs": [
    {
     "output_type": "execute_result",
     "data": {
      "text/plain": [
       "0"
      ]
     },
     "metadata": {},
     "execution_count": 40
    }
   ],
   "metadata": {}
  },
  {
   "cell_type": "code",
   "execution_count": 41,
   "source": [
    "total_df.head()"
   ],
   "outputs": [
    {
     "output_type": "execute_result",
     "data": {
      "text/plain": [
       "                                 지명  빈도            공식명칭         위도          경도\n",
       "4                     제주도 크리스마스 박물관  59  바이나흐튼 크리스마스박물관  33.291572  126.327858\n",
       "5                           제주에인감귤밭  48         제주에인감귤밭  33.256561  126.539014\n",
       "7  성산일출봉 城山日出峰  Seongsan Ilchulbong  36           성산일출봉  33.459135  126.940538\n",
       "8              폼포코식당_pompokokitchen  30           폼포코식당  33.450408  126.919065\n",
       "9                            1100고지  25       한라산1100고지  33.358078  126.462220"
      ],
      "text/html": [
       "<div>\n",
       "<style scoped>\n",
       "    .dataframe tbody tr th:only-of-type {\n",
       "        vertical-align: middle;\n",
       "    }\n",
       "\n",
       "    .dataframe tbody tr th {\n",
       "        vertical-align: top;\n",
       "    }\n",
       "\n",
       "    .dataframe thead th {\n",
       "        text-align: right;\n",
       "    }\n",
       "</style>\n",
       "<table border=\"1\" class=\"dataframe\">\n",
       "  <thead>\n",
       "    <tr style=\"text-align: right;\">\n",
       "      <th></th>\n",
       "      <th>지명</th>\n",
       "      <th>빈도</th>\n",
       "      <th>공식명칭</th>\n",
       "      <th>위도</th>\n",
       "      <th>경도</th>\n",
       "    </tr>\n",
       "  </thead>\n",
       "  <tbody>\n",
       "    <tr>\n",
       "      <th>4</th>\n",
       "      <td>제주도 크리스마스 박물관</td>\n",
       "      <td>59</td>\n",
       "      <td>바이나흐튼 크리스마스박물관</td>\n",
       "      <td>33.291572</td>\n",
       "      <td>126.327858</td>\n",
       "    </tr>\n",
       "    <tr>\n",
       "      <th>5</th>\n",
       "      <td>제주에인감귤밭</td>\n",
       "      <td>48</td>\n",
       "      <td>제주에인감귤밭</td>\n",
       "      <td>33.256561</td>\n",
       "      <td>126.539014</td>\n",
       "    </tr>\n",
       "    <tr>\n",
       "      <th>7</th>\n",
       "      <td>성산일출봉 城山日出峰  Seongsan Ilchulbong</td>\n",
       "      <td>36</td>\n",
       "      <td>성산일출봉</td>\n",
       "      <td>33.459135</td>\n",
       "      <td>126.940538</td>\n",
       "    </tr>\n",
       "    <tr>\n",
       "      <th>8</th>\n",
       "      <td>폼포코식당_pompokokitchen</td>\n",
       "      <td>30</td>\n",
       "      <td>폼포코식당</td>\n",
       "      <td>33.450408</td>\n",
       "      <td>126.919065</td>\n",
       "    </tr>\n",
       "    <tr>\n",
       "      <th>9</th>\n",
       "      <td>1100고지</td>\n",
       "      <td>25</td>\n",
       "      <td>한라산1100고지</td>\n",
       "      <td>33.358078</td>\n",
       "      <td>126.462220</td>\n",
       "    </tr>\n",
       "  </tbody>\n",
       "</table>\n",
       "</div>"
      ]
     },
     "metadata": {},
     "execution_count": 41
    }
   ],
   "metadata": {}
  },
  {
   "cell_type": "code",
   "execution_count": 42,
   "source": [
    "# 공식명칭 중복 여부\r\n",
    "total_df.공식명칭.value_counts()[:10]"
   ],
   "outputs": [
    {
     "output_type": "execute_result",
     "data": {
      "text/plain": [
       "올레길 7코스(서귀포-월평 올레)    6\n",
       "동문재래시장                4\n",
       "함덕해수욕장                4\n",
       "이호테우해수욕장              3\n",
       "우도                    3\n",
       "천지연폭포                 3\n",
       "세화해변                  3\n",
       "비자림                   3\n",
       "협재해수욕장                3\n",
       "제주중문관광단지              3\n",
       "Name: 공식명칭, dtype: int64"
      ]
     },
     "metadata": {},
     "execution_count": 42
    }
   ],
   "metadata": {}
  },
  {
   "cell_type": "code",
   "execution_count": 43,
   "source": [
    "location_data = total_df.pivot_table(index=['공식명칭','위도','경도'],values='빈도',aggfunc='sum')\r\n",
    "location_data.head()"
   ],
   "outputs": [
    {
     "output_type": "execute_result",
     "data": {
      "text/plain": [
       "                                  빈도\n",
       "공식명칭        위도        경도            \n",
       "1158족욕카페    33.467075 126.336504   1\n",
       "40계단        35.103911 129.034571   1\n",
       "702키친       33.498835 126.534134   1\n",
       "CU 수원광장점    37.268151 127.000311   1\n",
       "KT 브로 라페스타점 37.662346 126.767821   1"
      ],
      "text/html": [
       "<div>\n",
       "<style scoped>\n",
       "    .dataframe tbody tr th:only-of-type {\n",
       "        vertical-align: middle;\n",
       "    }\n",
       "\n",
       "    .dataframe tbody tr th {\n",
       "        vertical-align: top;\n",
       "    }\n",
       "\n",
       "    .dataframe thead th {\n",
       "        text-align: right;\n",
       "    }\n",
       "</style>\n",
       "<table border=\"1\" class=\"dataframe\">\n",
       "  <thead>\n",
       "    <tr style=\"text-align: right;\">\n",
       "      <th></th>\n",
       "      <th></th>\n",
       "      <th></th>\n",
       "      <th>빈도</th>\n",
       "    </tr>\n",
       "    <tr>\n",
       "      <th>공식명칭</th>\n",
       "      <th>위도</th>\n",
       "      <th>경도</th>\n",
       "      <th></th>\n",
       "    </tr>\n",
       "  </thead>\n",
       "  <tbody>\n",
       "    <tr>\n",
       "      <th>1158족욕카페</th>\n",
       "      <th>33.467075</th>\n",
       "      <th>126.336504</th>\n",
       "      <td>1</td>\n",
       "    </tr>\n",
       "    <tr>\n",
       "      <th>40계단</th>\n",
       "      <th>35.103911</th>\n",
       "      <th>129.034571</th>\n",
       "      <td>1</td>\n",
       "    </tr>\n",
       "    <tr>\n",
       "      <th>702키친</th>\n",
       "      <th>33.498835</th>\n",
       "      <th>126.534134</th>\n",
       "      <td>1</td>\n",
       "    </tr>\n",
       "    <tr>\n",
       "      <th>CU 수원광장점</th>\n",
       "      <th>37.268151</th>\n",
       "      <th>127.000311</th>\n",
       "      <td>1</td>\n",
       "    </tr>\n",
       "    <tr>\n",
       "      <th>KT 브로 라페스타점</th>\n",
       "      <th>37.662346</th>\n",
       "      <th>126.767821</th>\n",
       "      <td>1</td>\n",
       "    </tr>\n",
       "  </tbody>\n",
       "</table>\n",
       "</div>"
      ]
     },
     "metadata": {},
     "execution_count": 43
    }
   ],
   "metadata": {}
  },
  {
   "cell_type": "code",
   "execution_count": 44,
   "source": [
    "location_data.reset_index(inplace=True)\r\n",
    "location_data.공식명칭.value_counts()[:5]"
   ],
   "outputs": [
    {
     "output_type": "execute_result",
     "data": {
      "text/plain": [
       "1158족욕카페    1\n",
       "정관신도시       1\n",
       "자구리몬들락      1\n",
       "자매국수 본점     1\n",
       "자연뜨락        1\n",
       "Name: 공식명칭, dtype: int64"
      ]
     },
     "metadata": {},
     "execution_count": 44
    }
   ],
   "metadata": {}
  },
  {
   "cell_type": "code",
   "execution_count": 39,
   "source": [
    "location_data.to_csv('공식명칭.csv', index=False)"
   ],
   "outputs": [],
   "metadata": {}
  },
  {
   "cell_type": "markdown",
   "source": [
    "### folium 지도 시각화(제주 지명)"
   ],
   "metadata": {}
  },
  {
   "cell_type": "code",
   "execution_count": 45,
   "source": [
    "df.sort_values(by='빈도', ascending=False)\r\n",
    "df.head()"
   ],
   "outputs": [
    {
     "output_type": "execute_result",
     "data": {
      "text/plain": [
       "                                 지명  빈도            공식명칭         위도          경도\n",
       "4                     제주도 크리스마스 박물관  59  바이나흐튼 크리스마스박물관  33.291572  126.327858\n",
       "5                           제주에인감귤밭  48         제주에인감귤밭  33.256561  126.539014\n",
       "7  성산일출봉 城山日出峰  Seongsan Ilchulbong  36           성산일출봉  33.459135  126.940538\n",
       "8              폼포코식당_pompokokitchen  30           폼포코식당  33.450408  126.919065\n",
       "9                            1100고지  25       한라산1100고지  33.358078  126.462220"
      ],
      "text/html": [
       "<div>\n",
       "<style scoped>\n",
       "    .dataframe tbody tr th:only-of-type {\n",
       "        vertical-align: middle;\n",
       "    }\n",
       "\n",
       "    .dataframe tbody tr th {\n",
       "        vertical-align: top;\n",
       "    }\n",
       "\n",
       "    .dataframe thead th {\n",
       "        text-align: right;\n",
       "    }\n",
       "</style>\n",
       "<table border=\"1\" class=\"dataframe\">\n",
       "  <thead>\n",
       "    <tr style=\"text-align: right;\">\n",
       "      <th></th>\n",
       "      <th>지명</th>\n",
       "      <th>빈도</th>\n",
       "      <th>공식명칭</th>\n",
       "      <th>위도</th>\n",
       "      <th>경도</th>\n",
       "    </tr>\n",
       "  </thead>\n",
       "  <tbody>\n",
       "    <tr>\n",
       "      <th>4</th>\n",
       "      <td>제주도 크리스마스 박물관</td>\n",
       "      <td>59</td>\n",
       "      <td>바이나흐튼 크리스마스박물관</td>\n",
       "      <td>33.291572</td>\n",
       "      <td>126.327858</td>\n",
       "    </tr>\n",
       "    <tr>\n",
       "      <th>5</th>\n",
       "      <td>제주에인감귤밭</td>\n",
       "      <td>48</td>\n",
       "      <td>제주에인감귤밭</td>\n",
       "      <td>33.256561</td>\n",
       "      <td>126.539014</td>\n",
       "    </tr>\n",
       "    <tr>\n",
       "      <th>7</th>\n",
       "      <td>성산일출봉 城山日出峰  Seongsan Ilchulbong</td>\n",
       "      <td>36</td>\n",
       "      <td>성산일출봉</td>\n",
       "      <td>33.459135</td>\n",
       "      <td>126.940538</td>\n",
       "    </tr>\n",
       "    <tr>\n",
       "      <th>8</th>\n",
       "      <td>폼포코식당_pompokokitchen</td>\n",
       "      <td>30</td>\n",
       "      <td>폼포코식당</td>\n",
       "      <td>33.450408</td>\n",
       "      <td>126.919065</td>\n",
       "    </tr>\n",
       "    <tr>\n",
       "      <th>9</th>\n",
       "      <td>1100고지</td>\n",
       "      <td>25</td>\n",
       "      <td>한라산1100고지</td>\n",
       "      <td>33.358078</td>\n",
       "      <td>126.462220</td>\n",
       "    </tr>\n",
       "  </tbody>\n",
       "</table>\n",
       "</div>"
      ]
     },
     "metadata": {},
     "execution_count": 45
    }
   ],
   "metadata": {}
  },
  {
   "cell_type": "code",
   "execution_count": null,
   "source": [
    "df[['빈도']].boxplot()"
   ],
   "outputs": [],
   "metadata": {}
  },
  {
   "cell_type": "code",
   "execution_count": 55,
   "source": [
    "location_data.head()"
   ],
   "outputs": [
    {
     "output_type": "execute_result",
     "data": {
      "text/plain": [
       "          공식명칭         위도          경도  빈도\n",
       "0     1158족욕카페  33.467075  126.336504   1\n",
       "1         40계단  35.103911  129.034571   1\n",
       "2        702키친  33.498835  126.534134   1\n",
       "3     CU 수원광장점  37.268151  127.000311   1\n",
       "4  KT 브로 라페스타점  37.662346  126.767821   1"
      ],
      "text/html": [
       "<div>\n",
       "<style scoped>\n",
       "    .dataframe tbody tr th:only-of-type {\n",
       "        vertical-align: middle;\n",
       "    }\n",
       "\n",
       "    .dataframe tbody tr th {\n",
       "        vertical-align: top;\n",
       "    }\n",
       "\n",
       "    .dataframe thead th {\n",
       "        text-align: right;\n",
       "    }\n",
       "</style>\n",
       "<table border=\"1\" class=\"dataframe\">\n",
       "  <thead>\n",
       "    <tr style=\"text-align: right;\">\n",
       "      <th></th>\n",
       "      <th>공식명칭</th>\n",
       "      <th>위도</th>\n",
       "      <th>경도</th>\n",
       "      <th>빈도</th>\n",
       "    </tr>\n",
       "  </thead>\n",
       "  <tbody>\n",
       "    <tr>\n",
       "      <th>0</th>\n",
       "      <td>1158족욕카페</td>\n",
       "      <td>33.467075</td>\n",
       "      <td>126.336504</td>\n",
       "      <td>1</td>\n",
       "    </tr>\n",
       "    <tr>\n",
       "      <th>1</th>\n",
       "      <td>40계단</td>\n",
       "      <td>35.103911</td>\n",
       "      <td>129.034571</td>\n",
       "      <td>1</td>\n",
       "    </tr>\n",
       "    <tr>\n",
       "      <th>2</th>\n",
       "      <td>702키친</td>\n",
       "      <td>33.498835</td>\n",
       "      <td>126.534134</td>\n",
       "      <td>1</td>\n",
       "    </tr>\n",
       "    <tr>\n",
       "      <th>3</th>\n",
       "      <td>CU 수원광장점</td>\n",
       "      <td>37.268151</td>\n",
       "      <td>127.000311</td>\n",
       "      <td>1</td>\n",
       "    </tr>\n",
       "    <tr>\n",
       "      <th>4</th>\n",
       "      <td>KT 브로 라페스타점</td>\n",
       "      <td>37.662346</td>\n",
       "      <td>126.767821</td>\n",
       "      <td>1</td>\n",
       "    </tr>\n",
       "  </tbody>\n",
       "</table>\n",
       "</div>"
      ]
     },
     "metadata": {},
     "execution_count": 55
    }
   ],
   "metadata": {}
  },
  {
   "cell_type": "code",
   "execution_count": 3,
   "source": [
    "import folium"
   ],
   "outputs": [],
   "metadata": {}
  },
  {
   "cell_type": "code",
   "execution_count": 70,
   "source": [
    "float(location_data['경도'][0])"
   ],
   "outputs": [
    {
     "output_type": "execute_result",
     "data": {
      "text/plain": [
       "126.336504121082"
      ]
     },
     "metadata": {},
     "execution_count": 70
    }
   ],
   "metadata": {}
  },
  {
   "cell_type": "code",
   "execution_count": null,
   "source": [
    "Mt_Hanla = [33.362500,126.533694]\r\n",
    "map_jeju = folium.Map(location = Mt_Hanla, zoom_start=11)\r\n",
    "\r\n",
    "name = location_data['공식명칭'][0]\r\n",
    "count = location_data['빈도'][0]\r\n",
    "size = int(count)*2\r\n",
    "location = (float(location_data['위도'][0]),float(location_data['경도'][0]))\r\n",
    "lat = float(location_data['위도'][0])\r\n",
    "folium.CircleMarker((33.467075,126.336504), radius=size, color='red',popup=name).add_to(map_jeju)\r\n",
    "map_jeju"
   ],
   "outputs": [],
   "metadata": {}
  },
  {
   "cell_type": "code",
   "execution_count": null,
   "source": [
    "for i in location_data.index:\r\n",
    "    print(i)"
   ],
   "outputs": [],
   "metadata": {}
  },
  {
   "cell_type": "code",
   "execution_count": 4,
   "source": [
    "Mt_Hanla = [33.362500,126.533694]\r\n",
    "map_jeju = folium.Map(location = Mt_Hanla, zoom_start=11)\r\n",
    "\r\n",
    "for i in location_data.index:\r\n",
    "    name = location_data['공식명칭'][i]\r\n",
    "    count = location_data['빈도'][i]\r\n",
    "    size = int(count)*2\r\n",
    "    location = (location_data['위도'][i],location_data['경도'][i])\r\n",
    "    folium.CircleMarker(location, radius=size, color='red',popup=name).add_to(map_jeju)\r\n",
    "\r\n",
    "title = '<h3 align=\"center\" style=\"font-size:20px\">제주도 핫 플레이스</h3>'\r\n",
    "map.get_root().html.add_child(folium.Element(title))\r\n",
    "map_jeju"
   ],
   "outputs": [
    {
     "output_type": "error",
     "ename": "NameError",
     "evalue": "name 'location_data' is not defined",
     "traceback": [
      "\u001b[1;31m---------------------------------------------------------------------------\u001b[0m",
      "\u001b[1;31mNameError\u001b[0m                                 Traceback (most recent call last)",
      "\u001b[1;32m<ipython-input-4-1305ba390509>\u001b[0m in \u001b[0;36m<module>\u001b[1;34m\u001b[0m\n\u001b[0;32m      2\u001b[0m \u001b[0mmap_jeju\u001b[0m \u001b[1;33m=\u001b[0m \u001b[0mfolium\u001b[0m\u001b[1;33m.\u001b[0m\u001b[0mMap\u001b[0m\u001b[1;33m(\u001b[0m\u001b[0mlocation\u001b[0m \u001b[1;33m=\u001b[0m \u001b[0mMt_Hanla\u001b[0m\u001b[1;33m,\u001b[0m \u001b[0mzoom_start\u001b[0m\u001b[1;33m=\u001b[0m\u001b[1;36m11\u001b[0m\u001b[1;33m)\u001b[0m\u001b[1;33m\u001b[0m\u001b[1;33m\u001b[0m\u001b[0m\n\u001b[0;32m      3\u001b[0m \u001b[1;33m\u001b[0m\u001b[0m\n\u001b[1;32m----> 4\u001b[1;33m \u001b[1;32mfor\u001b[0m \u001b[0mi\u001b[0m \u001b[1;32min\u001b[0m \u001b[0mlocation_data\u001b[0m\u001b[1;33m.\u001b[0m\u001b[0mindex\u001b[0m\u001b[1;33m:\u001b[0m\u001b[1;33m\u001b[0m\u001b[1;33m\u001b[0m\u001b[0m\n\u001b[0m\u001b[0;32m      5\u001b[0m     \u001b[0mname\u001b[0m \u001b[1;33m=\u001b[0m \u001b[0mlocation_data\u001b[0m\u001b[1;33m[\u001b[0m\u001b[1;34m'공식명칭'\u001b[0m\u001b[1;33m]\u001b[0m\u001b[1;33m[\u001b[0m\u001b[0mi\u001b[0m\u001b[1;33m]\u001b[0m\u001b[1;33m\u001b[0m\u001b[1;33m\u001b[0m\u001b[0m\n\u001b[0;32m      6\u001b[0m     \u001b[0mcount\u001b[0m \u001b[1;33m=\u001b[0m \u001b[0mlocation_data\u001b[0m\u001b[1;33m[\u001b[0m\u001b[1;34m'빈도'\u001b[0m\u001b[1;33m]\u001b[0m\u001b[1;33m[\u001b[0m\u001b[0mi\u001b[0m\u001b[1;33m]\u001b[0m\u001b[1;33m\u001b[0m\u001b[1;33m\u001b[0m\u001b[0m\n",
      "\u001b[1;31mNameError\u001b[0m: name 'location_data' is not defined"
     ]
    }
   ],
   "metadata": {}
  },
  {
   "cell_type": "code",
   "execution_count": 1,
   "source": [
    "map.save('제주도 핫플레이스(개별).html')"
   ],
   "outputs": [
    {
     "output_type": "error",
     "ename": "AttributeError",
     "evalue": "type object 'map' has no attribute 'save'",
     "traceback": [
      "\u001b[1;31m---------------------------------------------------------------------------\u001b[0m",
      "\u001b[1;31mAttributeError\u001b[0m                            Traceback (most recent call last)",
      "\u001b[1;32m<ipython-input-1-96dd17b584d9>\u001b[0m in \u001b[0;36m<module>\u001b[1;34m\u001b[0m\n\u001b[1;32m----> 1\u001b[1;33m \u001b[0mmap\u001b[0m\u001b[1;33m.\u001b[0m\u001b[0msave\u001b[0m\u001b[1;33m(\u001b[0m\u001b[1;34m'제주도 핫플레이스(개별).html'\u001b[0m\u001b[1;33m)\u001b[0m\u001b[1;33m\u001b[0m\u001b[1;33m\u001b[0m\u001b[0m\n\u001b[0m",
      "\u001b[1;31mAttributeError\u001b[0m: type object 'map' has no attribute 'save'"
     ]
    }
   ],
   "metadata": {}
  },
  {
   "cell_type": "markdown",
   "source": [
    "### 그룹으로 표시"
   ],
   "metadata": {}
  },
  {
   "cell_type": "code",
   "execution_count": null,
   "source": [
    "from folium.plugins import MarkerCluster\r\n",
    "\r\n",
    "locations, names = [], []\r\n",
    "for i in location_data.index:\r\n",
    "    locations.append([location_data.위도[i], location_data.경도[i]])\r\n",
    "    names.append(location_data.공식명칭[i])"
   ],
   "outputs": [],
   "metadata": {}
  },
  {
   "cell_type": "code",
   "execution_count": null,
   "source": [
    "map = folium.Map(location=Mt_Hanla, zoom_start=11)\r\n",
    "MarkerCluster(\r\n",
    "    locations=locations, popups=names,\r\n",
    "    name='제주', overlay=True, control=True\r\n",
    ").add_to(map)\r\n",
    "title = '<h3 align=\"center\" style=\"font-size:20px\">제주도 핫 플레이스</h3>'\r\n",
    "map.get_root().html.add_child(folium.Element(title))\r\n",
    "map"
   ],
   "outputs": [],
   "metadata": {}
  }
 ],
 "metadata": {
  "orig_nbformat": 4,
  "language_info": {
   "name": "python",
   "version": "3.8.10",
   "mimetype": "text/x-python",
   "codemirror_mode": {
    "name": "ipython",
    "version": 3
   },
   "pygments_lexer": "ipython3",
   "nbconvert_exporter": "python",
   "file_extension": ".py"
  },
  "kernelspec": {
   "name": "python3",
   "display_name": "Python 3.8.10 64-bit ('base': conda)"
  },
  "interpreter": {
   "hash": "acbbfebbbdf654efa85aa18169a14b54796a806b8c18a3c243660030e08aa454"
  }
 },
 "nbformat": 4,
 "nbformat_minor": 2
}