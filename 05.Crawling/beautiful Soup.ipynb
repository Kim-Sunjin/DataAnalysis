{
 "cells": [
  {
   "cell_type": "markdown",
   "source": [
    "## Local HTML 파일열기"
   ],
   "metadata": {}
  },
  {
   "cell_type": "code",
   "execution_count": 25,
   "source": [
    "from bs4 import BeautifulSoup\r\n",
    "with open('00_Example.html') as fp:\r\n",
    "    soup = BeautifulSoup(fp, 'html.parser')"
   ],
   "outputs": [],
   "metadata": {}
  },
  {
   "cell_type": "code",
   "execution_count": 26,
   "source": [
    "soup"
   ],
   "outputs": [
    {
     "output_type": "execute_result",
     "data": {
      "text/plain": [
       "\"<!DOCTYPE html>\n",
       "\n",
       "<html lang=\"en\">\n",
       "<head>\n",
       "<meta charset=\"utf-8\"/>\n",
       "<meta content=\"width=device-width, initial-scale=1.0\" name=\"viewport\"/>\n",
       "<title>Web Crawling Example</title>\n",
       "</head>\n",
       "<body>\n",
       "<div>\n",
       "<p>a</p><p>b</p><p>c</p>\n",
       "</div>\n",
       "<div class=\"ex_class sample\">\n",
       "<p>1</p><p>2</p><p>3</p>\n",
       "</div>\n",
       "<div id=\"ex_id\">\n",
       "<p>X</p><p>Y</p><p>Z</p>\n",
       "</div>\n",
       "<h1>This is a heading.</h1>\n",
       "<p>This is a paragraph.</p>\n",
       "<p>This is another paragraph.</p>\n",
       "<a class=\"a sample\" href=\"www.naver.com\">Naver</a>\n",
       "</body>\n",
       "</html>\""
      ]
     },
     "metadata": {},
     "execution_count": 26
    }
   ],
   "metadata": {}
  },
  {
   "cell_type": "code",
   "execution_count": 14,
   "source": [
    "first_div = soup.find('div')  # find - 한 개만 찾는 메서드, 가장 첫번째\r\n",
    "first_div"
   ],
   "outputs": [
    {
     "output_type": "execute_result",
     "data": {
      "text/plain": [
       "<div>\n",
       "<p>a</p><p>b</p><p>c</p>\n",
       "</div>"
      ]
     },
     "metadata": {},
     "execution_count": 14
    }
   ],
   "metadata": {}
  },
  {
   "cell_type": "code",
   "execution_count": 15,
   "source": [
    "all_divs = soup.find_all('div') # find_all - 해당 조건에 맞는 모든 태그들을 가져온다.\r\n",
    "print(all_divs)"
   ],
   "outputs": [
    {
     "output_type": "stream",
     "name": "stdout",
     "text": [
      "[<div>\n",
      "<p>a</p><p>b</p><p>c</p>\n",
      "</div>, <div class=\"ex_class sample\">\n",
      "<p>1</p><p>2</p><p>3</p>\n",
      "</div>, <div id=\"ex_id\">\n",
      "<p>X</p><p>Y</p><p>Z</p>\n",
      "</div>]\n"
     ]
    }
   ],
   "metadata": {}
  },
  {
   "cell_type": "code",
   "execution_count": 16,
   "source": [
    "for div in all_divs:\r\n",
    "    print(div)"
   ],
   "outputs": [
    {
     "output_type": "stream",
     "name": "stdout",
     "text": [
      "<div>\n",
      "<p>a</p><p>b</p><p>c</p>\n",
      "</div>\n",
      "<div class=\"ex_class sample\">\n",
      "<p>1</p><p>2</p><p>3</p>\n",
      "</div>\n",
      "<div id=\"ex_id\">\n",
      "<p>X</p><p>Y</p><p>Z</p>\n",
      "</div>\n"
     ]
    }
   ],
   "metadata": {}
  },
  {
   "cell_type": "code",
   "execution_count": 17,
   "source": [
    "all_ps = soup.find_all('p')\r\n",
    "len(all_ps)"
   ],
   "outputs": [
    {
     "output_type": "execute_result",
     "data": {
      "text/plain": [
       "11"
      ]
     },
     "metadata": {},
     "execution_count": 17
    }
   ],
   "metadata": {}
  },
  {
   "cell_type": "markdown",
   "source": [
    "### select_one - CSS Selector로 찾기"
   ],
   "metadata": {}
  },
  {
   "cell_type": "code",
   "execution_count": 18,
   "source": [
    "ex_id_div = soup.select_one('#ex_id')\r\n",
    "ex_id_div"
   ],
   "outputs": [
    {
     "output_type": "execute_result",
     "data": {
      "text/plain": [
       "<div id=\"ex_id\">\n",
       "<p>X</p><p>Y</p><p>Z</p>\n",
       "</div>"
      ]
     },
     "metadata": {},
     "execution_count": 18
    }
   ],
   "metadata": {}
  },
  {
   "cell_type": "code",
   "execution_count": 19,
   "source": [
    "ex_sample_div = soup.select_one('.ex_class.sample')\r\n",
    "ex_sample_div"
   ],
   "outputs": [
    {
     "output_type": "execute_result",
     "data": {
      "text/plain": [
       "<div class=\"ex_class sample\">\n",
       "<p>1</p><p>2</p><p>3</p>\n",
       "</div>"
      ]
     },
     "metadata": {},
     "execution_count": 19
    }
   ],
   "metadata": {}
  },
  {
   "cell_type": "markdown",
   "source": [
    "### select - CSS Selector로 모두를 찾는 메서드"
   ],
   "metadata": {}
  },
  {
   "cell_type": "code",
   "execution_count": 20,
   "source": [
    "ex_id_divs = soup.select('#ex_id')\r\n",
    "ex_id_divs"
   ],
   "outputs": [
    {
     "output_type": "execute_result",
     "data": {
      "text/plain": [
       "[<div id=\"ex_id\">\n",
       " <p>X</p><p>Y</p><p>Z</p>\n",
       " </div>]"
      ]
     },
     "metadata": {},
     "execution_count": 20
    }
   ],
   "metadata": {}
  },
  {
   "cell_type": "code",
   "execution_count": 21,
   "source": [
    "sample_divs = soup.select('.sample')\r\n",
    "sample_divs"
   ],
   "outputs": [
    {
     "output_type": "execute_result",
     "data": {
      "text/plain": [
       "[<div class=\"ex_class sample\">\n",
       " <p>1</p><p>2</p><p>3</p>\n",
       " </div>,\n",
       " <a class=\"a sample\" href=\"www.naver.com\">Naver</a>]"
      ]
     },
     "metadata": {},
     "execution_count": 21
    }
   ],
   "metadata": {}
  },
  {
   "cell_type": "markdown",
   "source": [
    "- 결과 가져오기"
   ],
   "metadata": {}
  },
  {
   "cell_type": "code",
   "execution_count": 27,
   "source": [
    "result = soup.select_one('.a.sample').get_text\r\n",
    "result"
   ],
   "outputs": [
    {
     "output_type": "execute_result",
     "data": {
      "text/plain": [
       "<bound method Tag.get_text of <a class=\"a sample\" href=\"www.naver.com\">Naver</a>>"
      ]
     },
     "metadata": {},
     "execution_count": 27
    }
   ],
   "metadata": {}
  },
  {
   "cell_type": "code",
   "execution_count": 28,
   "source": [
    "result = soup.select_one('.a.sample').string\r\n",
    "result"
   ],
   "outputs": [
    {
     "output_type": "execute_result",
     "data": {
      "text/plain": [
       "'Naver'"
      ]
     },
     "metadata": {},
     "execution_count": 28
    }
   ],
   "metadata": {}
  },
  {
   "cell_type": "code",
   "execution_count": 24,
   "source": [
    "href = soup.select_one('.a.sample')['href']\r\n",
    "href"
   ],
   "outputs": [
    {
     "output_type": "execute_result",
     "data": {
      "text/plain": [
       "'www.naver.com'"
      ]
     },
     "metadata": {},
     "execution_count": 24
    }
   ],
   "metadata": {}
  },
  {
   "cell_type": "markdown",
   "source": [
    "- id=\"ex_id\"인 div에서 p 내용을 가져오기"
   ],
   "metadata": {}
  },
  {
   "cell_type": "code",
   "execution_count": 29,
   "source": [
    "'''\r\n",
    "<div id=\"ex_id\">\r\n",
    "    <p>X</p><p>Y</p><p>Z</p>\r\n",
    "</div>\r\n",
    "'''\r\n",
    "ex_id_div = soup.select_one('#ex_id')\r\n",
    "all_ps = ex_id_div.select('p')\r\n",
    "for p in all_ps:\r\n",
    "    print(p.string)"
   ],
   "outputs": [
    {
     "output_type": "stream",
     "name": "stdout",
     "text": [
      "X\n",
      "Y\n",
      "Z\n"
     ]
    }
   ],
   "metadata": {}
  },
  {
   "cell_type": "code",
   "execution_count": null,
   "source": [],
   "outputs": [],
   "metadata": {}
  }
 ],
 "metadata": {
  "orig_nbformat": 4,
  "language_info": {
   "name": "python",
   "version": "3.8.10",
   "mimetype": "text/x-python",
   "codemirror_mode": {
    "name": "ipython",
    "version": 3
   },
   "pygments_lexer": "ipython3",
   "nbconvert_exporter": "python",
   "file_extension": ".py"
  },
  "kernelspec": {
   "name": "python3",
   "display_name": "Python 3.8.10 64-bit ('base': conda)"
  },
  "interpreter": {
   "hash": "acbbfebbbdf654efa85aa18169a14b54796a806b8c18a3c243660030e08aa454"
  }
 },
 "nbformat": 4,
 "nbformat_minor": 2
}