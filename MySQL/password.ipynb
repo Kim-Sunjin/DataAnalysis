{
 "cells": [
  {
   "cell_type": "code",
   "execution_count": 3,
   "source": [
    "import pandas as pd\r\n",
    "import json"
   ],
   "outputs": [],
   "metadata": {}
  },
  {
   "cell_type": "code",
   "execution_count": 4,
   "source": [
    "with open('mysql.json', 'r') as file:\r\n",
    "    config_str = file.read()\r\n",
    "config = json.loads(config_str)"
   ],
   "outputs": [],
   "metadata": {}
  },
  {
   "cell_type": "code",
   "execution_count": 5,
   "source": [
    "import pymysql\r\n",
    "conn = pymysql.connect(\r\n",
    "    host = config['host'],\r\n",
    "    user = config['user'],\r\n",
    "    password = config['password'],\r\n",
    "    database = config['database'],\r\n",
    "    port = config['port']\r\n",
    ")"
   ],
   "outputs": [],
   "metadata": {}
  },
  {
   "cell_type": "markdown",
   "source": [
    "### 패스워드 암호화"
   ],
   "metadata": {}
  },
  {
   "cell_type": "code",
   "execution_count": 6,
   "source": [
    "import hashlib\r\n",
    "\r\n",
    "pwd ='1234'\r\n",
    "pwd_sha256 = hashlib.sha256(pwd.encode())\r\n",
    "pwd_sha256.digest()"
   ],
   "outputs": [
    {
     "output_type": "execute_result",
     "data": {
      "text/plain": [
       "b'\\x03\\xacgB\\x16\\xf3\\xe1\\\\v\\x1e\\xe1\\xa5\\xe2U\\xf0g\\x956#\\xc8\\xb3\\x88\\xb4E\\x9e\\x13\\xf9x\\xd7\\xc8F\\xf4'"
      ]
     },
     "metadata": {},
     "execution_count": 6
    }
   ],
   "metadata": {}
  },
  {
   "cell_type": "markdown",
   "source": [
    "### base64로 인코딩"
   ],
   "metadata": {}
  },
  {
   "cell_type": "code",
   "execution_count": 7,
   "source": [
    "import base64\r\n",
    "\r\n",
    "base64.b64encode(pwd_sha256.digest())"
   ],
   "outputs": [
    {
     "output_type": "execute_result",
     "data": {
      "text/plain": [
       "b'A6xnQhbz4Vx2HuGl4lXwZ5U2I8iziLRFnhP5eNfIRvQ='"
      ]
     },
     "metadata": {},
     "execution_count": 7
    }
   ],
   "metadata": {}
  },
  {
   "cell_type": "code",
   "execution_count": 11,
   "source": [
    "hashed_pwd = base64.b64encode(pwd_sha256.digest()).decode('utf-8')\r\n",
    "hashed_pwd"
   ],
   "outputs": [
    {
     "output_type": "execute_result",
     "data": {
      "text/plain": [
       "'A6xnQhbz4Vx2HuGl4lXwZ5U2I8iziLRFnhP5eNfIRvQ='"
      ]
     },
     "metadata": {},
     "execution_count": 11
    }
   ],
   "metadata": {}
  },
  {
   "cell_type": "markdown",
   "source": [
    "### 패스워드를 생성하는 함수"
   ],
   "metadata": {}
  },
  {
   "cell_type": "code",
   "execution_count": 12,
   "source": [
    "import hashlib, base64\r\n",
    "\r\n",
    "def gen_pwd(pwd):\r\n",
    "    pwd_sha256 = hashlib.sha256(pwd.encode())\r\n",
    "    hashed_pwd = base64.b64encode(pwd_sha256.digest()).decode('utf-8')\r\n",
    "    return hashed_pwd"
   ],
   "outputs": [],
   "metadata": {}
  },
  {
   "cell_type": "code",
   "execution_count": 13,
   "source": [
    "gen_pwd('qwerty')"
   ],
   "outputs": [
    {
     "output_type": "execute_result",
     "data": {
      "text/plain": [
       "'ZehL4zUy+3hMSBKWdfnv86aCsnFowOp0Syz1juAjN8U='"
      ]
     },
     "metadata": {},
     "execution_count": 13
    }
   ],
   "metadata": {}
  },
  {
   "cell_type": "markdown",
   "source": [
    "### users table에 패스워드 넣기\r\n",
    "- uid + 21"
   ],
   "metadata": {}
  },
  {
   "cell_type": "code",
   "execution_count": 14,
   "source": [
    "sql = 'select uid from users'\r\n",
    "cur = conn.cursor()\r\n",
    "cur.execute(sql)\r\n",
    "results = cur.fetchall()\r\n",
    "results"
   ],
   "outputs": [
    {
     "output_type": "execute_result",
     "data": {
      "text/plain": [
       "(('admin',),\n",
       " ('djy',),\n",
       " ('eskim',),\n",
       " ('gdhong',),\n",
       " ('mji',),\n",
       " ('rjh',),\n",
       " ('twonkim',),\n",
       " ('wjlee',))"
      ]
     },
     "metadata": {},
     "execution_count": 14
    }
   ],
   "metadata": {}
  },
  {
   "cell_type": "code",
   "execution_count": 15,
   "source": [
    "sql_update = 'update users set pwd=%s where uid=%s;'\r\n",
    "\r\n",
    "for result in results:\r\n",
    "    uid = result[0]\r\n",
    "    pwd = gen_pwd(uid+'12')\r\n",
    "    cur.execute(sql_update,(pwd, uid))\r\n",
    "\r\n",
    "conn.commit()\r\n"
   ],
   "outputs": [],
   "metadata": {}
  },
  {
   "cell_type": "markdown",
   "source": [
    "- email : uid@mc.com"
   ],
   "metadata": {}
  },
  {
   "cell_type": "code",
   "execution_count": 16,
   "source": [
    "sql_email_update = 'update users set email=%s where uid=%s;'\r\n",
    "\r\n",
    "for result in results:\r\n",
    "    uid = result[0]\r\n",
    "    email = uid+'@mc.com'\r\n",
    "    cur.execute(sql_email_update,(email,uid))\r\n",
    "\r\n",
    "conn.commit()"
   ],
   "outputs": [],
   "metadata": {}
  },
  {
   "cell_type": "markdown",
   "source": [
    "### log in"
   ],
   "metadata": {}
  },
  {
   "cell_type": "markdown",
   "source": [
    "#### uid가 없는 경우"
   ],
   "metadata": {}
  },
  {
   "cell_type": "code",
   "execution_count": 17,
   "source": [
    "uid = 'fool'\r\n",
    "sql_login = 'select uid, pwd from users where uid=%s and is_deleted=0'\r\n",
    "cur.execute(sql_login,(uid,))\r\n",
    "result = cur.fetchone()\r\n",
    "result"
   ],
   "outputs": [],
   "metadata": {}
  },
  {
   "cell_type": "markdown",
   "source": [
    "#### 비밀번호가 틀린 경우"
   ],
   "metadata": {}
  },
  {
   "cell_type": "code",
   "execution_count": 18,
   "source": [
    "uid, pwd = 'djy', 'djy23'\r\n",
    "cur.execute(sql_login,(uid,))\r\n",
    "result = cur.fetchone()\r\n",
    "result"
   ],
   "outputs": [
    {
     "output_type": "execute_result",
     "data": {
      "text/plain": [
       "('djy', '3ei6D4xFNgWfKckW1H0EnacUZBWtH1UnqXKGoekcq1Q=')"
      ]
     },
     "metadata": {},
     "execution_count": 18
    }
   ],
   "metadata": {}
  },
  {
   "cell_type": "code",
   "execution_count": 19,
   "source": [
    "db_pwd = result[1]\r\n",
    "hashed_pwd = gen_pwd(pwd)\r\n",
    "if db_pwd == hashed_pwd:\r\n",
    "    print('Login')\r\n",
    "else:\r\n",
    "    print('비밀번호가 틀렸습니다.')"
   ],
   "outputs": [
    {
     "output_type": "stream",
     "name": "stdout",
     "text": [
      "비밀번호가 틀렸습니다.\n"
     ]
    }
   ],
   "metadata": {}
  },
  {
   "cell_type": "markdown",
   "source": [
    "#### OK"
   ],
   "metadata": {}
  },
  {
   "cell_type": "code",
   "execution_count": 30,
   "source": [
    "uid, pwd = 'djy', 'djy21'\r\n",
    "cur.execute(sql_login,(uid,))\r\n",
    "result = cur.fetchone()\r\n",
    "db_pwd = result[1]\r\n",
    "hashed_pwd = gen_pwd(pwd)\r\n",
    "if db_pwd == hashed_pwd:\r\n",
    "    print('Login')\r\n",
    "else:\r\n",
    "    print('비밀번호가 틀렸습니다.')"
   ],
   "outputs": [
    {
     "output_type": "stream",
     "name": "stdout",
     "text": [
      "비밀번호가 틀렸습니다.\n"
     ]
    }
   ],
   "metadata": {}
  },
  {
   "cell_type": "code",
   "execution_count": 31,
   "source": [
    "uid, pwd = 'djy', 'djy21'\r\n",
    "cur.execute(sql_login,(uid,))\r\n",
    "result = cur.fetchone()\r\n",
    "if result:\r\n",
    "    db_pwd = result[1]\r\n",
    "    hashed_pwd = gen_pwd(pwd)\r\n",
    "    if db_pwd==hashed_pwd:\r\n",
    "        print('Login')\r\n",
    "    else:\r\n",
    "        print('비밀번호가 틀렸습니다.')\r\n",
    "else:\r\n",
    "    print('Bad uid')"
   ],
   "outputs": [
    {
     "output_type": "stream",
     "name": "stdout",
     "text": [
      "비밀번호가 틀렸습니다.\n"
     ]
    }
   ],
   "metadata": {}
  },
  {
   "cell_type": "markdown",
   "source": [
    "#### 예외 처리를 통해 해결하는 경우"
   ],
   "metadata": {}
  },
  {
   "cell_type": "code",
   "execution_count": 32,
   "source": [
    "uid, pwd = 'djy', 'djy21'\r\n",
    "cur.execute(sql_login,(uid,))\r\n",
    "result = cur.fetchone()\r\n",
    "try:\r\n",
    "    if result:\r\n",
    "        db_pwd = result[1]\r\n",
    "        hashed_pwd = gen_pwd(pwd)\r\n",
    "        if db_pwd==hashed_pwd:\r\n",
    "            print('Login')\r\n",
    "        else:\r\n",
    "            print('비밀번호가 틀렸습니다.')\r\n",
    "except:\r\n",
    "    print('Bad uid')"
   ],
   "outputs": [
    {
     "output_type": "stream",
     "name": "stdout",
     "text": [
      "비밀번호가 틀렸습니다.\n"
     ]
    }
   ],
   "metadata": {}
  },
  {
   "cell_type": "markdown",
   "source": [
    "### 마무리"
   ],
   "metadata": {}
  },
  {
   "cell_type": "code",
   "execution_count": 33,
   "source": [
    "cur.close()\r\n",
    "conn.close()"
   ],
   "outputs": [],
   "metadata": {}
  }
 ],
 "metadata": {
  "orig_nbformat": 4,
  "language_info": {
   "name": "python",
   "version": "3.8.10",
   "mimetype": "text/x-python",
   "codemirror_mode": {
    "name": "ipython",
    "version": 3
   },
   "pygments_lexer": "ipython3",
   "nbconvert_exporter": "python",
   "file_extension": ".py"
  },
  "kernelspec": {
   "name": "python3",
   "display_name": "Python 3.8.10 64-bit ('base': conda)"
  },
  "interpreter": {
   "hash": "acbbfebbbdf654efa85aa18169a14b54796a806b8c18a3c243660030e08aa454"
  }
 },
 "nbformat": 4,
 "nbformat_minor": 2
}