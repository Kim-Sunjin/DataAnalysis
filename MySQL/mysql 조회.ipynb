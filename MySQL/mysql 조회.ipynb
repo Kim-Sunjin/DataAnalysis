{
 "cells": [
  {
   "cell_type": "markdown",
   "source": [
    "# MYSQL - 조회하는 방법"
   ],
   "metadata": {}
  },
  {
   "cell_type": "code",
   "execution_count": 1,
   "source": [
    "import pandas as pd\r\n",
    "import json"
   ],
   "outputs": [],
   "metadata": {}
  },
  {
   "cell_type": "code",
   "execution_count": 2,
   "source": [
    "with open('mysql.json', 'r') as file:\r\n",
    "    config_str = file.read()\r\n",
    "config = json.loads(config_str)"
   ],
   "outputs": [],
   "metadata": {}
  },
  {
   "cell_type": "code",
   "execution_count": 3,
   "source": [
    "import pymysql\r\n",
    "conn = pymysql.connect(\r\n",
    "    host = config['host'],\r\n",
    "    user = config['user'],\r\n",
    "    password = config['password'],\r\n",
    "    database = config['database'],\r\n",
    "    port = config['port']\r\n",
    ")"
   ],
   "outputs": [],
   "metadata": {}
  },
  {
   "cell_type": "code",
   "execution_count": 10,
   "source": [
    "sql_select = '''SELECT uid, uname, email,\r\n",
    "DATE_FORMAT(reg_date, '%T-%m-%d %H:%i') AS reg_date\r\n",
    "FROM users WHERE is_Deleted=0 order BY reg_date;\r\n",
    "'''"
   ],
   "outputs": [],
   "metadata": {}
  },
  {
   "cell_type": "code",
   "execution_count": 11,
   "source": [
    "cur = conn.cursor()\r\n",
    "cur.execute(sql_select)\r\n",
    "row = cur.fetchone()\r\n",
    "row"
   ],
   "outputs": [
    {
     "output_type": "execute_result",
     "data": {
      "text/plain": [
       "('admin', '관리자', None, '04:28:22-08-25 04:28')"
      ]
     },
     "metadata": {},
     "execution_count": 11
    }
   ],
   "metadata": {}
  },
  {
   "cell_type": "markdown",
   "source": [
    "### 여러건 조회"
   ],
   "metadata": {}
  },
  {
   "cell_type": "code",
   "execution_count": 12,
   "source": [
    "cur.execute(sql_select)\r\n",
    "rows = cur.fetchmany(3)\r\n",
    "rows"
   ],
   "outputs": [
    {
     "output_type": "execute_result",
     "data": {
      "text/plain": [
       "(('admin', '관리자', None, '04:28:22-08-25 04:28'),\n",
       " ('eskim', '김은숙', None, '04:37:13-08-25 04:37'),\n",
       " ('wjlee', '이우정', None, '04:37:13-08-25 04:37'))"
      ]
     },
     "metadata": {},
     "execution_count": 12
    }
   ],
   "metadata": {}
  },
  {
   "cell_type": "code",
   "execution_count": 13,
   "source": [
    "rows = cur.fetchall()\r\n",
    "rows"
   ],
   "outputs": [
    {
     "output_type": "execute_result",
     "data": {
      "text/plain": [
       "(('djy', '대조영', None, '04:46:54-08-25 04:46'),\n",
       " ('gdhong', '홍길동', None, '05:05:49-08-25 05:05'),\n",
       " ('rjh', '류제홍', None, '05:05:49-08-25 05:05'),\n",
       " ('mji', '이미주', None, '05:08:58-08-25 05:08'),\n",
       " ('twonkim', '김태원', None, '05:08:58-08-25 05:08'))"
      ]
     },
     "metadata": {},
     "execution_count": 13
    }
   ],
   "metadata": {}
  },
  {
   "cell_type": "code",
   "execution_count": 14,
   "source": [
    "cur.execute(sql_select)\r\n",
    "for row in cur:\r\n",
    "    print(row)"
   ],
   "outputs": [
    {
     "output_type": "stream",
     "name": "stdout",
     "text": [
      "('admin', '관리자', None, '04:28:22-08-25 04:28')\n",
      "('eskim', '김은숙', None, '04:37:13-08-25 04:37')\n",
      "('wjlee', '이우정', None, '04:37:13-08-25 04:37')\n",
      "('djy', '대조영', None, '04:46:54-08-25 04:46')\n",
      "('gdhong', '홍길동', None, '05:05:49-08-25 05:05')\n",
      "('rjh', '류제홍', None, '05:05:49-08-25 05:05')\n",
      "('mji', '이미주', None, '05:08:58-08-25 05:08')\n",
      "('twonkim', '김태원', None, '05:08:58-08-25 05:08')\n"
     ]
    }
   ],
   "metadata": {}
  },
  {
   "cell_type": "markdown",
   "source": [
    "### 데이터 검색"
   ],
   "metadata": {}
  },
  {
   "cell_type": "code",
   "execution_count": 16,
   "source": [
    "uid = 'eskim'\r\n",
    "sql_search = '''\r\n",
    "    SELECT uid, uname, email,\r\n",
    "    DATE_FORMAT(reg_date, '%%T-%%m-%%d %%H:%%i') AS reg_date\r\n",
    "    FROM users WHERE is_deleted =0 AND uid=%s;\r\n",
    "'''"
   ],
   "outputs": [],
   "metadata": {}
  },
  {
   "cell_type": "code",
   "execution_count": 21,
   "source": [
    "cur = conn.cursor()\r\n",
    "cur.execute(sql_search, (uid,))\r\n",
    "result = cur.fetchone()\r\n",
    "result"
   ],
   "outputs": [
    {
     "output_type": "execute_result",
     "data": {
      "text/plain": [
       "('eskim', '김은숙', None, '04:37:13-08-25 04:37')"
      ]
     },
     "metadata": {},
     "execution_count": 21
    }
   ],
   "metadata": {}
  },
  {
   "cell_type": "markdown",
   "source": [
    "### 데이터가 없는 경우"
   ],
   "metadata": {}
  },
  {
   "cell_type": "code",
   "execution_count": 22,
   "source": [
    "uid = 'park'\r\n",
    "cur = conn.cursor()\r\n",
    "cur.execute(sql_search,(uid,))\r\n",
    "result = cur.fetchone()"
   ],
   "outputs": [],
   "metadata": {}
  },
  {
   "cell_type": "code",
   "execution_count": 23,
   "source": [
    "if result:\r\n",
    "    print(result)\r\n",
    "else:\r\n",
    "    print(f'uid={uid}인 사용자는 없음')"
   ],
   "outputs": [
    {
     "output_type": "stream",
     "name": "stdout",
     "text": [
      "uid=park인 사용자는 없음\n"
     ]
    }
   ],
   "metadata": {}
  },
  {
   "cell_type": "code",
   "execution_count": null,
   "source": [],
   "outputs": [],
   "metadata": {}
  }
 ],
 "metadata": {
  "orig_nbformat": 4,
  "language_info": {
   "name": "python",
   "version": "3.8.10",
   "mimetype": "text/x-python",
   "codemirror_mode": {
    "name": "ipython",
    "version": 3
   },
   "pygments_lexer": "ipython3",
   "nbconvert_exporter": "python",
   "file_extension": ".py"
  },
  "kernelspec": {
   "name": "python3",
   "display_name": "Python 3.8.10 64-bit ('base': conda)"
  },
  "interpreter": {
   "hash": "acbbfebbbdf654efa85aa18169a14b54796a806b8c18a3c243660030e08aa454"
  }
 },
 "nbformat": 4,
 "nbformat_minor": 2
}