{
 "cells": [
  {
   "cell_type": "code",
   "execution_count": 25,
   "source": [
    "import pandas as pd\r\n",
    "import json"
   ],
   "outputs": [],
   "metadata": {}
  },
  {
   "cell_type": "code",
   "execution_count": 26,
   "source": [
    "with open('mysql.json', 'r') as file:\r\n",
    "    config_str = file.read()\r\n",
    "config = json.loads(config_str)"
   ],
   "outputs": [],
   "metadata": {}
  },
  {
   "cell_type": "code",
   "execution_count": 27,
   "source": [
    "import pymysql\r\n",
    "conn = pymysql.connect(\r\n",
    "    host = config['host'],\r\n",
    "    user = config['user'],\r\n",
    "    password = config['password'],\r\n",
    "    database = config['database'],\r\n",
    "    port = config['port']\r\n",
    ")"
   ],
   "outputs": [],
   "metadata": {}
  },
  {
   "cell_type": "code",
   "execution_count": 4,
   "source": [
    "conn = pymysql.connect(**config)"
   ],
   "outputs": [],
   "metadata": {}
  },
  {
   "cell_type": "code",
   "execution_count": 28,
   "source": [
    "import random\r\n",
    "random.seed(2021)"
   ],
   "outputs": [],
   "metadata": {}
  },
  {
   "cell_type": "markdown",
   "source": [
    "## products table 생성"
   ],
   "metadata": {}
  },
  {
   "cell_type": "code",
   "execution_count": 29,
   "source": [
    "cur = conn.cursor()\r\n",
    "sql_table = '''\r\n",
    "    CREATE TABLE if NOT EXISTS products(\r\n",
    "    pid INT PRIMARY KEY AUTO_INCREMENT,\r\n",
    "    pname VARCHAR(40) NOT NULL,\r\n",
    "    pprice INT UNSIGNED NOT NULL,\r\n",
    "    pcategory VARCHAR(20) NOT NULL,\r\n",
    "    pcost INT UNSIGNED NOT NULL\r\n",
    ") AUTO_INCREMENT=11;\r\n",
    "'''"
   ],
   "outputs": [],
   "metadata": {}
  },
  {
   "cell_type": "code",
   "execution_count": 30,
   "source": [
    "cur.execute(sql_table)"
   ],
   "outputs": [
    {
     "output_type": "execute_result",
     "data": {
      "text/plain": [
       "0"
      ]
     },
     "metadata": {},
     "execution_count": 30
    }
   ],
   "metadata": {}
  },
  {
   "cell_type": "code",
   "execution_count": 31,
   "source": [
    "# 제품 리스트\r\n",
    "electric_products = ['삼성노트북','LG노트북','레노버노트북','Apple노트북','삼성스마트폰','아이폰','헤드셋','스피커','마우스','키보드']\r\n",
    "car_products = ['블랙박스','내비게이션','하이패스','후방카메라','자동차TV','카오디오','핸즈프리','헤드유닛','방진매트','윤활방청제']\r\n",
    "sport_products = ['스포츠의류','운동화','수영','구기','라켓','골프','자전거','보드','캠핑','낚시']"
   ],
   "outputs": [],
   "metadata": {}
  },
  {
   "cell_type": "code",
   "execution_count": 32,
   "source": [
    "sql = '''INSERT INTO products(pname, pprice, pcategory,pcost) VALUES(%s,%s,%s,%s);'''\r\n",
    "category = ['전자제품','자동차용품','스포츠용품']\r\n",
    "for i, items in enumerate([electric_products,car_products,sport_products]):\r\n",
    "    for item in items:\r\n",
    "        price = random.randint(10,999)*100\r\n",
    "        rate = random.randint(89,95)\r\n",
    "        cost = int(round(price*rate/1000)*10)\r\n",
    "        cur.execute(sql,(item,price,category[i],cost))\r\n",
    "\r\n",
    "conn.commit()"
   ],
   "outputs": [],
   "metadata": {}
  },
  {
   "cell_type": "code",
   "execution_count": 33,
   "source": [
    "sql = '''\r\n",
    "    CREATE TABLE if NOT EXISTS sales(\r\n",
    "    sid INT PRIMARY KEY auto_increment,\r\n",
    "    sdate DATE NOT NULL,\r\n",
    "    scompany VARCHAR(20) NOT NULL,\r\n",
    "    spid INT NOT NULL,\r\n",
    "    sunit INT NOT NULL,\r\n",
    "    FOREIGN KEY(spid) REFERENCES products(pid)\r\n",
    ") AUTO_INCREMENT=101;\r\n",
    "'''"
   ],
   "outputs": [],
   "metadata": {}
  },
  {
   "cell_type": "code",
   "execution_count": 34,
   "source": [
    "cur.execute(sql)"
   ],
   "outputs": [
    {
     "output_type": "execute_result",
     "data": {
      "text/plain": [
       "0"
      ]
     },
     "metadata": {},
     "execution_count": 34
    }
   ],
   "metadata": {}
  },
  {
   "cell_type": "code",
   "execution_count": 35,
   "source": [
    "sql_sale_insert = '''\r\n",
    "    INSERT INTO sales VALUES(DEFAULT,%s,%s,%s,%s);\r\n",
    "'''"
   ],
   "outputs": [],
   "metadata": {}
  },
  {
   "cell_type": "code",
   "execution_count": 36,
   "source": [
    "company_list = ['삼성','LG','한화','포스코','GS']\r\n",
    "for i in range(1,13):\r\n",
    "    if i in [1,3,5,7,8,10,12]:\r\n",
    "        for k in range(10):\r\n",
    "            date = f'2021-{i}-{random.randint(1,31)}'\r\n",
    "            company = random.choice(company_list)\r\n",
    "            unit = random.randint(1,20)\r\n",
    "            pid = random.randint(11,40)\r\n",
    "            cur.execute(sql_sale_insert,(date,company,pid,unit))\r\n",
    "    elif i ==2:\r\n",
    "        for k in range(10):\r\n",
    "            date = f'2021-{i}-{random.randint(1,29)}'\r\n",
    "            company = random.choice(company_list)\r\n",
    "            unit = random.randint(1,20)\r\n",
    "            pid = random.randint(11,40)\r\n",
    "            cur.execute(sql_sale_insert,(date,company,pid,unit))\r\n",
    "    else:\r\n",
    "        for k in range(10):\r\n",
    "            date = f'2021-{i}-{random.randint(1,30)}'\r\n",
    "            company = random.choice(company_list)\r\n",
    "            unit = random.randint(1,20)\r\n",
    "            pid = random.randint(11,40)\r\n",
    "            cur.execute(sql_sale_insert,(date,company,pid,unit))"
   ],
   "outputs": [],
   "metadata": {}
  },
  {
   "cell_type": "code",
   "execution_count": 37,
   "source": [
    "conn.commit()"
   ],
   "outputs": [],
   "metadata": {}
  },
  {
   "cell_type": "code",
   "execution_count": 38,
   "source": [
    "sql = '''\r\n",
    "    CREATE VIEW sales_book as\r\n",
    "    SELECT sid, sdate, scompany, pid, pname, pcategory, pprice, sunit, pcost,\r\n",
    "    pprice*sunit AS revenue, (pprice-pcost)*sunit AS profit\r\n",
    "    FROM sales\r\n",
    "    JOIN products\r\n",
    "    ON sales.spid = products.pid\r\n",
    "    ORDER BY sdate;\r\n",
    "'''"
   ],
   "outputs": [],
   "metadata": {}
  },
  {
   "cell_type": "code",
   "execution_count": 39,
   "source": [
    "cur = conn.cursor()\r\n",
    "cur.execute(sql)"
   ],
   "outputs": [
    {
     "output_type": "execute_result",
     "data": {
      "text/plain": [
       "0"
      ]
     },
     "metadata": {},
     "execution_count": 39
    }
   ],
   "metadata": {}
  },
  {
   "cell_type": "code",
   "execution_count": 40,
   "source": [
    "sql = 'select * from sales_book'\r\n",
    "cur.execute(sql)\r\n",
    "results = cur.fetchall()"
   ],
   "outputs": [],
   "metadata": {}
  },
  {
   "cell_type": "code",
   "execution_count": 41,
   "source": [
    "df = pd.DataFrame(results)\r\n",
    "df.head()"
   ],
   "outputs": [
    {
     "output_type": "execute_result",
     "data": {
      "text/plain": [
       "    0           1    2   3      4      5      6   7      8        9       10\n",
       "0  103  2021-01-01   GS  17    헤드셋   전자제품   7500   8   6820    60000    5440\n",
       "1  107  2021-01-03   삼성  39     캠핑  스포츠용품  49100   6  43700   294600   32400\n",
       "2  109  2021-01-05  포스코  35     라켓  스포츠용품  82900  13  76270  1077700   86190\n",
       "3  101  2021-01-08  포스코  20    키보드   전자제품  94500  16  85050  1512000  151200\n",
       "4  110  2021-01-09  포스코  31  스포츠의류  스포츠용품  99000   6  94050   594000   29700"
      ],
      "text/html": [
       "<div>\n",
       "<style scoped>\n",
       "    .dataframe tbody tr th:only-of-type {\n",
       "        vertical-align: middle;\n",
       "    }\n",
       "\n",
       "    .dataframe tbody tr th {\n",
       "        vertical-align: top;\n",
       "    }\n",
       "\n",
       "    .dataframe thead th {\n",
       "        text-align: right;\n",
       "    }\n",
       "</style>\n",
       "<table border=\"1\" class=\"dataframe\">\n",
       "  <thead>\n",
       "    <tr style=\"text-align: right;\">\n",
       "      <th></th>\n",
       "      <th>0</th>\n",
       "      <th>1</th>\n",
       "      <th>2</th>\n",
       "      <th>3</th>\n",
       "      <th>4</th>\n",
       "      <th>5</th>\n",
       "      <th>6</th>\n",
       "      <th>7</th>\n",
       "      <th>8</th>\n",
       "      <th>9</th>\n",
       "      <th>10</th>\n",
       "    </tr>\n",
       "  </thead>\n",
       "  <tbody>\n",
       "    <tr>\n",
       "      <th>0</th>\n",
       "      <td>103</td>\n",
       "      <td>2021-01-01</td>\n",
       "      <td>GS</td>\n",
       "      <td>17</td>\n",
       "      <td>헤드셋</td>\n",
       "      <td>전자제품</td>\n",
       "      <td>7500</td>\n",
       "      <td>8</td>\n",
       "      <td>6820</td>\n",
       "      <td>60000</td>\n",
       "      <td>5440</td>\n",
       "    </tr>\n",
       "    <tr>\n",
       "      <th>1</th>\n",
       "      <td>107</td>\n",
       "      <td>2021-01-03</td>\n",
       "      <td>삼성</td>\n",
       "      <td>39</td>\n",
       "      <td>캠핑</td>\n",
       "      <td>스포츠용품</td>\n",
       "      <td>49100</td>\n",
       "      <td>6</td>\n",
       "      <td>43700</td>\n",
       "      <td>294600</td>\n",
       "      <td>32400</td>\n",
       "    </tr>\n",
       "    <tr>\n",
       "      <th>2</th>\n",
       "      <td>109</td>\n",
       "      <td>2021-01-05</td>\n",
       "      <td>포스코</td>\n",
       "      <td>35</td>\n",
       "      <td>라켓</td>\n",
       "      <td>스포츠용품</td>\n",
       "      <td>82900</td>\n",
       "      <td>13</td>\n",
       "      <td>76270</td>\n",
       "      <td>1077700</td>\n",
       "      <td>86190</td>\n",
       "    </tr>\n",
       "    <tr>\n",
       "      <th>3</th>\n",
       "      <td>101</td>\n",
       "      <td>2021-01-08</td>\n",
       "      <td>포스코</td>\n",
       "      <td>20</td>\n",
       "      <td>키보드</td>\n",
       "      <td>전자제품</td>\n",
       "      <td>94500</td>\n",
       "      <td>16</td>\n",
       "      <td>85050</td>\n",
       "      <td>1512000</td>\n",
       "      <td>151200</td>\n",
       "    </tr>\n",
       "    <tr>\n",
       "      <th>4</th>\n",
       "      <td>110</td>\n",
       "      <td>2021-01-09</td>\n",
       "      <td>포스코</td>\n",
       "      <td>31</td>\n",
       "      <td>스포츠의류</td>\n",
       "      <td>스포츠용품</td>\n",
       "      <td>99000</td>\n",
       "      <td>6</td>\n",
       "      <td>94050</td>\n",
       "      <td>594000</td>\n",
       "      <td>29700</td>\n",
       "    </tr>\n",
       "  </tbody>\n",
       "</table>\n",
       "</div>"
      ]
     },
     "metadata": {},
     "execution_count": 41
    }
   ],
   "metadata": {}
  },
  {
   "cell_type": "code",
   "execution_count": 42,
   "source": [
    "del df[3]\r\n",
    "del df[0]"
   ],
   "outputs": [],
   "metadata": {}
  },
  {
   "cell_type": "code",
   "execution_count": 43,
   "source": [
    "df.columns = ['판매날짜','고객사','상품명','카테고리','단가','수량','원가','매출액','이익']\r\n",
    "df.head()"
   ],
   "outputs": [
    {
     "output_type": "execute_result",
     "data": {
      "text/plain": [
       "         판매날짜  고객사    상품명   카테고리     단가  수량     원가      매출액      이익\n",
       "0  2021-01-01   GS    헤드셋   전자제품   7500   8   6820    60000    5440\n",
       "1  2021-01-03   삼성     캠핑  스포츠용품  49100   6  43700   294600   32400\n",
       "2  2021-01-05  포스코     라켓  스포츠용품  82900  13  76270  1077700   86190\n",
       "3  2021-01-08  포스코    키보드   전자제품  94500  16  85050  1512000  151200\n",
       "4  2021-01-09  포스코  스포츠의류  스포츠용품  99000   6  94050   594000   29700"
      ],
      "text/html": [
       "<div>\n",
       "<style scoped>\n",
       "    .dataframe tbody tr th:only-of-type {\n",
       "        vertical-align: middle;\n",
       "    }\n",
       "\n",
       "    .dataframe tbody tr th {\n",
       "        vertical-align: top;\n",
       "    }\n",
       "\n",
       "    .dataframe thead th {\n",
       "        text-align: right;\n",
       "    }\n",
       "</style>\n",
       "<table border=\"1\" class=\"dataframe\">\n",
       "  <thead>\n",
       "    <tr style=\"text-align: right;\">\n",
       "      <th></th>\n",
       "      <th>판매날짜</th>\n",
       "      <th>고객사</th>\n",
       "      <th>상품명</th>\n",
       "      <th>카테고리</th>\n",
       "      <th>단가</th>\n",
       "      <th>수량</th>\n",
       "      <th>원가</th>\n",
       "      <th>매출액</th>\n",
       "      <th>이익</th>\n",
       "    </tr>\n",
       "  </thead>\n",
       "  <tbody>\n",
       "    <tr>\n",
       "      <th>0</th>\n",
       "      <td>2021-01-01</td>\n",
       "      <td>GS</td>\n",
       "      <td>헤드셋</td>\n",
       "      <td>전자제품</td>\n",
       "      <td>7500</td>\n",
       "      <td>8</td>\n",
       "      <td>6820</td>\n",
       "      <td>60000</td>\n",
       "      <td>5440</td>\n",
       "    </tr>\n",
       "    <tr>\n",
       "      <th>1</th>\n",
       "      <td>2021-01-03</td>\n",
       "      <td>삼성</td>\n",
       "      <td>캠핑</td>\n",
       "      <td>스포츠용품</td>\n",
       "      <td>49100</td>\n",
       "      <td>6</td>\n",
       "      <td>43700</td>\n",
       "      <td>294600</td>\n",
       "      <td>32400</td>\n",
       "    </tr>\n",
       "    <tr>\n",
       "      <th>2</th>\n",
       "      <td>2021-01-05</td>\n",
       "      <td>포스코</td>\n",
       "      <td>라켓</td>\n",
       "      <td>스포츠용품</td>\n",
       "      <td>82900</td>\n",
       "      <td>13</td>\n",
       "      <td>76270</td>\n",
       "      <td>1077700</td>\n",
       "      <td>86190</td>\n",
       "    </tr>\n",
       "    <tr>\n",
       "      <th>3</th>\n",
       "      <td>2021-01-08</td>\n",
       "      <td>포스코</td>\n",
       "      <td>키보드</td>\n",
       "      <td>전자제품</td>\n",
       "      <td>94500</td>\n",
       "      <td>16</td>\n",
       "      <td>85050</td>\n",
       "      <td>1512000</td>\n",
       "      <td>151200</td>\n",
       "    </tr>\n",
       "    <tr>\n",
       "      <th>4</th>\n",
       "      <td>2021-01-09</td>\n",
       "      <td>포스코</td>\n",
       "      <td>스포츠의류</td>\n",
       "      <td>스포츠용품</td>\n",
       "      <td>99000</td>\n",
       "      <td>6</td>\n",
       "      <td>94050</td>\n",
       "      <td>594000</td>\n",
       "      <td>29700</td>\n",
       "    </tr>\n",
       "  </tbody>\n",
       "</table>\n",
       "</div>"
      ]
     },
     "metadata": {},
     "execution_count": 43
    }
   ],
   "metadata": {}
  },
  {
   "cell_type": "code",
   "execution_count": 44,
   "source": [
    "df.to_csv('sales_book.csv', index=False)"
   ],
   "outputs": [],
   "metadata": {}
  },
  {
   "cell_type": "code",
   "execution_count": 45,
   "source": [
    "cur.close()\r\n",
    "conn.close()"
   ],
   "outputs": [],
   "metadata": {}
  }
 ],
 "metadata": {
  "orig_nbformat": 4,
  "language_info": {
   "name": "python",
   "version": "3.8.10",
   "mimetype": "text/x-python",
   "codemirror_mode": {
    "name": "ipython",
    "version": 3
   },
   "pygments_lexer": "ipython3",
   "nbconvert_exporter": "python",
   "file_extension": ".py"
  },
  "kernelspec": {
   "name": "python3",
   "display_name": "Python 3.8.10 64-bit ('base': conda)"
  },
  "interpreter": {
   "hash": "acbbfebbbdf654efa85aa18169a14b54796a806b8c18a3c243660030e08aa454"
  }
 },
 "nbformat": 4,
 "nbformat_minor": 2
}