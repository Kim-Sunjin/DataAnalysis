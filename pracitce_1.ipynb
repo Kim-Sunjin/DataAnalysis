{
 "cells": [
  {
   "cell_type": "markdown",
   "source": [
    "# 평범한 배낭\r\n",
    "- 이 문제는 아주 평범한 배낭에 관한 문제이다.\r\n",
    "\r\n",
    "한 달 후면 국가의 부름을 받게 되는 준서는 여행을 가려고 한다. 세상과의 단절을 슬퍼하며 최대한 즐기기 위한 여행이기 때문에, 가지고 다닐 배낭 또한 최대한 가치 있게 싸려고 한다.\r\n",
    "\r\n",
    "준서가 여행에 필요하다고 생각하는 N개의 물건이 있다. 각 물건은 무게 W와 가치 V를 가지는데, 해당 물건을 배낭에 넣어서 가면 준서가 V만큼 즐길 수 있다. 아직 행군을 해본 적이 없는 준서는 최대 K만큼의 무게만을 넣을 수 있는 배낭만 들고 다닐 수 있다. 준서가 최대한 즐거운 여행을 하기 위해 배낭에 넣을 수 있는 물건들의 가치의 최댓값을 알려주자.\r\n",
    "- 첫 줄에 물품의 수 N(1 ≤ N ≤ 100)과 준서가 버틸 수 있는 무게 K(1 ≤ K ≤ 100,000)가 주어진다. 두 번째 줄부터 N개의 줄에 거쳐 각 물건의 무게 W(1 ≤ W ≤ 100,000)와 해당 물건의 가치 V(0 ≤ V ≤ 1,000)가 주어진다.\r\n",
    "\r\n",
    "입력으로 주어지는 모든 수는 정수이다.\r\n",
    "- 한 줄에 배낭에 넣을 수 있는 물건들의 가치합의 최댓값을 출력한다."
   ],
   "metadata": {}
  },
  {
   "cell_type": "code",
   "execution_count": 20,
   "source": [
    "def comb(population, num):\r\n",
    "    ans = []\r\n",
    "    if num > len(population):\r\n",
    "        return ans\r\n",
    "    if num ==1:\r\n",
    "        for i in population:\r\n",
    "            ans.append([i])\r\n",
    "    elif num>1:\r\n",
    "        for i in range(len(population)-num+1):\r\n",
    "            for temp in comb(population[i+1:],num-1):\r\n",
    "                ans.append([population[i]]+temp)\r\n",
    "    return ans"
   ],
   "outputs": [],
   "metadata": {}
  },
  {
   "cell_type": "code",
   "execution_count": 24,
   "source": [
    "N, K = list(map(int, input().split()))\r\n",
    "bag = []\r\n",
    "values = []\r\n",
    "for i in range(N):\r\n",
    "    bag.append(list(map(int,input().split())))\r\n",
    "\r\n",
    "for i in range(N):\r\n",
    "    weight_list = []\r\n",
    "    weight_list.append(bag[i][0])\r\n",
    "\r\n",
    "for i in range(N):\r\n",
    "    combination = comb(weight_list,i+1)\r\n",
    "    for k in range(len(combination)):\r\n",
    "        if sum(combination[i])<=K:\r\n",
    "            for index in combination[i]:\r\n",
    "                value_sum = 0\r\n",
    "                value_sum += bag[weight_list.index(index)][1]\r\n",
    "            values.append(value_sum)\r\n",
    "\r\n",
    "maximum = max(values)\r\n",
    "print(maximum)"
   ],
   "outputs": [
    {
     "output_type": "stream",
     "name": "stdout",
     "text": [
      "13\n"
     ]
    }
   ],
   "metadata": {}
  },
  {
   "cell_type": "code",
   "execution_count": null,
   "source": [],
   "outputs": [],
   "metadata": {}
  }
 ],
 "metadata": {
  "orig_nbformat": 4,
  "language_info": {
   "name": "python",
   "version": "3.8.10",
   "mimetype": "text/x-python",
   "codemirror_mode": {
    "name": "ipython",
    "version": 3
   },
   "pygments_lexer": "ipython3",
   "nbconvert_exporter": "python",
   "file_extension": ".py"
  },
  "kernelspec": {
   "name": "python3",
   "display_name": "Python 3.8.10 64-bit ('base': conda)"
  },
  "interpreter": {
   "hash": "acbbfebbbdf654efa85aa18169a14b54796a806b8c18a3c243660030e08aa454"
  }
 },
 "nbformat": 4,
 "nbformat_minor": 2
}