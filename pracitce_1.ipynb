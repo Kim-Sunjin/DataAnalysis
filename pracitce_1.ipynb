{
 "cells": [
  {
   "cell_type": "markdown",
   "source": [
    "# 평범한 배낭\r\n",
    "- 이 문제는 아주 평범한 배낭에 관한 문제이다.\r\n",
    "\r\n",
    "한 달 후면 국가의 부름을 받게 되는 준서는 여행을 가려고 한다. 세상과의 단절을 슬퍼하며 최대한 즐기기 위한 여행이기 때문에, 가지고 다닐 배낭 또한 최대한 가치 있게 싸려고 한다.\r\n",
    "\r\n",
    "준서가 여행에 필요하다고 생각하는 N개의 물건이 있다. 각 물건은 무게 W와 가치 V를 가지는데, 해당 물건을 배낭에 넣어서 가면 준서가 V만큼 즐길 수 있다. 아직 행군을 해본 적이 없는 준서는 최대 K만큼의 무게만을 넣을 수 있는 배낭만 들고 다닐 수 있다. 준서가 최대한 즐거운 여행을 하기 위해 배낭에 넣을 수 있는 물건들의 가치의 최댓값을 알려주자.\r\n",
    "- 첫 줄에 물품의 수 N(1 ≤ N ≤ 100)과 준서가 버틸 수 있는 무게 K(1 ≤ K ≤ 100,000)가 주어진다. 두 번째 줄부터 N개의 줄에 거쳐 각 물건의 무게 W(1 ≤ W ≤ 100,000)와 해당 물건의 가치 V(0 ≤ V ≤ 1,000)가 주어진다.\r\n",
    "\r\n",
    "입력으로 주어지는 모든 수는 정수이다.\r\n",
    "- 한 줄에 배낭에 넣을 수 있는 물건들의 가치합의 최댓값을 출력한다."
   ],
   "metadata": {}
  },
  {
   "cell_type": "code",
   "execution_count": 7,
   "source": [
    "def knapsack(W,wt,val,n): # W:배낭의 무게한도, wt: 각 보석의 무게, val: 각 보석의 가격, n:보석\r\n",
    "    K = [[0 for x in range(W+1)] for x in range(n+1)]\r\n",
    "    for i in range(n+1):\r\n",
    "        for w in range(W+1):\r\n",
    "            if i==0 or w==0:\r\n",
    "                K[i][w] = 0\r\n",
    "            elif wt[i-1] <= w:\r\n",
    "                K[i][w] = max(val[i-1]+K[i-1][w-wt[i-1]], K[i-1][w])  \r\n",
    "            else:\r\n",
    "                K[i][w] = K[i-1][w]\r\n",
    "    return K[n][W]"
   ],
   "outputs": [],
   "metadata": {}
  },
  {
   "cell_type": "code",
   "execution_count": 8,
   "source": [
    "wt = []\r\n",
    "val = []\r\n",
    "N, K = map(int, input().split())\r\n",
    "for i in range(N):\r\n",
    "    w, v = map(int, input().split())\r\n",
    "    wt.append(w)\r\n",
    "    val.append(v)\r\n",
    "print(knapsack(K, wt, val, N))"
   ],
   "outputs": [
    {
     "output_type": "stream",
     "name": "stdout",
     "text": [
      "14\n"
     ]
    }
   ],
   "metadata": {}
  },
  {
   "cell_type": "code",
   "execution_count": 1,
   "source": [
    "def comb(population, num):\r\n",
    "    ans = []\r\n",
    "    if num > len(population):\r\n",
    "        return ans\r\n",
    "    if num ==1:\r\n",
    "        for i in population:\r\n",
    "            ans.append([i])\r\n",
    "    elif num>1:\r\n",
    "        for i in range(len(population)-num+1):\r\n",
    "            for temp in comb(population[i+1:],num-1):\r\n",
    "                ans.append([population[i]]+temp)\r\n",
    "    return ans"
   ],
   "outputs": [],
   "metadata": {}
  },
  {
   "cell_type": "code",
   "execution_count": 2,
   "source": [
    "def find_index(data, target):\r\n",
    "    res = []\r\n",
    "    lis = data\r\n",
    "    while True:\r\n",
    "        try:\r\n",
    "            res.append(lis.index(target) + (res[-1]+1 if len(res)!=0 else 0))\r\n",
    "            lis = data[res[-1]+1:]\r\n",
    "        except:\r\n",
    "            break     \r\n",
    "    return res"
   ],
   "outputs": [],
   "metadata": {}
  },
  {
   "cell_type": "code",
   "execution_count": null,
   "source": [
    "N, K = list(map(int, input().split()))\r\n",
    "bag = []\r\n",
    "values = []\r\n",
    "for i in range(N):\r\n",
    "    bag.append(list(map(int,input().split())))\r\n",
    "\r\n",
    "for i in range(N):\r\n",
    "    weight_list = []\r\n",
    "    weight_list.append(bag[i][0])\r\n",
    "\r\n",
    "for i in range(N):\r\n",
    "    combination = comb(weight_list,i+1)\r\n",
    "    for k in range(len(combination)):\r\n",
    "        if sum(combination[i])<=K:\r\n",
    "            for index in combination[i]:\r\n",
    "                value_sum = 0\r\n",
    "                if len(find_index(combination[i],index)) != 1:\r\n",
    "                    inds = find_index(combination[i],index)\r\n",
    "                    for j in inds:\r\n",
    "                        value_sum += bag[j][1]\r\n",
    "                value_sum += bag[combination[i].index(index)][1]\r\n",
    "            values.append(value_sum)\r\n",
    "\r\n",
    "maximum = max(values)\r\n",
    "print(maximum)"
   ],
   "outputs": [],
   "metadata": {}
  }
 ],
 "metadata": {
  "orig_nbformat": 4,
  "language_info": {
   "name": "python",
   "version": "3.8.10",
   "mimetype": "text/x-python",
   "codemirror_mode": {
    "name": "ipython",
    "version": 3
   },
   "pygments_lexer": "ipython3",
   "nbconvert_exporter": "python",
   "file_extension": ".py"
  },
  "kernelspec": {
   "name": "python3",
   "display_name": "Python 3.8.10 64-bit ('base': conda)"
  },
  "interpreter": {
   "hash": "acbbfebbbdf654efa85aa18169a14b54796a806b8c18a3c243660030e08aa454"
  }
 },
 "nbformat": 4,
 "nbformat_minor": 2
}