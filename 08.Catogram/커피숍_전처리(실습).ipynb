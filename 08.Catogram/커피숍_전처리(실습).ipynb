{
  "nbformat": 4,
  "nbformat_minor": 0,
  "metadata": {
    "colab": {
      "name": "커피숍_전처리(실습).ipynb",
      "provenance": []
    },
    "kernelspec": {
      "name": "python3",
      "display_name": "Python 3"
    },
    "language_info": {
      "name": "python"
    }
  },
  "cells": [
    {
      "cell_type": "markdown",
      "metadata": {
        "id": "TCpsPa9GybhD"
      },
      "source": [
        "# 커피지수"
      ]
    },
    {
      "cell_type": "markdown",
      "metadata": {
        "id": "-_FRhMxHyd3i"
      },
      "source": [
        "## 데이터에서 커피숍 4개 데이터 추출"
      ]
    },
    {
      "cell_type": "code",
      "metadata": {
        "colab": {
          "base_uri": "https://localhost:8080/"
        },
        "id": "ieCykEbZyQYf",
        "outputId": "0c70a77c-02c2-4bc6-c22f-9f6633af75b9"
      },
      "source": [
        "from google.colab import  drive\n",
        "drive.mount('/content/mnt')"
      ],
      "execution_count": null,
      "outputs": [
        {
          "output_type": "stream",
          "name": "stdout",
          "text": [
            "Mounted at /content/mnt\n"
          ]
        }
      ]
    },
    {
      "cell_type": "code",
      "metadata": {
        "id": "W1z6KAvVznJ9"
      },
      "source": [
        "import pandas as pd"
      ],
      "execution_count": null,
      "outputs": []
    },
    {
      "cell_type": "code",
      "metadata": {
        "id": "tHhNgx64y6Ms"
      },
      "source": [
        "data_folder = '/content/mnt/MyDrive/데이터/소상공인시장진흥공단정보'"
      ],
      "execution_count": null,
      "outputs": []
    },
    {
      "cell_type": "code",
      "metadata": {
        "colab": {
          "base_uri": "https://localhost:8080/",
          "height": 1000
        },
        "id": "h7nX5Somy-y0",
        "outputId": "cdb87132-e97f-46c4-c0aa-019bab634507"
      },
      "source": [
        "df = pd.read_csv(f'{data_folder}/소상공인시장진흥공단_상가(상권)정보_서울_202106.csv')\n",
        "df = df[df.상권업종중분류코드 == 'Q12']\n",
        "df.head()"
      ],
      "execution_count": null,
      "outputs": [
        {
          "output_type": "execute_result",
          "data": {
            "text/html": [
              "<div>\n",
              "<style scoped>\n",
              "    .dataframe tbody tr th:only-of-type {\n",
              "        vertical-align: middle;\n",
              "    }\n",
              "\n",
              "    .dataframe tbody tr th {\n",
              "        vertical-align: top;\n",
              "    }\n",
              "\n",
              "    .dataframe thead th {\n",
              "        text-align: right;\n",
              "    }\n",
              "</style>\n",
              "<table border=\"1\" class=\"dataframe\">\n",
              "  <thead>\n",
              "    <tr style=\"text-align: right;\">\n",
              "      <th></th>\n",
              "      <th>상가업소번호</th>\n",
              "      <th>상호명</th>\n",
              "      <th>지점명</th>\n",
              "      <th>상권업종대분류코드</th>\n",
              "      <th>상권업종대분류명</th>\n",
              "      <th>상권업종중분류코드</th>\n",
              "      <th>상권업종중분류명</th>\n",
              "      <th>상권업종소분류코드</th>\n",
              "      <th>상권업종소분류명</th>\n",
              "      <th>표준산업분류코드</th>\n",
              "      <th>표준산업분류명</th>\n",
              "      <th>시도코드</th>\n",
              "      <th>시도명</th>\n",
              "      <th>시군구코드</th>\n",
              "      <th>시군구명</th>\n",
              "      <th>행정동코드</th>\n",
              "      <th>행정동명</th>\n",
              "      <th>법정동코드</th>\n",
              "      <th>법정동명</th>\n",
              "      <th>지번코드</th>\n",
              "      <th>대지구분코드</th>\n",
              "      <th>대지구분명</th>\n",
              "      <th>지번본번지</th>\n",
              "      <th>지번부번지</th>\n",
              "      <th>지번주소</th>\n",
              "      <th>도로명코드</th>\n",
              "      <th>도로명</th>\n",
              "      <th>건물본번지</th>\n",
              "      <th>건물부번지</th>\n",
              "      <th>건물관리번호</th>\n",
              "      <th>건물명</th>\n",
              "      <th>도로명주소</th>\n",
              "      <th>구우편번호</th>\n",
              "      <th>신우편번호</th>\n",
              "      <th>동정보</th>\n",
              "      <th>층정보</th>\n",
              "      <th>호정보</th>\n",
              "      <th>경도</th>\n",
              "      <th>위도</th>\n",
              "    </tr>\n",
              "  </thead>\n",
              "  <tbody>\n",
              "    <tr>\n",
              "      <th>28</th>\n",
              "      <td>20659878</td>\n",
              "      <td>커피빈</td>\n",
              "      <td>코리아대학로대명거리점</td>\n",
              "      <td>Q</td>\n",
              "      <td>음식</td>\n",
              "      <td>Q12</td>\n",
              "      <td>커피점/카페</td>\n",
              "      <td>Q12A01</td>\n",
              "      <td>커피전문점/카페/다방</td>\n",
              "      <td>I56220</td>\n",
              "      <td>비알콜 음료점업</td>\n",
              "      <td>11</td>\n",
              "      <td>서울특별시</td>\n",
              "      <td>11110</td>\n",
              "      <td>종로구</td>\n",
              "      <td>1111065000</td>\n",
              "      <td>혜화동</td>\n",
              "      <td>1111017200</td>\n",
              "      <td>명륜4가</td>\n",
              "      <td>1111017200200510000</td>\n",
              "      <td>1</td>\n",
              "      <td>대지</td>\n",
              "      <td>51</td>\n",
              "      <td>NaN</td>\n",
              "      <td>서울특별시 종로구 명륜4가 51</td>\n",
              "      <td>111104100032</td>\n",
              "      <td>서울특별시 종로구 대명길</td>\n",
              "      <td>25</td>\n",
              "      <td>NaN</td>\n",
              "      <td>1111017200100510000032165</td>\n",
              "      <td>NaN</td>\n",
              "      <td>서울특별시 종로구 대명길 25</td>\n",
              "      <td>110524</td>\n",
              "      <td>3078.0</td>\n",
              "      <td>NaN</td>\n",
              "      <td>3</td>\n",
              "      <td>NaN</td>\n",
              "      <td>127.000171</td>\n",
              "      <td>37.583149</td>\n",
              "    </tr>\n",
              "    <tr>\n",
              "      <th>111</th>\n",
              "      <td>20676428</td>\n",
              "      <td>요거프레소</td>\n",
              "      <td>쌍문점</td>\n",
              "      <td>Q</td>\n",
              "      <td>음식</td>\n",
              "      <td>Q12</td>\n",
              "      <td>커피점/카페</td>\n",
              "      <td>Q12A01</td>\n",
              "      <td>커피전문점/카페/다방</td>\n",
              "      <td>I56220</td>\n",
              "      <td>비알콜 음료점업</td>\n",
              "      <td>11</td>\n",
              "      <td>서울특별시</td>\n",
              "      <td>11320</td>\n",
              "      <td>도봉구</td>\n",
              "      <td>1132067000</td>\n",
              "      <td>쌍문2동</td>\n",
              "      <td>1132010500</td>\n",
              "      <td>쌍문동</td>\n",
              "      <td>1132010500200200000</td>\n",
              "      <td>1</td>\n",
              "      <td>대지</td>\n",
              "      <td>20</td>\n",
              "      <td>NaN</td>\n",
              "      <td>서울특별시 도봉구 쌍문동 20</td>\n",
              "      <td>113203109001</td>\n",
              "      <td>서울특별시 도봉구 도당로</td>\n",
              "      <td>7</td>\n",
              "      <td>NaN</td>\n",
              "      <td>1132010500100200000006625</td>\n",
              "      <td>NaN</td>\n",
              "      <td>서울특별시 도봉구 도당로 7</td>\n",
              "      <td>132030</td>\n",
              "      <td>1385.0</td>\n",
              "      <td>NaN</td>\n",
              "      <td>1</td>\n",
              "      <td>NaN</td>\n",
              "      <td>127.034746</td>\n",
              "      <td>37.658728</td>\n",
              "    </tr>\n",
              "    <tr>\n",
              "      <th>190</th>\n",
              "      <td>20695531</td>\n",
              "      <td>메머드커피</td>\n",
              "      <td>NaN</td>\n",
              "      <td>Q</td>\n",
              "      <td>음식</td>\n",
              "      <td>Q12</td>\n",
              "      <td>커피점/카페</td>\n",
              "      <td>Q12A01</td>\n",
              "      <td>커피전문점/카페/다방</td>\n",
              "      <td>I56220</td>\n",
              "      <td>비알콜 음료점업</td>\n",
              "      <td>11</td>\n",
              "      <td>서울특별시</td>\n",
              "      <td>11440</td>\n",
              "      <td>마포구</td>\n",
              "      <td>1144066000</td>\n",
              "      <td>서교동</td>\n",
              "      <td>1144012000</td>\n",
              "      <td>서교동</td>\n",
              "      <td>1144012000203270015</td>\n",
              "      <td>1</td>\n",
              "      <td>대지</td>\n",
              "      <td>327</td>\n",
              "      <td>15.0</td>\n",
              "      <td>서울특별시 마포구 서교동 327-15</td>\n",
              "      <td>114403113017</td>\n",
              "      <td>서울특별시 마포구 와우산로</td>\n",
              "      <td>149</td>\n",
              "      <td>NaN</td>\n",
              "      <td>1144012000103270015009846</td>\n",
              "      <td>NaN</td>\n",
              "      <td>서울특별시 마포구 와우산로 149</td>\n",
              "      <td>121836</td>\n",
              "      <td>4052.0</td>\n",
              "      <td>NaN</td>\n",
              "      <td>1</td>\n",
              "      <td>NaN</td>\n",
              "      <td>126.929692</td>\n",
              "      <td>37.554599</td>\n",
              "    </tr>\n",
              "    <tr>\n",
              "      <th>197</th>\n",
              "      <td>28491095</td>\n",
              "      <td>우성커피숍</td>\n",
              "      <td>NaN</td>\n",
              "      <td>Q</td>\n",
              "      <td>음식</td>\n",
              "      <td>Q12</td>\n",
              "      <td>커피점/카페</td>\n",
              "      <td>Q12A01</td>\n",
              "      <td>커피전문점/카페/다방</td>\n",
              "      <td>I56220</td>\n",
              "      <td>비알콜 음료점업</td>\n",
              "      <td>11</td>\n",
              "      <td>서울특별시</td>\n",
              "      <td>11470</td>\n",
              "      <td>양천구</td>\n",
              "      <td>1147059000</td>\n",
              "      <td>신월4동</td>\n",
              "      <td>1147010300</td>\n",
              "      <td>신월동</td>\n",
              "      <td>1147010300205140002</td>\n",
              "      <td>1</td>\n",
              "      <td>대지</td>\n",
              "      <td>514</td>\n",
              "      <td>2.0</td>\n",
              "      <td>서울특별시 양천구 신월동 514-2</td>\n",
              "      <td>114703114014</td>\n",
              "      <td>서울특별시 양천구 오목로</td>\n",
              "      <td>48</td>\n",
              "      <td>NaN</td>\n",
              "      <td>1147010300105140002010707</td>\n",
              "      <td>NaN</td>\n",
              "      <td>서울특별시 양천구 오목로 48</td>\n",
              "      <td>158090</td>\n",
              "      <td>8029.0</td>\n",
              "      <td>NaN</td>\n",
              "      <td>1</td>\n",
              "      <td>NaN</td>\n",
              "      <td>126.842935</td>\n",
              "      <td>37.522055</td>\n",
              "    </tr>\n",
              "    <tr>\n",
              "      <th>225</th>\n",
              "      <td>20815616</td>\n",
              "      <td>카페클럽</td>\n",
              "      <td>NaN</td>\n",
              "      <td>Q</td>\n",
              "      <td>음식</td>\n",
              "      <td>Q12</td>\n",
              "      <td>커피점/카페</td>\n",
              "      <td>Q12A01</td>\n",
              "      <td>커피전문점/카페/다방</td>\n",
              "      <td>I56220</td>\n",
              "      <td>비알콜 음료점업</td>\n",
              "      <td>11</td>\n",
              "      <td>서울특별시</td>\n",
              "      <td>11710</td>\n",
              "      <td>송파구</td>\n",
              "      <td>1171064100</td>\n",
              "      <td>문정1동</td>\n",
              "      <td>1171010800</td>\n",
              "      <td>문정동</td>\n",
              "      <td>1171010800200430006</td>\n",
              "      <td>1</td>\n",
              "      <td>대지</td>\n",
              "      <td>43</td>\n",
              "      <td>6.0</td>\n",
              "      <td>서울특별시 송파구 문정동 43-6</td>\n",
              "      <td>117104169068</td>\n",
              "      <td>서울특별시 송파구 동남로2길</td>\n",
              "      <td>3</td>\n",
              "      <td>6.0</td>\n",
              "      <td>1171010800100430006004404</td>\n",
              "      <td>NaN</td>\n",
              "      <td>서울특별시 송파구 동남로2길 3-6</td>\n",
              "      <td>138200</td>\n",
              "      <td>5805.0</td>\n",
              "      <td>NaN</td>\n",
              "      <td>1</td>\n",
              "      <td>NaN</td>\n",
              "      <td>127.122480</td>\n",
              "      <td>37.488907</td>\n",
              "    </tr>\n",
              "  </tbody>\n",
              "</table>\n",
              "</div>"
            ],
            "text/plain": [
              "       상가업소번호    상호명          지점명 상권업종대분류코드  ... 층정보 호정보          경도         위도\n",
              "28   20659878    커피빈  코리아대학로대명거리점         Q  ...   3 NaN  127.000171  37.583149\n",
              "111  20676428  요거프레소          쌍문점         Q  ...   1 NaN  127.034746  37.658728\n",
              "190  20695531  메머드커피          NaN         Q  ...   1 NaN  126.929692  37.554599\n",
              "197  28491095  우성커피숍          NaN         Q  ...   1 NaN  126.842935  37.522055\n",
              "225  20815616   카페클럽          NaN         Q  ...   1 NaN  127.122480  37.488907\n",
              "\n",
              "[5 rows x 39 columns]"
            ]
          },
          "metadata": {},
          "execution_count": 5
        }
      ]
    },
    {
      "cell_type": "code",
      "metadata": {
        "id": "CwtbnDEsz7PW"
      },
      "source": [
        "df = df[['상호명','지점명','시도명','시군구명','도로명주소']]"
      ],
      "execution_count": null,
      "outputs": []
    },
    {
      "cell_type": "code",
      "metadata": {
        "colab": {
          "base_uri": "https://localhost:8080/",
          "height": 204
        },
        "id": "EEZ1haS-0Evl",
        "outputId": "568e5f5d-b95e-49b3-fbb5-1cf0ae742f35"
      },
      "source": [
        "df.head()"
      ],
      "execution_count": null,
      "outputs": [
        {
          "output_type": "execute_result",
          "data": {
            "text/html": [
              "<div>\n",
              "<style scoped>\n",
              "    .dataframe tbody tr th:only-of-type {\n",
              "        vertical-align: middle;\n",
              "    }\n",
              "\n",
              "    .dataframe tbody tr th {\n",
              "        vertical-align: top;\n",
              "    }\n",
              "\n",
              "    .dataframe thead th {\n",
              "        text-align: right;\n",
              "    }\n",
              "</style>\n",
              "<table border=\"1\" class=\"dataframe\">\n",
              "  <thead>\n",
              "    <tr style=\"text-align: right;\">\n",
              "      <th></th>\n",
              "      <th>상호명</th>\n",
              "      <th>지점명</th>\n",
              "      <th>시도명</th>\n",
              "      <th>시군구명</th>\n",
              "      <th>도로명주소</th>\n",
              "    </tr>\n",
              "  </thead>\n",
              "  <tbody>\n",
              "    <tr>\n",
              "      <th>28</th>\n",
              "      <td>커피빈</td>\n",
              "      <td>코리아대학로대명거리점</td>\n",
              "      <td>서울특별시</td>\n",
              "      <td>종로구</td>\n",
              "      <td>서울특별시 종로구 대명길 25</td>\n",
              "    </tr>\n",
              "    <tr>\n",
              "      <th>111</th>\n",
              "      <td>요거프레소</td>\n",
              "      <td>쌍문점</td>\n",
              "      <td>서울특별시</td>\n",
              "      <td>도봉구</td>\n",
              "      <td>서울특별시 도봉구 도당로 7</td>\n",
              "    </tr>\n",
              "    <tr>\n",
              "      <th>190</th>\n",
              "      <td>메머드커피</td>\n",
              "      <td>NaN</td>\n",
              "      <td>서울특별시</td>\n",
              "      <td>마포구</td>\n",
              "      <td>서울특별시 마포구 와우산로 149</td>\n",
              "    </tr>\n",
              "    <tr>\n",
              "      <th>197</th>\n",
              "      <td>우성커피숍</td>\n",
              "      <td>NaN</td>\n",
              "      <td>서울특별시</td>\n",
              "      <td>양천구</td>\n",
              "      <td>서울특별시 양천구 오목로 48</td>\n",
              "    </tr>\n",
              "    <tr>\n",
              "      <th>225</th>\n",
              "      <td>카페클럽</td>\n",
              "      <td>NaN</td>\n",
              "      <td>서울특별시</td>\n",
              "      <td>송파구</td>\n",
              "      <td>서울특별시 송파구 동남로2길 3-6</td>\n",
              "    </tr>\n",
              "  </tbody>\n",
              "</table>\n",
              "</div>"
            ],
            "text/plain": [
              "       상호명          지점명    시도명 시군구명                도로명주소\n",
              "28     커피빈  코리아대학로대명거리점  서울특별시  종로구     서울특별시 종로구 대명길 25\n",
              "111  요거프레소          쌍문점  서울특별시  도봉구      서울특별시 도봉구 도당로 7\n",
              "190  메머드커피          NaN  서울특별시  마포구   서울특별시 마포구 와우산로 149\n",
              "197  우성커피숍          NaN  서울특별시  양천구     서울특별시 양천구 오목로 48\n",
              "225   카페클럽          NaN  서울특별시  송파구  서울특별시 송파구 동남로2길 3-6"
            ]
          },
          "metadata": {},
          "execution_count": 7
        }
      ]
    },
    {
      "cell_type": "code",
      "metadata": {
        "colab": {
          "base_uri": "https://localhost:8080/",
          "height": 204
        },
        "id": "Qw-CFxXa0KUg",
        "outputId": "3b1e6d05-7f2f-4e5f-c02f-863bf3c492b3"
      },
      "source": [
        "starbucks = df[df.상호명.str.contains('스타벅스|STARBUCKS|스타박스',case=False)]\n",
        "starbucks.head()"
      ],
      "execution_count": null,
      "outputs": [
        {
          "output_type": "execute_result",
          "data": {
            "text/html": [
              "<div>\n",
              "<style scoped>\n",
              "    .dataframe tbody tr th:only-of-type {\n",
              "        vertical-align: middle;\n",
              "    }\n",
              "\n",
              "    .dataframe tbody tr th {\n",
              "        vertical-align: top;\n",
              "    }\n",
              "\n",
              "    .dataframe thead th {\n",
              "        text-align: right;\n",
              "    }\n",
              "</style>\n",
              "<table border=\"1\" class=\"dataframe\">\n",
              "  <thead>\n",
              "    <tr style=\"text-align: right;\">\n",
              "      <th></th>\n",
              "      <th>상호명</th>\n",
              "      <th>지점명</th>\n",
              "      <th>시도명</th>\n",
              "      <th>시군구명</th>\n",
              "      <th>도로명주소</th>\n",
              "    </tr>\n",
              "  </thead>\n",
              "  <tbody>\n",
              "    <tr>\n",
              "      <th>1738</th>\n",
              "      <td>스타벅스</td>\n",
              "      <td>동숭로아트점</td>\n",
              "      <td>서울특별시</td>\n",
              "      <td>종로구</td>\n",
              "      <td>서울특별시 종로구 동숭길 110</td>\n",
              "    </tr>\n",
              "    <tr>\n",
              "      <th>2766</th>\n",
              "      <td>스타벅스남부터미널2점</td>\n",
              "      <td>남부터미널2점</td>\n",
              "      <td>서울특별시</td>\n",
              "      <td>서초구</td>\n",
              "      <td>서울특별시 서초구 효령로 274</td>\n",
              "    </tr>\n",
              "    <tr>\n",
              "      <th>3785</th>\n",
              "      <td>스타벅스</td>\n",
              "      <td>당산점</td>\n",
              "      <td>서울특별시</td>\n",
              "      <td>영등포구</td>\n",
              "      <td>서울특별시 영등포구 양평로 64</td>\n",
              "    </tr>\n",
              "    <tr>\n",
              "      <th>3933</th>\n",
              "      <td>스타벅스</td>\n",
              "      <td>가로수길점</td>\n",
              "      <td>서울특별시</td>\n",
              "      <td>강남구</td>\n",
              "      <td>서울특별시 강남구 논현로175길 94</td>\n",
              "    </tr>\n",
              "    <tr>\n",
              "      <th>3995</th>\n",
              "      <td>스타벅스미아사거리역점</td>\n",
              "      <td>미아사거리역점</td>\n",
              "      <td>서울특별시</td>\n",
              "      <td>강북구</td>\n",
              "      <td>서울특별시 강북구 도봉로 32</td>\n",
              "    </tr>\n",
              "  </tbody>\n",
              "</table>\n",
              "</div>"
            ],
            "text/plain": [
              "              상호명      지점명    시도명  시군구명                 도로명주소\n",
              "1738         스타벅스   동숭로아트점  서울특별시   종로구     서울특별시 종로구 동숭길 110\n",
              "2766  스타벅스남부터미널2점  남부터미널2점  서울특별시   서초구     서울특별시 서초구 효령로 274\n",
              "3785         스타벅스      당산점  서울특별시  영등포구     서울특별시 영등포구 양평로 64\n",
              "3933         스타벅스    가로수길점  서울특별시   강남구  서울특별시 강남구 논현로175길 94\n",
              "3995  스타벅스미아사거리역점  미아사거리역점  서울특별시   강북구      서울특별시 강북구 도봉로 32"
            ]
          },
          "metadata": {},
          "execution_count": 8
        }
      ]
    },
    {
      "cell_type": "code",
      "metadata": {
        "colab": {
          "base_uri": "https://localhost:8080/",
          "height": 204
        },
        "id": "bp1-Msfy0uxK",
        "outputId": "f48f658e-0de9-4539-9088-38651865b3a1"
      },
      "source": [
        "coffeebean = df[df.상호명.str.contains('커피빈|COFFEEBEAN',case=False)]\n",
        "coffeebean.head()"
      ],
      "execution_count": null,
      "outputs": [
        {
          "output_type": "execute_result",
          "data": {
            "text/html": [
              "<div>\n",
              "<style scoped>\n",
              "    .dataframe tbody tr th:only-of-type {\n",
              "        vertical-align: middle;\n",
              "    }\n",
              "\n",
              "    .dataframe tbody tr th {\n",
              "        vertical-align: top;\n",
              "    }\n",
              "\n",
              "    .dataframe thead th {\n",
              "        text-align: right;\n",
              "    }\n",
              "</style>\n",
              "<table border=\"1\" class=\"dataframe\">\n",
              "  <thead>\n",
              "    <tr style=\"text-align: right;\">\n",
              "      <th></th>\n",
              "      <th>상호명</th>\n",
              "      <th>지점명</th>\n",
              "      <th>시도명</th>\n",
              "      <th>시군구명</th>\n",
              "      <th>도로명주소</th>\n",
              "    </tr>\n",
              "  </thead>\n",
              "  <tbody>\n",
              "    <tr>\n",
              "      <th>28</th>\n",
              "      <td>커피빈</td>\n",
              "      <td>코리아대학로대명거리점</td>\n",
              "      <td>서울특별시</td>\n",
              "      <td>종로구</td>\n",
              "      <td>서울특별시 종로구 대명길 25</td>\n",
              "    </tr>\n",
              "    <tr>\n",
              "      <th>316</th>\n",
              "      <td>커피빈코리아낙성대역점</td>\n",
              "      <td>코리아낙성대역점</td>\n",
              "      <td>서울특별시</td>\n",
              "      <td>관악구</td>\n",
              "      <td>서울특별시 관악구 남부순환로 1909</td>\n",
              "    </tr>\n",
              "    <tr>\n",
              "      <th>1470</th>\n",
              "      <td>커피빈</td>\n",
              "      <td>코리아강남역랭기지타워점</td>\n",
              "      <td>서울특별시</td>\n",
              "      <td>강남구</td>\n",
              "      <td>서울특별시 강남구 테헤란로4길 28</td>\n",
              "    </tr>\n",
              "    <tr>\n",
              "      <th>1491</th>\n",
              "      <td>커피빈</td>\n",
              "      <td>코리아청담성당점</td>\n",
              "      <td>서울특별시</td>\n",
              "      <td>강남구</td>\n",
              "      <td>서울특별시 강남구 삼성로 716</td>\n",
              "    </tr>\n",
              "    <tr>\n",
              "      <th>1506</th>\n",
              "      <td>커피빈</td>\n",
              "      <td>코리아청담에스점</td>\n",
              "      <td>서울특별시</td>\n",
              "      <td>강남구</td>\n",
              "      <td>서울특별시 강남구 압구정로 461</td>\n",
              "    </tr>\n",
              "  </tbody>\n",
              "</table>\n",
              "</div>"
            ],
            "text/plain": [
              "              상호명           지점명    시도명 시군구명                 도로명주소\n",
              "28            커피빈   코리아대학로대명거리점  서울특별시  종로구      서울특별시 종로구 대명길 25\n",
              "316   커피빈코리아낙성대역점      코리아낙성대역점  서울특별시  관악구  서울특별시 관악구 남부순환로 1909\n",
              "1470          커피빈  코리아강남역랭기지타워점  서울특별시  강남구   서울특별시 강남구 테헤란로4길 28\n",
              "1491          커피빈      코리아청담성당점  서울특별시  강남구     서울특별시 강남구 삼성로 716\n",
              "1506          커피빈      코리아청담에스점  서울특별시  강남구    서울특별시 강남구 압구정로 461"
            ]
          },
          "metadata": {},
          "execution_count": 9
        }
      ]
    },
    {
      "cell_type": "code",
      "metadata": {
        "colab": {
          "base_uri": "https://localhost:8080/",
          "height": 204
        },
        "id": "22sk0Gvn1JYs",
        "outputId": "44379a50-5738-40f1-80bd-00ad668674df"
      },
      "source": [
        "ed = df[df.상호명.str.contains('이디야|이디아|EDIYA',case=False)]\n",
        "ed.head()"
      ],
      "execution_count": null,
      "outputs": [
        {
          "output_type": "execute_result",
          "data": {
            "text/html": [
              "<div>\n",
              "<style scoped>\n",
              "    .dataframe tbody tr th:only-of-type {\n",
              "        vertical-align: middle;\n",
              "    }\n",
              "\n",
              "    .dataframe tbody tr th {\n",
              "        vertical-align: top;\n",
              "    }\n",
              "\n",
              "    .dataframe thead th {\n",
              "        text-align: right;\n",
              "    }\n",
              "</style>\n",
              "<table border=\"1\" class=\"dataframe\">\n",
              "  <thead>\n",
              "    <tr style=\"text-align: right;\">\n",
              "      <th></th>\n",
              "      <th>상호명</th>\n",
              "      <th>지점명</th>\n",
              "      <th>시도명</th>\n",
              "      <th>시군구명</th>\n",
              "      <th>도로명주소</th>\n",
              "    </tr>\n",
              "  </thead>\n",
              "  <tbody>\n",
              "    <tr>\n",
              "      <th>1272</th>\n",
              "      <td>이디야커피</td>\n",
              "      <td>신길역점</td>\n",
              "      <td>서울특별시</td>\n",
              "      <td>영등포구</td>\n",
              "      <td>서울특별시 영등포구 영등포로 353</td>\n",
              "    </tr>\n",
              "    <tr>\n",
              "      <th>1411</th>\n",
              "      <td>이디야커피</td>\n",
              "      <td>라이프점</td>\n",
              "      <td>서울특별시</td>\n",
              "      <td>영등포구</td>\n",
              "      <td>서울특별시 영등포구 63로 40</td>\n",
              "    </tr>\n",
              "    <tr>\n",
              "      <th>2433</th>\n",
              "      <td>이디야커피양재AT점</td>\n",
              "      <td>양재AT점</td>\n",
              "      <td>서울특별시</td>\n",
              "      <td>서초구</td>\n",
              "      <td>서울특별시 서초구 동산로 3</td>\n",
              "    </tr>\n",
              "    <tr>\n",
              "      <th>2690</th>\n",
              "      <td>이디아커피</td>\n",
              "      <td>NaN</td>\n",
              "      <td>서울특별시</td>\n",
              "      <td>강동구</td>\n",
              "      <td>서울특별시 강동구 성내로6길 20</td>\n",
              "    </tr>\n",
              "    <tr>\n",
              "      <th>2785</th>\n",
              "      <td>이디야커피</td>\n",
              "      <td>시흥점</td>\n",
              "      <td>서울특별시</td>\n",
              "      <td>금천구</td>\n",
              "      <td>서울특별시 금천구 금하로 750</td>\n",
              "    </tr>\n",
              "  </tbody>\n",
              "</table>\n",
              "</div>"
            ],
            "text/plain": [
              "             상호명    지점명    시도명  시군구명                도로명주소\n",
              "1272       이디야커피   신길역점  서울특별시  영등포구  서울특별시 영등포구 영등포로 353\n",
              "1411       이디야커피   라이프점  서울특별시  영등포구    서울특별시 영등포구 63로 40\n",
              "2433  이디야커피양재AT점  양재AT점  서울특별시   서초구      서울특별시 서초구 동산로 3\n",
              "2690       이디아커피    NaN  서울특별시   강동구   서울특별시 강동구 성내로6길 20\n",
              "2785       이디야커피    시흥점  서울특별시   금천구    서울특별시 금천구 금하로 750"
            ]
          },
          "metadata": {},
          "execution_count": 10
        }
      ]
    },
    {
      "cell_type": "code",
      "metadata": {
        "colab": {
          "base_uri": "https://localhost:8080/",
          "height": 204
        },
        "id": "vK60-UHd1dLB",
        "outputId": "23c670dc-d5d2-4e66-fd66-ce5448522c6c"
      },
      "source": [
        "pack = df[df.상호명.str.contains('빽다방|PACKSCOFFEE' ,case=False)]\n",
        "pack.head()"
      ],
      "execution_count": null,
      "outputs": [
        {
          "output_type": "execute_result",
          "data": {
            "text/html": [
              "<div>\n",
              "<style scoped>\n",
              "    .dataframe tbody tr th:only-of-type {\n",
              "        vertical-align: middle;\n",
              "    }\n",
              "\n",
              "    .dataframe tbody tr th {\n",
              "        vertical-align: top;\n",
              "    }\n",
              "\n",
              "    .dataframe thead th {\n",
              "        text-align: right;\n",
              "    }\n",
              "</style>\n",
              "<table border=\"1\" class=\"dataframe\">\n",
              "  <thead>\n",
              "    <tr style=\"text-align: right;\">\n",
              "      <th></th>\n",
              "      <th>상호명</th>\n",
              "      <th>지점명</th>\n",
              "      <th>시도명</th>\n",
              "      <th>시군구명</th>\n",
              "      <th>도로명주소</th>\n",
              "    </tr>\n",
              "  </thead>\n",
              "  <tbody>\n",
              "    <tr>\n",
              "      <th>7607</th>\n",
              "      <td>빽다방공덕새창로점</td>\n",
              "      <td>공덕새창로점</td>\n",
              "      <td>서울특별시</td>\n",
              "      <td>마포구</td>\n",
              "      <td>서울특별시 마포구 새창로 15-1</td>\n",
              "    </tr>\n",
              "    <tr>\n",
              "      <th>8565</th>\n",
              "      <td>빽다방서초우성점</td>\n",
              "      <td>서초우성점</td>\n",
              "      <td>서울특별시</td>\n",
              "      <td>서초구</td>\n",
              "      <td>서울특별시 서초구 사임당로 181</td>\n",
              "    </tr>\n",
              "    <tr>\n",
              "      <th>19901</th>\n",
              "      <td>빽다방중계은행사거리점</td>\n",
              "      <td>중계은행사거리점</td>\n",
              "      <td>서울특별시</td>\n",
              "      <td>노원구</td>\n",
              "      <td>서울특별시 노원구 한글비석로 235</td>\n",
              "    </tr>\n",
              "    <tr>\n",
              "      <th>26972</th>\n",
              "      <td>빽다방성신여대점</td>\n",
              "      <td>성신여대점</td>\n",
              "      <td>서울특별시</td>\n",
              "      <td>성북구</td>\n",
              "      <td>서울특별시 성북구 동소문로20나길 3</td>\n",
              "    </tr>\n",
              "    <tr>\n",
              "      <th>27346</th>\n",
              "      <td>빽다방신림역1호점</td>\n",
              "      <td>신림역1호점</td>\n",
              "      <td>서울특별시</td>\n",
              "      <td>관악구</td>\n",
              "      <td>서울특별시 관악구 남부순환로 1592</td>\n",
              "    </tr>\n",
              "  </tbody>\n",
              "</table>\n",
              "</div>"
            ],
            "text/plain": [
              "               상호명       지점명    시도명 시군구명                 도로명주소\n",
              "7607     빽다방공덕새창로점    공덕새창로점  서울특별시  마포구    서울특별시 마포구 새창로 15-1\n",
              "8565      빽다방서초우성점     서초우성점  서울특별시  서초구    서울특별시 서초구 사임당로 181\n",
              "19901  빽다방중계은행사거리점  중계은행사거리점  서울특별시  노원구   서울특별시 노원구 한글비석로 235\n",
              "26972     빽다방성신여대점     성신여대점  서울특별시  성북구  서울특별시 성북구 동소문로20나길 3\n",
              "27346    빽다방신림역1호점    신림역1호점  서울특별시  관악구  서울특별시 관악구 남부순환로 1592"
            ]
          },
          "metadata": {},
          "execution_count": 15
        }
      ]
    },
    {
      "cell_type": "code",
      "metadata": {
        "colab": {
          "base_uri": "https://localhost:8080/"
        },
        "id": "pkbFSkIW1so3",
        "outputId": "7fca97f7-f7c7-46e8-c607-38cf93f3c032"
      },
      "source": [
        "len(starbucks), len(coffeebean), len(ed), len(pack)"
      ],
      "execution_count": null,
      "outputs": [
        {
          "output_type": "execute_result",
          "data": {
            "text/plain": [
              "(489, 169, 462, 126)"
            ]
          },
          "metadata": {},
          "execution_count": 16
        }
      ]
    },
    {
      "cell_type": "markdown",
      "metadata": {
        "id": "Ov2HRT912YiC"
      },
      "source": [
        "### 전국 데이터에서 4개 매장 정보 추출하기"
      ]
    },
    {
      "cell_type": "code",
      "metadata": {
        "id": "i4gPGEs32YR5"
      },
      "source": [
        "starbucks_all = pd.DataFrame(columns=['상호명','지점명','시도명','시군구명','도로명주소'])\n",
        "coffeebean_all = pd.DataFrame(columns=['상호명','지점명','시도명','시군구명','도로명주소'])\n",
        "ediya_all = pd.DataFrame(columns=['상호명','지점명','시도명','시군구명','도로명주소'])\n",
        "paik_all = pd.DataFrame(columns=['상호명','지점명','시도명','시군구명','도로명주소'])"
      ],
      "execution_count": null,
      "outputs": []
    },
    {
      "cell_type": "code",
      "metadata": {
        "colab": {
          "base_uri": "https://localhost:8080/"
        },
        "id": "6rZTF7tCzl1n",
        "outputId": "4e1e5847-0fab-459c-a37d-79930fb7abe7"
      },
      "source": [
        "from glob import glob\n",
        "for file in glob(f'{data_folder}/*.csv'):\n",
        "  df = pd.read_csv(file)\n",
        "  df = df[['상호명','지점명','시도명','시군구명','도로명주소']]\n",
        "\n",
        "  starbucks = df[df.상호명.str.contains('스타벅스|STARBUCKS|스타박스',na=False,case=False)]\n",
        "  coffeebean = df[df.상호명.str.contains('커피빈|COFFEEBEAN',na=False,case=False)]\n",
        "  ed = df[df.상호명.str.contains('이디야|이디아|EDIYA',na=False,case=False)]\n",
        "  pack = df[df.상호명.str.contains('빽다방|PACKSCOFFEE',na=False ,case=False)]\n",
        "\n",
        "  starbucks_all = pd.concat([starbucks_all, starbucks])\n",
        "  coffeebean_all = pd.concat([coffeebean_all,coffeebean])\n",
        "  ediya_all = pd.concat([ediya_all,ed])\n",
        "  paik_all = pd.concat([paik_all,pack])\n"
      ],
      "execution_count": null,
      "outputs": [
        {
          "output_type": "stream",
          "name": "stderr",
          "text": [
            "/usr/local/lib/python3.7/dist-packages/IPython/core/interactiveshell.py:2718: DtypeWarning: Columns (35) have mixed types.Specify dtype option on import or set low_memory=False.\n",
            "  interactivity=interactivity, compiler=compiler, result=result)\n"
          ]
        }
      ]
    },
    {
      "cell_type": "code",
      "metadata": {
        "colab": {
          "base_uri": "https://localhost:8080/"
        },
        "id": "6Hhz22Kl55by",
        "outputId": "af89516a-4520-451d-aeae-080157174858"
      },
      "source": [
        "len(starbucks_all), len(coffeebean_all), len(ediya_all), len(paik_all)"
      ],
      "execution_count": null,
      "outputs": [
        {
          "output_type": "execute_result",
          "data": {
            "text/plain": [
              "(1644, 362, 2446, 645)"
            ]
          },
          "metadata": {},
          "execution_count": 24
        }
      ]
    },
    {
      "cell_type": "code",
      "metadata": {
        "id": "ASQGv7RZ3_fe"
      },
      "source": [
        "!mkdir -p /content/mnt/MyDrive/result/CoffeeIndex"
      ],
      "execution_count": null,
      "outputs": []
    },
    {
      "cell_type": "code",
      "metadata": {
        "id": "CZTbP-b26S_n"
      },
      "source": [
        "result_dir = 'content/mnt/MyDrive/result/CoffeeIndex'"
      ],
      "execution_count": null,
      "outputs": []
    },
    {
      "cell_type": "code",
      "metadata": {
        "colab": {
          "base_uri": "https://localhost:8080/",
          "height": 204
        },
        "id": "dDA94Di98Ali",
        "outputId": "02cd2eda-e0a0-4ebd-f5dc-c3c1bf2e6fa7"
      },
      "source": [
        "starbucks_all.head()"
      ],
      "execution_count": 41,
      "outputs": [
        {
          "output_type": "execute_result",
          "data": {
            "text/html": [
              "<div>\n",
              "<style scoped>\n",
              "    .dataframe tbody tr th:only-of-type {\n",
              "        vertical-align: middle;\n",
              "    }\n",
              "\n",
              "    .dataframe tbody tr th {\n",
              "        vertical-align: top;\n",
              "    }\n",
              "\n",
              "    .dataframe thead th {\n",
              "        text-align: right;\n",
              "    }\n",
              "</style>\n",
              "<table border=\"1\" class=\"dataframe\">\n",
              "  <thead>\n",
              "    <tr style=\"text-align: right;\">\n",
              "      <th></th>\n",
              "      <th>상호명</th>\n",
              "      <th>지점명</th>\n",
              "      <th>시도명</th>\n",
              "      <th>시군구명</th>\n",
              "      <th>도로명주소</th>\n",
              "    </tr>\n",
              "  </thead>\n",
              "  <tbody>\n",
              "    <tr>\n",
              "      <th>3226</th>\n",
              "      <td>스타벅스강릉안목항점</td>\n",
              "      <td>강릉안목항점</td>\n",
              "      <td>강원도</td>\n",
              "      <td>강릉시</td>\n",
              "      <td>강원도 강릉시 창해로14번길 40</td>\n",
              "    </tr>\n",
              "    <tr>\n",
              "      <th>5584</th>\n",
              "      <td>스타벅스</td>\n",
              "      <td>대명델피노리조트점</td>\n",
              "      <td>강원도</td>\n",
              "      <td>고성군</td>\n",
              "      <td>강원도 고성군 토성면 미시령옛길 1153</td>\n",
              "    </tr>\n",
              "    <tr>\n",
              "      <th>7827</th>\n",
              "      <td>스타벅스춘천후평DT점</td>\n",
              "      <td>춘천후평DT점</td>\n",
              "      <td>강원도</td>\n",
              "      <td>춘천시</td>\n",
              "      <td>강원도 춘천시 후석로 318</td>\n",
              "    </tr>\n",
              "    <tr>\n",
              "      <th>9325</th>\n",
              "      <td>스타벅스</td>\n",
              "      <td>춘천명동점</td>\n",
              "      <td>강원도</td>\n",
              "      <td>춘천시</td>\n",
              "      <td>강원도 춘천시 중앙로 55</td>\n",
              "    </tr>\n",
              "    <tr>\n",
              "      <th>10764</th>\n",
              "      <td>스타벅스설악워터피아점</td>\n",
              "      <td>설악워터피아점</td>\n",
              "      <td>강원도</td>\n",
              "      <td>속초시</td>\n",
              "      <td>강원도 속초시 미시령로2983번길 88</td>\n",
              "    </tr>\n",
              "  </tbody>\n",
              "</table>\n",
              "</div>"
            ],
            "text/plain": [
              "               상호명        지점명  시도명 시군구명                   도로명주소\n",
              "3226    스타벅스강릉안목항점     강릉안목항점  강원도  강릉시      강원도 강릉시 창해로14번길 40\n",
              "5584          스타벅스  대명델피노리조트점  강원도  고성군  강원도 고성군 토성면 미시령옛길 1153\n",
              "7827   스타벅스춘천후평DT점    춘천후평DT점  강원도  춘천시         강원도 춘천시 후석로 318\n",
              "9325          스타벅스      춘천명동점  강원도  춘천시          강원도 춘천시 중앙로 55\n",
              "10764  스타벅스설악워터피아점    설악워터피아점  강원도  속초시   강원도 속초시 미시령로2983번길 88"
            ]
          },
          "metadata": {},
          "execution_count": 41
        }
      ]
    },
    {
      "cell_type": "code",
      "metadata": {
        "id": "u_Plu8fC5kQk"
      },
      "source": [
        "ediya_all.to_csv(f'/content/mnt/MyDrive/result/CoffeeIndex/이디야.csv', index=False)\n",
        "paik_all.to_csv(f'/content/mnt/MyDrive/result/CoffeeIndex/빽다방.csv', index=False)"
      ],
      "execution_count": 44,
      "outputs": []
    }
  ]
}